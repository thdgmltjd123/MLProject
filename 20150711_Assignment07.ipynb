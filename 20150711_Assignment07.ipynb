{
  "nbformat": 4,
  "nbformat_minor": 0,
  "metadata": {
    "colab": {
      "name": "20150711_Assignment07.ipynb",
      "provenance": [],
      "collapsed_sections": [],
      "authorship_tag": "ABX9TyPNeEWYz7Umu4+pgxPtyNUW",
      "include_colab_link": true
    },
    "kernelspec": {
      "name": "python3",
      "display_name": "Python 3"
    }
  },
  "cells": [
    {
      "cell_type": "markdown",
      "metadata": {
        "id": "view-in-github",
        "colab_type": "text"
      },
      "source": [
        "<a href=\"https://colab.research.google.com/github/thdgmltjd123/Assignment01/blob/master/20150711_Assignment07.ipynb\" target=\"_parent\"><img src=\"https://colab.research.google.com/assets/colab-badge.svg\" alt=\"Open In Colab\"/></a>"
      ]
    },
    {
      "cell_type": "code",
      "metadata": {
        "id": "PBccEfQP0Y-T",
        "colab_type": "code",
        "outputId": "a132a9d1-35e8-4105-a443-39fdac4a746a",
        "colab": {
          "base_uri": "https://localhost:8080/",
          "height": 54
        }
      },
      "source": [
        "#구글 드라이브와 코랩 마운트하기\n",
        "from google.colab import drive\n",
        "drive.mount('/content/drive')"
      ],
      "execution_count": 213,
      "outputs": [
        {
          "output_type": "stream",
          "text": [
            "Drive already mounted at /content/drive; to attempt to forcibly remount, call drive.mount(\"/content/drive\", force_remount=True).\n"
          ],
          "name": "stdout"
        }
      ]
    },
    {
      "cell_type": "markdown",
      "metadata": {
        "id": "l4hdmJhE0rE_",
        "colab_type": "text"
      },
      "source": [
        "# **데이터 불러오기**"
      ]
    },
    {
      "cell_type": "code",
      "metadata": {
        "id": "qhmTE-KW0qbJ",
        "colab_type": "code",
        "colab": {}
      },
      "source": [
        "import numpy as np\n",
        "import matplotlib.pyplot as plt\n",
        "\n",
        "data    = np.genfromtxt(\"/content/drive/My Drive/Colab Notebooks/data-nonlinear.txt\", delimiter=',')\n",
        "pointX  = data[:, 0].reshape(-1,1)\n",
        "pointY  = data[:, 1].reshape(-1,1)\n",
        "label   = data[:, 2].reshape(-1,1)"
      ],
      "execution_count": 0,
      "outputs": []
    },
    {
      "cell_type": "code",
      "metadata": {
        "id": "zNOkXRFY0qYz",
        "colab_type": "code",
        "colab": {}
      },
      "source": [
        "#Z 생성 함수\n",
        "def generate_z(theta,x,y):\n",
        "  li = []\n",
        "  for i in range(10):\n",
        "    for j in range(10):\n",
        "      li.append((x**i)*(y**j))\n",
        "  fxy = np.array(li).T\n",
        "  return np.dot(fxy,theta).reshape(-1,1)\n",
        "#로지스틱 함수\n",
        "def Logit(z):\n",
        "  return 1 / (1 + np.exp(-z))\n",
        "\n",
        "#loss function 구현      \n",
        "def energy(sigma, regcoef, theta):\n",
        "  return -np.mean(label*np.log(sigma + 1e-9) + (1-label)*np.log(1-sigma + 1e-9)) + (regcoef * np.sum(theta**2) / 2)"
      ],
      "execution_count": 0,
      "outputs": []
    },
    {
      "cell_type": "code",
      "metadata": {
        "id": "wv7zDIyY0qWZ",
        "colab_type": "code",
        "colab": {}
      },
      "source": [
        "#로지스틱 분류기 정의\n",
        "class LogisticClassifier:\n",
        "  #세타 값\n",
        "  theta = np.linspace(-5,5,100).astype('float64').reshape(-1,1)\n",
        "  #규제 계수를 추가한 생성자\n",
        "  def __init__(self, x, y, regcoef = 0):\n",
        "    self.length = len(x)\n",
        "    self.regcoef = regcoef\n",
        "    self.gxy = generate_z(self.theta, x, y)\n",
        "    self.sigmoid = Logit(self.gxy)\n",
        "    self.temp_energy = energy(self.sigmoid, self.regcoef, self.theta)\n",
        "  #예측함수\n",
        "  def predict(self):\n",
        "    label_pred = []\n",
        "    for i in self.sigmoid:\n",
        "      if i < 0.5:\n",
        "        label_pred.append(0)\n",
        "      else:\n",
        "        label_pred.append(1)\n",
        "    return label_pred\n",
        "  #정확도 구하는 함수\n",
        "  def accuracy(self,li):\n",
        "    self.count = 0\n",
        "    for i in range(len(li)):\n",
        "      if(li[i] == label[i]):\n",
        "        self.count+=1\n",
        "    return self.count / len(li)\n",
        "  #학습 함수\n",
        "  def fit(self, x, y, alpha):\n",
        "    li = []\n",
        "    for i in range(10):\n",
        "      for j in range(10):\n",
        "        li.append((pointX**i)*(pointY**j))\n",
        "    energy_val = [self.temp_energy]\n",
        "    accuracy_val = [0]\n",
        "    iteration = 100000\n",
        "    for i in range(iteration):\n",
        "      self.gra_theta = []\n",
        "      for j in range(100):\n",
        "        self.gra_theta.append(np.mean((self.sigmoid-label) * li[j]))\n",
        "      self.gra_theta = (np.array(self.gra_theta).reshape(-1,1)) + (self.regcoef * self.theta)\n",
        "      self.theta -= alpha * self.gra_theta\n",
        "      self.gxy = generate_z(self.theta,x,y)\n",
        "      self.sigmoid = Logit(self.gxy)\n",
        "      accuracy_val.append(self.accuracy(self.predict()))\n",
        "      self.next_energy = energy(self.sigmoid, self.regcoef,self.theta)\n",
        "      energy_val.append(self.next_energy)\n",
        "    return accuracy_val,energy_val"
      ],
      "execution_count": 0,
      "outputs": []
    },
    {
      "cell_type": "code",
      "metadata": {
        "id": "JbS3ftJr0qT6",
        "colab_type": "code",
        "colab": {}
      },
      "source": [
        "regular_coef = [0,0.005,0.1]\n",
        "accu_arr = []\n",
        "energy_arr = []\n",
        "theta_arr = []\n",
        "for i in regular_coef:\n",
        "  model = LogisticClassifier(pointX,pointY,i)\n",
        "  accuracy_val, energy_val = model.fit(pointX,pointY,3.5)\n",
        "  accu_arr.append(accuracy_val)\n",
        "  energy_arr.append(energy_val)\n",
        "  theta_arr.append(model.theta)"
      ],
      "execution_count": 0,
      "outputs": []
    },
    {
      "cell_type": "markdown",
      "metadata": {
        "id": "bMTAS0SILHfh",
        "colab_type": "text"
      },
      "source": [
        "# **plot the training data**"
      ]
    },
    {
      "cell_type": "code",
      "metadata": {
        "id": "sVkZNejGKtr-",
        "colab_type": "code",
        "outputId": "064397a1-f084-46ab-96ad-bae1d15952da",
        "colab": {
          "base_uri": "https://localhost:8080/",
          "height": 416
        }
      },
      "source": [
        "import numpy as np\n",
        "import matplotlib.pyplot as plt\n",
        "\n",
        "data    = np.genfromtxt(\"/content/drive/My Drive/Colab Notebooks/data-nonlinear.txt\", delimiter=',')\n",
        "\n",
        "pointX  = data[:, 0]\n",
        "pointY  = data[:, 1]\n",
        "label   = data[:, 2]\n",
        "\n",
        "pointX0 = pointX[label == 0]\n",
        "pointY0 = pointY[label == 0]\n",
        "\n",
        "pointX1 = pointX[label == 1]\n",
        "pointY1 = pointY[label == 1]\n",
        "\n",
        "plt.figure(figsize = (6,6))\n",
        "plt.scatter(pointX0, pointY0, c='b')\n",
        "plt.scatter(pointX1, pointY1, c='r')\n",
        "plt.tight_layout()\n",
        "plt.gca().set_aspect('equal', adjustable='box')\n",
        "plt.show()"
      ],
      "execution_count": 0,
      "outputs": [
        {
          "output_type": "display_data",
          "data": {
            "image/png": "[encoded data removed]",
            "text/plain": [
              "<Figure size 432x432 with 1 Axes>"
            ]
          },
          "metadata": {
            "tags": [],
            "needs_background": "light"
          }
        }
      ]
    },
    {
      "cell_type": "markdown",
      "metadata": {
        "id": "CtSGpy6cLSyl",
        "colab_type": "text"
      },
      "source": [
        "# **plot the training error with varying regularization parameters**"
      ]
    },
    {
      "cell_type": "code",
      "metadata": {
        "id": "AkKO5WDtKtiY",
        "colab_type": "code",
        "outputId": "9ccfa167-a9c1-4a0b-a42f-1c51cd4f070a",
        "colab": {
          "base_uri": "https://localhost:8080/",
          "height": 414
        }
      },
      "source": [
        "plt.figure(figsize = (6,6))\n",
        "plt.title(\"training error\",fontsize = 20)\n",
        "plt.xlabel(\"# of iter\",fontsize = 15)\n",
        "plt.ylabel(\"values\", fontsize = 15)\n",
        "plt.ylim([0,5])\n",
        "plt.plot(energy_arr[0],c = \"r\",label = \"overfitting\")\n",
        "plt.plot(energy_arr[1],c = \"g\",label = \"just right\")\n",
        "plt.plot(energy_arr[2],c = \"b\",label = \"underfitting\")\n",
        "plt.legend(loc = \"best\")\n",
        "plt.show()"
      ],
      "execution_count": 268,
      "outputs": [
        {
          "output_type": "display_data",
          "data": {
            "image/png": "[encoded data removed]",
            "text/plain": [
              "<Figure size 432x432 with 1 Axes>"
            ]
          },
          "metadata": {
            "tags": [],
            "needs_background": "light"
          }
        }
      ]
    },
    {
      "cell_type": "markdown",
      "metadata": {
        "id": "GB_rGuyGLjZZ",
        "colab_type": "text"
      },
      "source": [
        "# **Display the values of the chosen regularization parameters**"
      ]
    },
    {
      "cell_type": "code",
      "metadata": {
        "id": "ic_Ky5hhK92a",
        "colab_type": "code",
        "colab": {}
      },
      "source": [
        "#red 31 green 32 blue 34\n",
        "print('\\33[31m' + 'overfitting lambda = 0')\n",
        "print('\\33[32m' + 'just-right lambda = 0.005')\n",
        "print('\\33[34m' + 'underfitting lambda = 0.1')"
      ],
      "execution_count": 0,
      "outputs": []
    },
    {
      "cell_type": "markdown",
      "metadata": {
        "id": "ACAlj9ySLtbw",
        "colab_type": "text"
      },
      "source": [
        "# **Plot the training accuracy with varying regularization parameters**"
      ]
    },
    {
      "cell_type": "code",
      "metadata": {
        "id": "BkVvbCld0qRB",
        "colab_type": "code",
        "colab": {}
      },
      "source": [
        "plt.figure(figsize = (6,6))\n",
        "plt.title(\"accuracy\",fontsize = 20)\n",
        "plt.xlabel(\"# of iter\",fontsize = 15)\n",
        "plt.ylabel(\"values\", fontsize = 15)\n",
        "plt.plot(accu_arr[0],c = \"r\",label = \"overfitting\")\n",
        "plt.plot(accu_arr[1],c = \"g\",label = \"just right\")\n",
        "plt.plot(accu_arr[2],c = \"b\",label = \"underfitting\")\n",
        "plt.legend(loc = \"best\")\n",
        "plt.show()"
      ],
      "execution_count": 0,
      "outputs": []
    },
    {
      "cell_type": "markdown",
      "metadata": {
        "id": "kcce_-RzL3MN",
        "colab_type": "text"
      },
      "source": [
        "# **Display the final training accuracy with varying regularization parameters**"
      ]
    },
    {
      "cell_type": "code",
      "metadata": {
        "id": "oD9eKNrDYw4F",
        "colab_type": "code",
        "colab": {}
      },
      "source": [
        "#red 31 green 32 blue 34\n",
        "print('\\33[31m' + 'overfitting accuracy = {}%'.format(accu_arr[0][-1]*100))\n",
        "print('\\33[32m' + 'just-right accuracy = {}%'.format(accu_arr[1][-1]*100))\n",
        "print('\\33[34m' + 'underfitting accuracy = {}%'.format(accu_arr[2][-1]*100))"
      ],
      "execution_count": 0,
      "outputs": []
    },
    {
      "cell_type": "markdown",
      "metadata": {
        "id": "3bzxp2ItMJr6",
        "colab_type": "text"
      },
      "source": [
        "# **Plot the optimal classifier with varying regularization parameters superimposed on the training data**"
      ]
    },
    {
      "cell_type": "code",
      "metadata": {
        "id": "2abb5dW90p6y",
        "colab_type": "code",
        "colab": {}
      },
      "source": [
        "x_min, x_max = pointX.min()-0.2 , pointX.max()+0.05 \n",
        "y_min, y_max = pointY.min()-0.2 , pointY.max()+0.2\n",
        "xx, yy = np.meshgrid(np.arange(x_min,x_max, 0.1),\n",
        "                     np.arange(y_min,y_max, 0.1))\n",
        "\n",
        "Z1 = Logit(generate_z(theta_arr[0],xx,yy))\n",
        "Z2 = Logit(generate_z(theta_arr[1],xx,yy))\n",
        "Z3 = Logit(generate_z(theta_arr[2],xx,yy))"
      ],
      "execution_count": 0,
      "outputs": []
    },
    {
      "cell_type": "code",
      "metadata": {
        "id": "NxOWSI8xKmwu",
        "colab_type": "code",
        "colab": {}
      },
      "source": [
        "plt.figure(figsize = (6,6))\n",
        "plt.title(\"decision boundary\", fontsize = 20)\n",
        "plt.xlabel(\"X\",fontsize = 15)\n",
        "plt.ylabel(\"Y\",fontsize = 15)\n",
        "plt.contour(xx,yy,Z1,levels = [0.5], colors = \"red\")\n",
        "plt.contour(xx,yy,Z2,levels = [0.5], colors = \"green\")\n",
        "plt.contour(xx,yy,Z3,levels = [0.5], colors = \"blue\")\n",
        "plt.scatter(pointX0, pointY0, c='b')\n",
        "plt.scatter(pointX1, pointY1, c='r')\n",
        "plt.tight_layout()\n",
        "plt.gca().set_aspect('equal', adjustable='box')\n",
        "plt.show()"
      ],
      "execution_count": 0,
      "outputs": []
    },
    {
      "cell_type": "code",
      "metadata": {
        "id": "tt3WR8qUzvY7",
        "colab_type": "code",
        "colab": {}
      },
      "source": [
        ""
      ],
      "execution_count": 0,
      "outputs": []
    }
  ]
}