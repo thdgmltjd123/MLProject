{
  "nbformat": 4,
  "nbformat_minor": 0,
  "metadata": {
    "colab": {
      "name": "Assignment09_20150711.ipynb",
      "provenance": [],
      "collapsed_sections": [],
      "authorship_tag": "ABX9TyPDiP+nxgTDATMVF0ggjVpz",
      "include_colab_link": true
    },
    "kernelspec": {
      "name": "python3",
      "display_name": "Python 3"
    },
    "accelerator": "GPU"
  },
  "cells": [
    {
      "cell_type": "markdown",
      "metadata": {
        "id": "view-in-github",
        "colab_type": "text"
      },
      "source": [
        "<a href=\"https://colab.research.google.com/github/thdgmltjd123/Assignment01/blob/master/Assignment09_20150711.ipynb\" target=\"_parent\"><img src=\"https://colab.research.google.com/assets/colab-badge.svg\" alt=\"Open In Colab\"/></a>"
      ]
    },
    {
      "cell_type": "code",
      "metadata": {
        "id": "crJXycjvcKhP",
        "outputId": "5d46aa97-1b08-4090-c26f-ecbf1bdf48f3",
        "colab": {
          "base_uri": "https://localhost:8080/"
        }
      },
      "source": [
        "#구글 드라이브와 코랩 마운트하기\n",
        "from google.colab import drive\n",
        "drive.mount('/content/drive')"
      ],
      "execution_count": 23,
      "outputs": [
        {
          "output_type": "stream",
          "text": [
            "Drive already mounted at /content/drive; to attempt to forcibly remount, call drive.mount(\"/content/drive\", force_remount=True).\n"
          ],
          "name": "stdout"
        }
      ]
    },
    {
      "cell_type": "code",
      "metadata": {
        "id": "ixBtBnIOUt1Q"
      },
      "source": [
        "import torch\n",
        "import torch.nn as nn\n",
        "import torch.nn.functional as F\n",
        "import matplotlib.pyplot as plt\n",
        "%matplotlib inline\n",
        "from torchvision import transforms, datasets"
      ],
      "execution_count": 24,
      "outputs": []
    },
    {
      "cell_type": "code",
      "metadata": {
        "id": "BOk082osU7q1"
      },
      "source": [
        "transform = transforms.Compose([\n",
        "      transforms.ToTensor(),\n",
        "      transforms.Normalize((0.1307,),(0.3081,)),\n",
        "])"
      ],
      "execution_count": 25,
      "outputs": []
    },
    {
      "cell_type": "code",
      "metadata": {
        "id": "y_miJPMWU7kR"
      },
      "source": [
        "#부모클래스 nn.Module로부터 상속받는 자식클래스 classification\n",
        "class classification(nn.Module):\n",
        "  def __init__(self):\n",
        "    #부모클래스의 생성자를 이용하겠다.\n",
        "    super(classification, self).__init__()\n",
        "\n",
        "    #layer 1층 : 28*28 데이터가 20*20으로 나옴\n",
        "    #activation_function = Sigmoid\n",
        "    self.classifier1 = nn.Sequential(\n",
        "        nn.Linear(in_features = 28*28, out_features=20*20),\n",
        "        nn.Sigmoid(),\n",
        "    )\n",
        "    #layer 2층 : 20*20 데이터가 10*10으로 나옴\n",
        "    #activation_function = Sigmoid\n",
        "    self.classifier2 = nn.Sequential(\n",
        "        nn.Linear(in_features = 20*20, out_features = 10*10),\n",
        "        nn.Sigmoid(),\n",
        "    )\n",
        "    #output layer 3층 : 10*10 데이터가 10으로 나옴\n",
        "    #activation_function = LogSoftmax\n",
        "    self.classifier3 = nn.Sequential(\n",
        "        nn.Linear(in_features=10*10, out_features = 10),\n",
        "        nn.LogSoftmax(dim = 1),\n",
        "    )\n",
        "  #순전파 알고리즘\n",
        "  def forward(self, inputs):\n",
        "    x = inputs.view(inputs.size(0),-1)\n",
        "    x = self.classifier1(x)\n",
        "    x = self.classifier2(x)\n",
        "    out = self.classifier3(x)\n",
        "\n",
        "    return out"
      ],
      "execution_count": 26,
      "outputs": []
    },
    {
      "cell_type": "code",
      "metadata": {
        "id": "BR1L7m6-tvVM"
      },
      "source": [
        "#fully-connected Neural Network using Pytorch\n",
        "def fc_NN(train_loader, test_loader, epoch, learning_rate, no_cuda = False):\n",
        "  use_cuda = not no_cuda and torch.cuda.is_available()\n",
        "  device = torch.device(\"cuda\" if use_cuda else \"cpu\")\n",
        "  creterion = nn.NLLLoss()\n",
        "  Model = classification().to(device)\n",
        "  optimizer = torch.optim.SGD(Model.parameters(), lr = learning_rate)\n",
        "  train_L_iters = []\n",
        "  train_acc_iters = []\n",
        "  test_L_iters = []\n",
        "  test_acc_iters = []\n",
        "  for i in range(1,epoch+1):\n",
        "    # Train mode\n",
        "    train_loss = 0\n",
        "    train_correct = 0\n",
        "    Model.train()\n",
        "    for batch_idx,(data, target) in enumerate(train_loader):\n",
        "      #data와 target을 gpu를 사용할 수 있게 매핑\n",
        "      data, target = data.to(device), target.to(device)\n",
        "      # backward하는 과정에서 기존의 gradient값에 새로운 gradient 값을\n",
        "      # 더해주기때문에 grad값을 매 backward마다 0으로 초기화해줘야 올바른 학습이 가능\n",
        "      optimizer.zero_grad()\n",
        "      # 순전파\n",
        "      output = Model(data)\n",
        "      # reduction = (default) \"mean\"\n",
        "      loss = F.nll_loss(output,target)\n",
        "      train_loss += F.nll_loss(output,target,reduction = 'sum').item()\n",
        "      pred = output.argmax(dim = 1, keepdim = True)\n",
        "      train_correct += pred.eq(target.view_as(pred)).sum().item()\n",
        "      # 역전파\n",
        "      loss.backward()\n",
        "      optimizer.step()\n",
        "    # 에포크별 평균 트레인 로스 계산\n",
        "    train_loss /= len(train_loader.dataset)\n",
        "    train_L_iters.append(train_loss)\n",
        "    # 에포크별 평균 정확도 계산\n",
        "    accuracy =  100 * train_correct / len(train_loader.dataset)\n",
        "    train_acc_iters.append(accuracy)\n",
        "    if i % 10 == 0:\n",
        "      print(\"progress = {}, current loss = {}, current device = {}\".format(100 * i / epoch, train_loss, torch.cuda.get_device_name()))    \n",
        "    # Test Mode\n",
        "    Model.eval()\n",
        "    test_loss = 0\n",
        "    test_correct = 0\n",
        "    #torch.no_grad() 테스트 할 때, 위에서 계산한 grad를 더이상 업데이트 하지 않음.\n",
        "    with torch.no_grad():\n",
        "      for data, target in test_loader:\n",
        "        data, target = data.to(device), target.to(device)\n",
        "        output = Model(data)\n",
        "        test_loss += F.nll_loss(output, target, reduction = 'sum').item()\n",
        "        pred = output.argmax(dim = 1, keepdim = True)\n",
        "        test_correct += pred.eq(target.view_as(pred)).sum().item()\n",
        "    test_loss /= len(test_loader.dataset)\n",
        "    test_L_iters.append(test_loss)\n",
        "    accuracy = 100 * test_correct / len(test_loader.dataset)\n",
        "    test_acc_iters.append(accuracy)\n",
        "\n",
        "  return train_L_iters, train_acc_iters, test_L_iters, test_acc_iters\n",
        "    "
      ],
      "execution_count": 49,
      "outputs": []
    },
    {
      "cell_type": "code",
      "metadata": {
        "id": "5z2AqCdCU7cE",
        "outputId": "b90cc92b-f995-4d24-d21f-a9044719244c",
        "colab": {
          "base_uri": "https://localhost:8080/"
        }
      },
      "source": [
        "batch_size = [32,64,128]\n",
        "epoch = 100\n",
        "learning_rate_value = 0.01\n",
        "no_cuda = False\n",
        "batch_train_loss = []\n",
        "batch_test_loss = []\n",
        "batch_train_accuracy = []\n",
        "batch_test_accuracy = []\n",
        "data_path = '/content/drive/My Drive/Colab Notebooks'\n",
        "for b in batch_size:\n",
        "  print(\"batch_size  = {}\".format(b))\n",
        "  train_loader = torch.utils.data.DataLoader(\n",
        "      datasets.MNIST(root = data_path, train = True, \n",
        "                    download=True, transform = transform),\n",
        "                    batch_size = b,\n",
        "                    shuffle = False)\n",
        "  test_loader = torch.utils.data.DataLoader(\n",
        "      datasets.MNIST(root = data_path, train = False,\n",
        "                    download=True, transform = transform),\n",
        "                    batch_size = b,\n",
        "                    shuffle = False)\n",
        "  train_L_iters, train_acc_iters,test_L_iters, test_acc_iters = fc_NN(train_loader, test_loader,epoch, learning_rate_value)\n",
        "  batch_train_loss.append(train_L_iters)\n",
        "  batch_train_accuracy.append(train_acc_iters)\n",
        "  batch_test_loss.append(test_L_iters)\n",
        "  batch_test_accuracy.append(test_acc_iters)"
      ],
      "execution_count": null,
      "outputs": [
        {
          "output_type": "stream",
          "text": [
            "batch_size  = 32\n"
          ],
          "name": "stdout"
        }
      ]
    },
    {
      "cell_type": "markdown",
      "metadata": {
        "id": "M1TwxCHKT74j"
      },
      "source": [
        "# **[Output] Plot the Training and testing losses with a batch size of 32**"
      ]
    },
    {
      "cell_type": "code",
      "metadata": {
        "id": "Ogy9Y8bvU7Nz"
      },
      "source": [
        "plt.figure(figsize = (7,7))\n",
        "plt.plot(batch_train_loss[0], c = \"red\", label = \"train loss\")\n",
        "plt.plot(batch_test_loss[0], c = \"blue\", label = \"test loss\")\n",
        "plt.title(\"loss at batch_size = 32\")\n",
        "plt.legend(loc = \"best\")\n",
        "plt.show()"
      ],
      "execution_count": null,
      "outputs": []
    },
    {
      "cell_type": "markdown",
      "metadata": {
        "id": "0td5LZaWbfoU"
      },
      "source": [
        "# **[Output] Plot the training and testing accuracies with a batch size of 32**"
      ]
    },
    {
      "cell_type": "code",
      "metadata": {
        "id": "JaMUXOeaU7LX"
      },
      "source": [
        "plt.figure(figsize = (7,7))\n",
        "plt.plot(batch_train_accuracy[0], c = \"red\", label = \"train accuracy\")\n",
        "plt.plot(batch_test_accuracy[0], c = \"blue\", label = \"test accuracy\")\n",
        "plt.title(\"accuracy at batch_size = 32\")\n",
        "plt.legend(loc = \"best\")\n",
        "plt.show()"
      ],
      "execution_count": null,
      "outputs": []
    },
    {
      "cell_type": "markdown",
      "metadata": {
        "id": "yDdKzQVvbrCu"
      },
      "source": [
        "# **[Output] Plot the training and testing losses with a batch size of 64**"
      ]
    },
    {
      "cell_type": "code",
      "metadata": {
        "id": "_lwbuDdlsAZ3",
        "outputId": "968b2d8e-910b-412e-f033-1b35d301ec81",
        "colab": {
          "base_uri": "https://localhost:8080/",
          "height": 34
        }
      },
      "source": [
        "torch.cuda.get_device_name()"
      ],
      "execution_count": 31,
      "outputs": [
        {
          "output_type": "execute_result",
          "data": {
            "application/vnd.google.colaboratory.intrinsic+json": {
              "type": "string"
            },
            "text/plain": [
              "'Tesla T4'"
            ]
          },
          "metadata": {
            "tags": []
          },
          "execution_count": 31
        }
      ]
    },
    {
      "cell_type": "markdown",
      "metadata": {
        "id": "rATLid4oYQF8"
      },
      "source": [
        "# **[Output] Plot the training and testing accuracies with a batch size of 64**"
      ]
    },
    {
      "cell_type": "code",
      "metadata": {
        "id": "Oi0iLM68seuc"
      },
      "source": [
        ""
      ],
      "execution_count": 73,
      "outputs": []
    },
    {
      "cell_type": "markdown",
      "metadata": {
        "id": "NvkARhzdb-49"
      },
      "source": [
        "# **[Output] Plot the training and testing losses with a batch size of 128**"
      ]
    },
    {
      "cell_type": "code",
      "metadata": {
        "id": "SF9CqiJMsl4b",
        "outputId": "1c68fce0-dacc-4323-b4f3-3caa694c707e",
        "colab": {
          "base_uri": "https://localhost:8080/"
        }
      },
      "source": [
        ""
      ],
      "execution_count": 74,
      "outputs": [
        {
          "output_type": "execute_result",
          "data": {
            "text/plain": [
              "tensor(2.3649, grad_fn=<NllLossBackward>)"
            ]
          },
          "metadata": {
            "tags": []
          },
          "execution_count": 74
        }
      ]
    },
    {
      "cell_type": "markdown",
      "metadata": {
        "id": "P7eshLYXcHmx"
      },
      "source": [
        "# **[Output] Plot the training and testing accuracies with a batch size of 128**"
      ]
    },
    {
      "cell_type": "code",
      "metadata": {
        "id": "P6OCyRSicOb9"
      },
      "source": [
        ""
      ],
      "execution_count": null,
      "outputs": []
    },
    {
      "cell_type": "markdown",
      "metadata": {
        "id": "CWSXKpy0cPkO"
      },
      "source": [
        "# **[Output] Print the loss at convergence with different mini-batch sizes**"
      ]
    },
    {
      "cell_type": "code",
      "metadata": {
        "id": "mLdlg2kZcQMs"
      },
      "source": [
        ""
      ],
      "execution_count": null,
      "outputs": []
    },
    {
      "cell_type": "markdown",
      "metadata": {
        "id": "DKvO5UVtcQhs"
      },
      "source": [
        "# **[Output] Print the accuracy at convergence with different mini-batch sizes**"
      ]
    },
    {
      "cell_type": "code",
      "metadata": {
        "id": "vQtST7VKcSdT"
      },
      "source": [
        ""
      ],
      "execution_count": null,
      "outputs": []
    }
  ]
}