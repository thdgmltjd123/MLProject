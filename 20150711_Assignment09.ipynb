{
  "nbformat": 4,
  "nbformat_minor": 0,
  "metadata": {
    "colab": {
      "name": "20150711_Assignment09.ipynb",
      "provenance": [],
      "authorship_tag": "ABX9TyMdnOKSBLqo5doM+qV4Y4Zb",
      "include_colab_link": true
    },
    "kernelspec": {
      "name": "python3",
      "display_name": "Python 3"
    }
  },
  "cells": [
    {
      "cell_type": "markdown",
      "metadata": {
        "id": "view-in-github",
        "colab_type": "text"
      },
      "source": [
        "<a href=\"https://colab.research.google.com/github/thdgmltjd123/Assignment01/blob/master/20150711_Assignment09.ipynb\" target=\"_parent\"><img src=\"https://colab.research.google.com/assets/colab-badge.svg\" alt=\"Open In Colab\"/></a>"
      ]
    },
    {
      "cell_type": "code",
      "metadata": {
        "id": "3FpwMhN1hm0Z",
        "colab_type": "code",
        "colab": {
          "base_uri": "https://localhost:8080/",
          "height": 122
        },
        "outputId": "fa2dc1fb-b654-40c6-916e-e15792c068a7"
      },
      "source": [
        "#구글 드라이브와 코랩 마운트하기\n",
        "from google.colab import drive\n",
        "drive.mount('/content/drive')"
      ],
      "execution_count": 1,
      "outputs": [
        {
          "output_type": "stream",
          "text": [
            "Go to this URL in a browser: https://accounts.google.com/o/oauth2/auth?client_id=947318989803-6bn6qk8qdgf4n4g3pfee6491hc0brc4i.apps.googleusercontent.com&redirect_uri=urn%3aietf%3awg%3aoauth%3a2.0%3aoob&response_type=code&scope=email%20https%3a%2f%2fwww.googleapis.com%2fauth%2fdocs.test%20https%3a%2f%2fwww.googleapis.com%2fauth%2fdrive%20https%3a%2f%2fwww.googleapis.com%2fauth%2fdrive.photos.readonly%20https%3a%2f%2fwww.googleapis.com%2fauth%2fpeopleapi.readonly\n",
            "\n",
            "Enter your authorization code:\n",
            "··········\n",
            "Mounted at /content/drive\n"
          ],
          "name": "stdout"
        }
      ]
    },
    {
      "cell_type": "code",
      "metadata": {
        "id": "PqcuRQtjiuVC",
        "colab_type": "code",
        "colab": {}
      },
      "source": [
        "import matplotlib.pyplot as plt\n",
        "import numpy as np\n",
        "\n",
        "file_data   = \"/content/drive/My Drive/Colab Notebooks/mnist.csv\"\n",
        "handle_file = open(file_data, \"r\")\n",
        "data        = handle_file.readlines()\n",
        "handle_file.close()\n",
        "\n",
        "size_row    = 28    # height of the image\n",
        "size_col    = 28    # width of the image\n",
        "\n",
        "num_image   = len(data)\n",
        "count       = 0     # count for the number of images\n",
        "\n",
        "#\n",
        "# normalize the values of the input data to be [0, 1]\n",
        "#\n",
        "def normalize(data):\n",
        "\n",
        "    data_normalized = (data - min(data)) / (max(data) - min(data))\n",
        "\n",
        "    return(data_normalized)\n",
        "\n",
        "#\n",
        "# example of distance function between two vectors x and y\n",
        "#\n",
        "def distance(x, y):\n",
        "\n",
        "    d = (x - y) ** 2\n",
        "    s = np.sum(d)\n",
        "    # r = np.sqrt(s)\n",
        "\n",
        "    return(s)\n",
        "\n",
        "#\n",
        "# make a matrix each column of which represents an images in a vector form\n",
        "#\n",
        "list_image  = np.empty((size_row * size_col, num_image), dtype=float)\n",
        "list_label  = np.empty(num_image, dtype=int)\n",
        "\n",
        "for line in data:\n",
        "\n",
        "    line_data   = line.split(',')\n",
        "    label       = line_data[0]\n",
        "    im_vector   = np.asfarray(line_data[1:])\n",
        "    im_vector   = normalize(im_vector)\n",
        "\n",
        "    list_label[count]       = label\n",
        "    list_image[:, count]    = im_vector\n",
        "\n",
        "    count += 1\n",
        "\n",
        "X_train = list_image[:,:6000]\n",
        "Y_train = list_label[:6000]\n",
        "X_test = list_image[:,6001:]\n",
        "Y_test = list_label[6001:] "
      ],
      "execution_count": 0,
      "outputs": []
    },
    {
      "cell_type": "code",
      "metadata": {
        "id": "yzKTFO_diuPw",
        "colab_type": "code",
        "colab": {
          "base_uri": "https://localhost:8080/",
          "height": 34
        },
        "outputId": "15b65eab-774b-4ded-8835-6ddab794432b"
      },
      "source": [
        "print(X_train.shape,Y_train.shape)"
      ],
      "execution_count": 103,
      "outputs": [
        {
          "output_type": "stream",
          "text": [
            "(784, 6000) (6000,)\n"
          ],
          "name": "stdout"
        }
      ]
    },
    {
      "cell_type": "code",
      "metadata": {
        "id": "eYcnK_hIiuM7",
        "colab_type": "code",
        "colab": {}
      },
      "source": [
        "#초기 값 세타들 만들기\n",
        "def make_parameter(dim1, dim2):\n",
        "  matrix = np.empty((dim1,dim2),dtype = float)\n",
        "  for i in range(dim1):\n",
        "    sd = np.random.randint(1,11)\n",
        "    for j in range(dim2):\n",
        "      matrix[i][j] = np.random.normal(0,sd)\n",
        "  return matrix\n",
        "\n",
        "# 시그모이드\n",
        "def sigmoid(z):\n",
        "  return 1 / (1 + np.exp(-z))\n",
        "\n",
        "# 미분한 시그모이드\n",
        "def diff_sigmoid(sigmoid):\n",
        "  return sigmoid * (1 - sigmoid)\n",
        "\n",
        "#이미지 값에 편향 더해주는 함수\n",
        "def add_bias(data):\n",
        "  col_len = data.shape[1]\n",
        "  bias = np.ones((1,col_len),dtype = float)\n",
        "  data = np.append(bias,data,axis = 0)\n",
        "  return data\n",
        "\n",
        "#라벨을 원핫 인코딩 하기\n",
        "def one_hot(label):\n",
        "  label_length = len(label)\n",
        "  num_label = len(np.unique(label))\n",
        "  matrix = np.empty((num_label,label_length), dtype = int)\n",
        "  \n",
        "  for i in range(label_length):\n",
        "    for j in range(num_label):\n",
        "      if(j == label[i]):\n",
        "        matrix[j][i] = 1\n",
        "      else:\n",
        "        matrix[j][i] = 0\n",
        "  return matrix\n",
        "\n",
        "#에너지 함수\n",
        "def energy(last_layer_sigmoid, onehot_label):\n",
        "  col_len = last_layer_sigmoid.shape[1]\n",
        "  sum = 0\n",
        "  for i in range(col_len):\n",
        "    sum += np.sum(-onehot_label[:,i]*np.log(last_layer_sigmoid[:,i]+1e-9)-(1-onehot_label[:,i])*np.log(1-last_layer_sigmoid[:,i]+1e-9))\n",
        "  return sum / col_len\n",
        "\n",
        "def fit(X, Y, theta_li):\n",
        "  #forward propagation\n",
        "  temp_X = X.copy()\n",
        "  for i in theta_li:\n",
        "    bias_X = add_bias(temp_X)\n",
        "    temp_X = sigmoid(np.dot(i,bias_X))\n",
        "  \n",
        "  onehot_label = one_hot(Y)\n",
        "  temp_energy = energy(temp_X, onehot_label)\n",
        "\n"
      ],
      "execution_count": 0,
      "outputs": []
    },
    {
      "cell_type": "code",
      "metadata": {
        "id": "cd4MwVMAG0BW",
        "colab_type": "code",
        "colab": {
          "base_uri": "https://localhost:8080/",
          "height": 34
        },
        "outputId": "76dc10a9-d90d-4cf3-9dc4-425bea24fdd1"
      },
      "source": [
        "temp_X\n",
        "\n",
        "onehot_label = one_hot(Y_train)\n",
        "\n",
        "energy(temp_X, onehot_label)"
      ],
      "execution_count": 179,
      "outputs": [
        {
          "output_type": "execute_result",
          "data": {
            "text/plain": [
              "88.17814475180673"
            ]
          },
          "metadata": {
            "tags": []
          },
          "execution_count": 179
        }
      ]
    },
    {
      "cell_type": "code",
      "metadata": {
        "id": "lpgURokyEOIQ",
        "colab_type": "code",
        "colab": {}
      },
      "source": [
        "temp_X = X_train.copy()\n",
        "for i in theta_li:\n",
        "  bias_X = add_bias(temp_X)\n",
        "  temp_X = sigmoid(np.dot(i,bias_X))"
      ],
      "execution_count": 0,
      "outputs": []
    },
    {
      "cell_type": "code",
      "metadata": {
        "id": "aOW58vZoCtqq",
        "colab_type": "code",
        "colab": {
          "base_uri": "https://localhost:8080/",
          "height": 34
        },
        "outputId": "932df0f6-f3d4-4171-cdc0-6d3b45f90c1c"
      },
      "source": [
        "print(X_train.shape, Y_train.shape)"
      ],
      "execution_count": 113,
      "outputs": [
        {
          "output_type": "stream",
          "text": [
            "(784, 6000) (6000,)\n"
          ],
          "name": "stdout"
        }
      ]
    },
    {
      "cell_type": "code",
      "metadata": {
        "id": "ramkkGkSiuKA",
        "colab_type": "code",
        "colab": {}
      },
      "source": [
        "theta_li = []\n",
        "\n",
        "theta_li.append(make_parameter(196,785))\n",
        "theta_li.append(make_parameter(49,197))\n",
        "theta_li.append(make_parameter(10,50))\n",
        "\n"
      ],
      "execution_count": 0,
      "outputs": []
    },
    {
      "cell_type": "code",
      "metadata": {
        "id": "GXerzaBOiuHB",
        "colab_type": "code",
        "colab": {}
      },
      "source": [
        ""
      ],
      "execution_count": 0,
      "outputs": []
    },
    {
      "cell_type": "code",
      "metadata": {
        "id": "BSPlhrCKiuD3",
        "colab_type": "code",
        "colab": {}
      },
      "source": [
        ""
      ],
      "execution_count": 0,
      "outputs": []
    },
    {
      "cell_type": "code",
      "metadata": {
        "id": "4XrP1mwpiuAs",
        "colab_type": "code",
        "colab": {}
      },
      "source": [
        ""
      ],
      "execution_count": 0,
      "outputs": []
    },
    {
      "cell_type": "code",
      "metadata": {
        "id": "qKvmK7WSit8I",
        "colab_type": "code",
        "colab": {}
      },
      "source": [
        ""
      ],
      "execution_count": 0,
      "outputs": []
    },
    {
      "cell_type": "code",
      "metadata": {
        "id": "lBrWFgANit46",
        "colab_type": "code",
        "colab": {}
      },
      "source": [
        ""
      ],
      "execution_count": 0,
      "outputs": []
    }
  ]
}