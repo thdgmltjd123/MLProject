{
  "nbformat": 4,
  "nbformat_minor": 0,
  "metadata": {
    "colab": {
      "name": "20150711_Assignment09.ipynb",
      "provenance": [],
      "collapsed_sections": [],
      "authorship_tag": "ABX9TyMx6qQvoM8WdGnPuabpoS/N",
      "include_colab_link": true
    },
    "kernelspec": {
      "name": "python3",
      "display_name": "Python 3"
    }
  },
  "cells": [
    {
      "cell_type": "markdown",
      "metadata": {
        "id": "view-in-github",
        "colab_type": "text"
      },
      "source": [
        "<a href=\"https://colab.research.google.com/github/thdgmltjd123/Assignment01/blob/master/20150711_Assignment09.ipynb\" target=\"_parent\"><img src=\"https://colab.research.google.com/assets/colab-badge.svg\" alt=\"Open In Colab\"/></a>"
      ]
    },
    {
      "cell_type": "code",
      "metadata": {
        "id": "3FpwMhN1hm0Z",
        "colab_type": "code",
        "colab": {
          "base_uri": "https://localhost:8080/",
          "height": 122
        },
        "outputId": "d4a60bdd-f285-4048-c6d6-47bd0258c998"
      },
      "source": [
        "#구글 드라이브와 코랩 마운트하기\n",
        "from google.colab import drive\n",
        "drive.mount('/content/drive')"
      ],
      "execution_count": 3,
      "outputs": [
        {
          "output_type": "stream",
          "text": [
            "Go to this URL in a browser: https://accounts.google.com/o/oauth2/auth?client_id=947318989803-6bn6qk8qdgf4n4g3pfee6491hc0brc4i.apps.googleusercontent.com&redirect_uri=urn%3aietf%3awg%3aoauth%3a2.0%3aoob&response_type=code&scope=email%20https%3a%2f%2fwww.googleapis.com%2fauth%2fdocs.test%20https%3a%2f%2fwww.googleapis.com%2fauth%2fdrive%20https%3a%2f%2fwww.googleapis.com%2fauth%2fdrive.photos.readonly%20https%3a%2f%2fwww.googleapis.com%2fauth%2fpeopleapi.readonly\n",
            "\n",
            "Enter your authorization code:\n",
            "··········\n",
            "Mounted at /content/drive\n"
          ],
          "name": "stdout"
        }
      ]
    },
    {
      "cell_type": "code",
      "metadata": {
        "id": "PqcuRQtjiuVC",
        "colab_type": "code",
        "colab": {}
      },
      "source": [
        "import matplotlib.pyplot as plt\n",
        "import numpy as np\n",
        "\n",
        "file_data   = \"/content/drive/My Drive/Colab Notebooks/mnist.csv\"\n",
        "handle_file = open(file_data, \"r\")\n",
        "data        = handle_file.readlines()\n",
        "handle_file.close()\n",
        "\n",
        "size_row    = 28    # height of the image\n",
        "size_col    = 28    # width of the image\n",
        "\n",
        "num_image   = len(data)\n",
        "count       = 0     # count for the number of images\n",
        "\n",
        "#\n",
        "# normalize the values of the input data to be [0, 1]\n",
        "#\n",
        "def normalize(data):\n",
        "\n",
        "    data_normalized = (data - min(data)) / (max(data) - min(data))\n",
        "\n",
        "    return(data_normalized)\n",
        "\n",
        "#\n",
        "# example of distance function between two vectors x and y\n",
        "#\n",
        "def distance(x, y):\n",
        "\n",
        "    d = (x - y) ** 2\n",
        "    s = np.sum(d)\n",
        "    # r = np.sqrt(s)\n",
        "\n",
        "    return(s)\n",
        "\n",
        "#\n",
        "# make a matrix each column of which represents an images in a vector form\n",
        "#\n",
        "list_image  = np.empty((size_row * size_col, num_image), dtype=float)\n",
        "list_label  = np.empty(num_image, dtype=int)\n",
        "\n",
        "for line in data:\n",
        "\n",
        "    line_data   = line.split(',')\n",
        "    label       = line_data[0]\n",
        "    im_vector   = np.asfarray(line_data[1:])\n",
        "    im_vector   = normalize(im_vector)\n",
        "\n",
        "    list_label[count]       = label\n",
        "    list_image[:, count]    = im_vector\n",
        "\n",
        "    count += 1\n",
        "\n",
        "X_train = list_image[:,:6000]\n",
        "Y_train = list_label[:6000]\n",
        "X_test = list_image[:,6000:]\n",
        "Y_test = list_label[6000:] "
      ],
      "execution_count": 0,
      "outputs": []
    },
    {
      "cell_type": "code",
      "metadata": {
        "id": "yzKTFO_diuPw",
        "colab_type": "code",
        "colab": {
          "base_uri": "https://localhost:8080/",
          "height": 34
        },
        "outputId": "eda71641-8909-4ded-b00f-7aeeb8509be1"
      },
      "source": [
        "print(X_train.shape,Y_train.shape)"
      ],
      "execution_count": 5,
      "outputs": [
        {
          "output_type": "stream",
          "text": [
            "(784, 6000) (6000,)\n"
          ],
          "name": "stdout"
        }
      ]
    },
    {
      "cell_type": "code",
      "metadata": {
        "id": "eYcnK_hIiuM7",
        "colab_type": "code",
        "colab": {}
      },
      "source": [
        "#초기 값 세타들 만들기\n",
        "def make_parameter(dim1, dim2):\n",
        "  matrix = np.empty((dim1,dim2),dtype = float)\n",
        "  for i in range(dim1):\n",
        "    sd = np.random.randint(1,4)\n",
        "    for j in range(dim2):\n",
        "      matrix[i][j] = np.random.normal(0,sd)\n",
        "  return matrix\n",
        "\n",
        "# 시그모이드\n",
        "def sigmoid(z):\n",
        "  return 1 / (1 + np.exp(-z))\n",
        "\n",
        "# 미분한 시그모이드\n",
        "def diff_sigmoid(sigmoid):\n",
        "  return sigmoid * (1 - sigmoid)\n",
        "\n",
        "#이미지 값에 편향 더해주는 함수\n",
        "def add_bias(data):\n",
        "  col_len = data.shape[1]\n",
        "  bias = np.ones((1,col_len),dtype = float)\n",
        "  data = np.append(bias,data,axis = 0)\n",
        "  return data\n",
        "\n",
        "#라벨을 원핫 인코딩 하기\n",
        "def one_hot(label):\n",
        "  label_length = len(label)\n",
        "  num_label = len(np.unique(label))\n",
        "  matrix = np.empty((num_label,label_length), dtype = int)\n",
        "  \n",
        "  for i in range(label_length):\n",
        "    for j in range(num_label):\n",
        "      if(j == label[i]):\n",
        "        matrix[j][i] = 1\n",
        "      else:\n",
        "        matrix[j][i] = 0\n",
        "  return matrix\n",
        "\n",
        "#에너지 함수\n",
        "def energy(last_layer_sigmoid, onehot_label):\n",
        "  return np.mean(np.sum(-onehot_label*np.log(last_layer_sigmoid+1e-9)-(1-onehot_label)*np.log(1-last_layer_sigmoid+1e-9),axis = 0))\n",
        "  \n",
        "def predict(X,theta_li):\n",
        "  pred = np.empty(X.shape[1],dtype = int)\n",
        "  for i in theta_li:\n",
        "    bias_X = add_bias(X)\n",
        "    X = np.dot(i,bias_X)\n",
        "    X = sigmoid(X)\n",
        "  \n",
        "  pred = np.argmax(X,axis = 0)\n",
        "  return pred\n",
        "\n",
        "def accuracy(Y_pred, label):\n",
        "  return np.mean(Y_pred == label)\n",
        "\n",
        "def fit(X, X_test, Y, Y_test, theta_li, alpha_li):\n",
        "  train_energy_val = []\n",
        "  test_energy_val = []\n",
        "  train_accu_val = [0]\n",
        "  test_accu_val = [0]\n",
        "  length = X.shape[1]\n",
        "  epoch = 4000\n",
        "  count = 1\n",
        "  for k in range(epoch):\n",
        "    #forward propagation\n",
        "    if(k!=0 and k%100 == 0):\n",
        "      print(\"{}% 완료\".format(2.5*count))\n",
        "      count+=1\n",
        "    temp_X = X.copy()\n",
        "    test_X = X_test.copy()\n",
        "    xyz_li = []\n",
        "    for i in theta_li:\n",
        "      bias_X = add_bias(temp_X)\n",
        "      test_bias_X = add_bias(test_X)\n",
        "      temp_X = np.dot(i,bias_X)\n",
        "      test_X = np.dot(i,test_bias_X)\n",
        "      temp_X = sigmoid(temp_X)\n",
        "      test_X = sigmoid(test_X)\n",
        "      xyz_li.append(temp_X)\n",
        "    \n",
        "    onehot_label = one_hot(Y)\n",
        "    tonehot_label = one_hot(Y_test)\n",
        "    temp_energy = energy(temp_X, onehot_label)\n",
        "    test_energy = energy(test_X, tonehot_label)\n",
        "    train_energy_val.append(temp_energy)\n",
        "    test_energy_val.append(test_energy)\n",
        "\n",
        "    #backward propagation\n",
        "    a = (temp_X-onehot_label)\n",
        "    b = np.dot(theta_li[2][:,1:].T,a) * diff_sigmoid(xyz_li[1])\n",
        "    c = np.dot(theta_li[1][:,1:].T,b) * diff_sigmoid(xyz_li[0])\n",
        "    theta_li[2]-=alpha_li[0]*((np.dot(a,add_bias(xyz_li[1]).T)) / length)\n",
        "    theta_li[1]-=alpha_li[1]*((np.dot(b,add_bias(xyz_li[0]).T)) / length)\n",
        "    theta_li[0]-=alpha_li[2]*((np.dot(c,add_bias(X_train).T)) / length)\n",
        "\n",
        "    pred = predict(X,theta_li)\n",
        "    test_pred = predict(X_test,theta_li)\n",
        "    train_accu_val.append(accuracy(pred,Y))\n",
        "    test_accu_val.append(accuracy(test_pred,Y_test))\n",
        "  return train_energy_val,train_accu_val,test_energy_val,test_accu_val, test_pred"
      ],
      "execution_count": 0,
      "outputs": []
    },
    {
      "cell_type": "code",
      "metadata": {
        "id": "Wp2ifgi4--3U",
        "colab_type": "code",
        "colab": {
          "base_uri": "https://localhost:8080/",
          "height": 680
        },
        "outputId": "ac3d7765-c161-4385-bf05-d6ecae0491a5"
      },
      "source": [
        "theta_li = []\n",
        "\n",
        "theta_li.append(make_parameter(196,785))\n",
        "theta_li.append(make_parameter(49,197))\n",
        "theta_li.append(make_parameter(10,50))\n",
        "\n",
        "alpha_li = [2.5,1.5,2.5]\n",
        "train_energy_val, train_accu_val, test_energy_val, test_accu_val, test_pred = fit(X_train,X_test,Y_train,Y_test,theta_li,alpha_li)"
      ],
      "execution_count": 10,
      "outputs": [
        {
          "output_type": "stream",
          "text": [
            "2.5% 완료\n",
            "5.0% 완료\n",
            "7.5% 완료\n",
            "10.0% 완료\n",
            "12.5% 완료\n",
            "15.0% 완료\n",
            "17.5% 완료\n",
            "20.0% 완료\n",
            "22.5% 완료\n",
            "25.0% 완료\n",
            "27.5% 완료\n",
            "30.0% 완료\n",
            "32.5% 완료\n",
            "35.0% 완료\n",
            "37.5% 완료\n",
            "40.0% 완료\n",
            "42.5% 완료\n",
            "45.0% 완료\n",
            "47.5% 완료\n",
            "50.0% 완료\n",
            "52.5% 완료\n",
            "55.0% 완료\n",
            "57.5% 완료\n",
            "60.0% 완료\n",
            "62.5% 완료\n",
            "65.0% 완료\n",
            "67.5% 완료\n",
            "70.0% 완료\n",
            "72.5% 완료\n",
            "75.0% 완료\n",
            "77.5% 완료\n",
            "80.0% 완료\n",
            "82.5% 완료\n",
            "85.0% 완료\n",
            "87.5% 완료\n",
            "90.0% 완료\n",
            "92.5% 완료\n",
            "95.0% 완료\n",
            "97.5% 완료\n"
          ],
          "name": "stdout"
        }
      ]
    },
    {
      "cell_type": "code",
      "metadata": {
        "id": "EWma5xbE1E4N",
        "colab_type": "code",
        "colab": {}
      },
      "source": [
        "train_accu_val[-10:]"
      ],
      "execution_count": 0,
      "outputs": []
    },
    {
      "cell_type": "code",
      "metadata": {
        "id": "lnZ5S58wMEcS",
        "colab_type": "code",
        "colab": {}
      },
      "source": [
        "test_accu_val[-10:]"
      ],
      "execution_count": 0,
      "outputs": []
    },
    {
      "cell_type": "markdown",
      "metadata": {
        "id": "OCksffZ-8MKN",
        "colab_type": "text"
      },
      "source": [
        "# **Plot the loss curve**"
      ]
    },
    {
      "cell_type": "code",
      "metadata": {
        "id": "qKvmK7WSit8I",
        "colab_type": "code",
        "colab": {
          "base_uri": "https://localhost:8080/",
          "height": 414
        },
        "outputId": "30cd6854-bf72-4c15-854f-db0ee8406abc"
      },
      "source": [
        "plt.figure(figsize = (6,6))\n",
        "plt.title(\"error graph\",fontsize = 20)\n",
        "plt.xlabel(\"# of iter\",fontsize = 15)\n",
        "plt.ylabel(\"values\", fontsize = 15)\n",
        "plt.plot(train_energy_val,c = \"b\",label = \"train error\")\n",
        "plt.plot(test_energy_val,c = \"r\",label = \"test error\")\n",
        "plt.legend(loc = \"best\")\n",
        "plt.show()"
      ],
      "execution_count": 13,
      "outputs": [
        {
          "output_type": "display_data",
          "data": {
            "image/png": "[encoded data removed]",
            "text/plain": [
              "<Figure size 432x432 with 1 Axes>"
            ]
          },
          "metadata": {
            "tags": [],
            "needs_background": "light"
          }
        }
      ]
    },
    {
      "cell_type": "markdown",
      "metadata": {
        "id": "Ls928ql58Thz",
        "colab_type": "text"
      },
      "source": [
        "# **Plot the accuracy curve**"
      ]
    },
    {
      "cell_type": "code",
      "metadata": {
        "id": "lBrWFgANit46",
        "colab_type": "code",
        "colab": {
          "base_uri": "https://localhost:8080/",
          "height": 414
        },
        "outputId": "ebf72980-4266-4df7-e23f-61c216f61753"
      },
      "source": [
        "plt.figure(figsize = (6,6))\n",
        "plt.title(\"accuracy graph\",fontsize = 20)\n",
        "plt.xlabel(\"# of iter\",fontsize = 15)\n",
        "plt.ylabel(\"values\", fontsize = 15)\n",
        "plt.plot(train_accu_val,c = \"b\",label = \"train_accuracy\")\n",
        "plt.plot(test_accu_val,c = \"r\",label = \"test_accuracy\")\n",
        "plt.legend(loc = \"best\")\n",
        "plt.show()"
      ],
      "execution_count": 14,
      "outputs": [
        {
          "output_type": "display_data",
          "data": {
            "image/png": "[encoded data removed]",
            "text/plain": [
              "<Figure size 432x432 with 1 Axes>"
            ]
          },
          "metadata": {
            "tags": [],
            "needs_background": "light"
          }
        }
      ]
    },
    {
      "cell_type": "markdown",
      "metadata": {
        "id": "qAgGScgb8as8",
        "colab_type": "text"
      },
      "source": [
        "# **Print the accuracy value**"
      ]
    },
    {
      "cell_type": "code",
      "metadata": {
        "id": "vnuf1ItR73cn",
        "colab_type": "code",
        "colab": {
          "base_uri": "https://localhost:8080/",
          "height": 51
        },
        "outputId": "8b76a843-2dce-45e0-903a-1679c67a125d"
      },
      "source": [
        "print(\"final training accuracy : {}%\".format(train_accu_val[-1]*100))\n",
        "print(\"final test accuracy : {}%\".format(test_accu_val[-1]*100))"
      ],
      "execution_count": 15,
      "outputs": [
        {
          "output_type": "stream",
          "text": [
            "final training accuracy : 99.33333333333333%\n",
            "final test accuracy : 87.75%\n"
          ],
          "name": "stdout"
        }
      ]
    },
    {
      "cell_type": "markdown",
      "metadata": {
        "id": "0CsTw8aq8fWL",
        "colab_type": "text"
      },
      "source": [
        "# **Plot the classification example**"
      ]
    },
    {
      "cell_type": "code",
      "metadata": {
        "id": "Vez7qDX18jS_",
        "colab_type": "code",
        "colab": {
          "base_uri": "https://localhost:8080/",
          "height": 295
        },
        "outputId": "56021c66-7a6c-4baf-f393-8fa85aa9d0e7"
      },
      "source": [
        "plt.figure(figsize = (10,5))\n",
        "idx = np.where(test_pred == Y_test)[0][:10]\n",
        "size_row = 28\n",
        "size_col = 28\n",
        "count = 1\n",
        "for i in idx:\n",
        "    label       = Y_test[i]\n",
        "    im_vector   = X_test[:, i]\n",
        "    im_matrix   = im_vector.reshape((size_row, size_col))\n",
        "\n",
        "    plt.subplot(2, 5, count)\n",
        "    plt.title(label)\n",
        "    plt.imshow(im_matrix, cmap='Greys', interpolation='None')\n",
        "\n",
        "    frame   = plt.gca()\n",
        "    frame.axes.get_xaxis().set_visible(False)\n",
        "    frame.axes.get_yaxis().set_visible(False)\n",
        "    count+=1\n",
        "plt.show()"
      ],
      "execution_count": 17,
      "outputs": [
        {
          "output_type": "display_data",
          "data": {
            "image/png": "[encoded data removed]",
            "text/plain": [
              "<Figure size 720x360 with 10 Axes>"
            ]
          },
          "metadata": {
            "tags": [],
            "needs_background": "light"
          }
        }
      ]
    },
    {
      "cell_type": "code",
      "metadata": {
        "id": "V79hNpBTid9F",
        "colab_type": "code",
        "colab": {
          "base_uri": "https://localhost:8080/",
          "height": 295
        },
        "outputId": "2da5aa7c-3eed-4d1f-9148-1410433e4177"
      },
      "source": [
        "plt.figure(figsize = (10,5))\n",
        "idx = np.where(test_pred != Y_test)[0][:10]\n",
        "size_row = 28\n",
        "size_col = 28\n",
        "count = 1\n",
        "for i in idx:\n",
        "    pred      = test_pred[i]\n",
        "    actual    = Y_test[i]\n",
        "    im_vector   = X_test[:, i]\n",
        "    im_matrix   = im_vector.reshape((size_row, size_col))\n",
        "\n",
        "    plt.subplot(2, 5, count)\n",
        "    plt.title(\"pred : {} true : {}\".format(pred,actual))\n",
        "    plt.imshow(im_matrix, cmap='Greys', interpolation='None')\n",
        "\n",
        "    frame   = plt.gca()\n",
        "    frame.axes.get_xaxis().set_visible(False)\n",
        "    frame.axes.get_yaxis().set_visible(False)\n",
        "    count+=1\n",
        "plt.show()"
      ],
      "execution_count": 23,
      "outputs": [
        {
          "output_type": "display_data",
          "data": {
            "image/png": "[encoded data removed]",
            "text/plain": [
              "<Figure size 720x360 with 10 Axes>"
            ]
          },
          "metadata": {
            "tags": [],
            "needs_background": "light"
          }
        }
      ]
    }
  ]
}