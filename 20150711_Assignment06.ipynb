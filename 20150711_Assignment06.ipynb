{
  "nbformat": 4,
  "nbformat_minor": 0,
  "metadata": {
    "colab": {
      "name": "20150711_Assignment06.ipynb",
      "provenance": [],
      "collapsed_sections": [],
      "authorship_tag": "ABX9TyO92jlB8+M24yVqXsVcz/+b",
      "include_colab_link": true
    },
    "kernelspec": {
      "name": "python3",
      "display_name": "Python 3"
    }
  },
  "cells": [
    {
      "cell_type": "markdown",
      "metadata": {
        "id": "view-in-github",
        "colab_type": "text"
      },
      "source": [
        "<a href=\"https://colab.research.google.com/github/thdgmltjd123/Assignment01/blob/master/20150711_Assignment06.ipynb\" target=\"_parent\"><img src=\"https://colab.research.google.com/assets/colab-badge.svg\" alt=\"Open In Colab\"/></a>"
      ]
    },
    {
      "cell_type": "code",
      "metadata": {
        "id": "bbF9W6JHoM2k",
        "colab_type": "code",
        "outputId": "192a2039-9237-4b0b-e107-721f39b08323",
        "colab": {
          "base_uri": "https://localhost:8080/",
          "height": 122
        }
      },
      "source": [
        "#구글 드라이브와 코랩 마운트하기\n",
        "from google.colab import drive\n",
        "drive.mount('/content/drive')"
      ],
      "execution_count": 2,
      "outputs": [
        {
          "output_type": "stream",
          "text": [
            "Go to this URL in a browser: https://accounts.google.com/o/oauth2/auth?client_id=947318989803-6bn6qk8qdgf4n4g3pfee6491hc0brc4i.apps.googleusercontent.com&redirect_uri=urn%3aietf%3awg%3aoauth%3a2.0%3aoob&response_type=code&scope=email%20https%3a%2f%2fwww.googleapis.com%2fauth%2fdocs.test%20https%3a%2f%2fwww.googleapis.com%2fauth%2fdrive%20https%3a%2f%2fwww.googleapis.com%2fauth%2fdrive.photos.readonly%20https%3a%2f%2fwww.googleapis.com%2fauth%2fpeopleapi.readonly\n",
            "\n",
            "Enter your authorization code:\n",
            "··········\n",
            "Mounted at /content/drive\n"
          ],
          "name": "stdout"
        }
      ]
    },
    {
      "cell_type": "markdown",
      "metadata": {
        "id": "qkWDAz9gpE8g",
        "colab_type": "text"
      },
      "source": [
        "# **데이터 불러오기**"
      ]
    },
    {
      "cell_type": "code",
      "metadata": {
        "id": "P7XWOol4o5b2",
        "colab_type": "code",
        "outputId": "d73892bf-8957-42db-b740-f023842659c7",
        "colab": {
          "base_uri": "https://localhost:8080/",
          "height": 416
        }
      },
      "source": [
        "import numpy as np\n",
        "import matplotlib.pyplot as plt\n",
        "\n",
        "data    = np.genfromtxt(\"/content/drive/My Drive/Colab Notebooks/data-nonlinear.txt\", delimiter=',')\n",
        "\n",
        "pointX  = data[:, 0]\n",
        "pointY  = data[:, 1]\n",
        "label   = data[:, 2]\n",
        "\n",
        "pointX0 = pointX[label == 0]\n",
        "pointY0 = pointY[label == 0]\n",
        "\n",
        "pointX1 = pointX[label == 1]\n",
        "pointY1 = pointY[label == 1]\n",
        "\n",
        "plt.figure(figsize = (6,6))\n",
        "plt.scatter(pointX0, pointY0, c='b')\n",
        "plt.scatter(pointX1, pointY1, c='r')\n",
        "plt.tight_layout()\n",
        "plt.gca().set_aspect('equal', adjustable='box')\n",
        "plt.show()\n"
      ],
      "execution_count": 3,
      "outputs": [
        {
          "output_type": "display_data",
          "data": {
            "image/png": "[encoded data removed]",
            "text/plain": [
              "<Figure size 432x432 with 1 Axes>"
            ]
          },
          "metadata": {
            "tags": [],
            "needs_background": "light"
          }
        }
      ]
    },
    {
      "cell_type": "markdown",
      "metadata": {
        "id": "qIETSRAlrlQV",
        "colab_type": "text"
      },
      "source": [
        "# **로지스틱 회귀분석 구현**"
      ]
    },
    {
      "cell_type": "code",
      "metadata": {
        "id": "7TIAj-Y942I8",
        "colab_type": "code",
        "colab": {}
      },
      "source": [
        "#Z 생성 함수\n",
        "def generate_z(theta,x,y):\n",
        "  fxy = np.array([1,x,x**2,x**3,x**4,y,y**2,y**3,y**4,x*y,x*(y**2),x*(y**3),(x**2)*y,(x**2)*(y**2),(x**3)*y])\n",
        "  return theta.dot(fxy.T)\n",
        "#로지스틱 함수\n",
        "def Logit(z):\n",
        "  return 1 / (1 + np.exp(-z))\n",
        "#energy 구할 때 log0일 때 오버플로가 나는 것을 방지\n",
        "def apply_Logit(logit):\n",
        "  li = []\n",
        "  for i in logit:\n",
        "    if i == 1 :\n",
        "      li.append(i - 1e-9)\n",
        "    elif i == 0 :\n",
        "      li.append(i + 1e-9)\n",
        "    else:\n",
        "      li.append(i)\n",
        "  return np.array(li)\n",
        "\n",
        "#loss function 구현      \n",
        "def energy(sigma):\n",
        "  length = len(sigma)\n",
        "  return sum(-label * np.log(sigma) - (1-label) * np.log(1-sigma)) / length"
      ],
      "execution_count": 0,
      "outputs": []
    },
    {
      "cell_type": "code",
      "metadata": {
        "id": "QeW8swenpJKM",
        "colab_type": "code",
        "colab": {}
      },
      "source": [
        "class LogisticClassifier:\n",
        "  theta = np.arange(-35,40,5).astype('float64')\n",
        "  def __init__(self, x, y):\n",
        "    self.length = len(x)\n",
        "    self.gxy = generate_z(self.theta, x, y)\n",
        "    self.sigmoid = apply_Logit(Logit(self.gxy))\n",
        "    self.temp_energy = energy(self.sigmoid)\n",
        "  def predict(self):\n",
        "    label_pred = []\n",
        "    for i in self.sigmoid:\n",
        "      if i < 0.5:\n",
        "        label_pred.append(0)\n",
        "      else:\n",
        "        label_pred.append(1)\n",
        "    return label_pred\n",
        "  def accuracy(self,li):\n",
        "    self.count = 0\n",
        "    for i in range(len(li)):\n",
        "      if(li[i] == label[i]):\n",
        "        self.count+=1\n",
        "    return self.count / len(li)\n",
        "  def fit(self, x, y, alpha):\n",
        "    fxy = np.array([1,x,x**2,x**3,x**4,y,y**2,y**3,y**4,x*y,x*(y**2),x*(y**3),(x**2)*y,(x**2)*(y**2),(x**3)*y])\n",
        "    energy_val = [self.temp_energy]\n",
        "    accuracy_val = [0]\n",
        "    while True:\n",
        "      self.gra_theta = []\n",
        "      for i in fxy:\n",
        "        self.gra_theta.append((self.sigmoid-label)*i)\n",
        "      self.gra_theta = np.sum(np.array(self.gra_theta),axis = 1) / self.length\n",
        "      self.theta -= alpha * self.gra_theta\n",
        "      self.gxy = generate_z(self.theta,x,y)\n",
        "      self.sigmoid = apply_Logit(Logit(self.gxy))\n",
        "      accuracy_val.append(self.accuracy(self.predict()))\n",
        "      self.next_energy = energy(self.sigmoid)\n",
        "      energy_val.append(self.next_energy)\n",
        "      if self.temp_energy - self.next_energy < 0.00000001:\n",
        "        break\n",
        "      self.temp_energy = self.next_energy\n",
        "    return accuracy_val,energy_val\n"
      ],
      "execution_count": 0,
      "outputs": []
    },
    {
      "cell_type": "code",
      "metadata": {
        "id": "VskPddN4pJHg",
        "colab_type": "code",
        "colab": {}
      },
      "source": [
        "model = LogisticClassifier(pointX,pointY)\n",
        "theta_val, energy_val = model.fit(pointX,pointY,0.1)"
      ],
      "execution_count": 0,
      "outputs": []
    }
  ]
}