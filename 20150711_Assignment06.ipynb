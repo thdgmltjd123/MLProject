{
  "nbformat": 4,
  "nbformat_minor": 0,
  "metadata": {
    "colab": {
      "name": "20150711_Assignment06.ipynb",
      "provenance": [],
      "collapsed_sections": [],
      "authorship_tag": "ABX9TyOuLaJDmKJCGkm+UpgK5yCW",
      "include_colab_link": true
    },
    "kernelspec": {
      "name": "python3",
      "display_name": "Python 3"
    }
  },
  "cells": [
    {
      "cell_type": "markdown",
      "metadata": {
        "id": "view-in-github",
        "colab_type": "text"
      },
      "source": [
        "<a href=\"https://colab.research.google.com/github/thdgmltjd123/Assignment01/blob/master/20150711_Assignment06.ipynb\" target=\"_parent\"><img src=\"https://colab.research.google.com/assets/colab-badge.svg\" alt=\"Open In Colab\"/></a>"
      ]
    },
    {
      "cell_type": "code",
      "metadata": {
        "id": "bbF9W6JHoM2k",
        "colab_type": "code",
        "outputId": "c9c26242-9186-49ea-fcf6-fdfd7957fd9b",
        "colab": {
          "base_uri": "https://localhost:8080/",
          "height": 54
        }
      },
      "source": [
        "#구글 드라이브와 코랩 마운트하기\n",
        "from google.colab import drive\n",
        "drive.mount('/content/drive')"
      ],
      "execution_count": 100,
      "outputs": [
        {
          "output_type": "stream",
          "text": [
            "Drive already mounted at /content/drive; to attempt to forcibly remount, call drive.mount(\"/content/drive\", force_remount=True).\n"
          ],
          "name": "stdout"
        }
      ]
    },
    {
      "cell_type": "markdown",
      "metadata": {
        "id": "qkWDAz9gpE8g",
        "colab_type": "text"
      },
      "source": [
        "# **데이터 불러오기**"
      ]
    },
    {
      "cell_type": "code",
      "metadata": {
        "id": "P7XWOol4o5b2",
        "colab_type": "code",
        "colab": {}
      },
      "source": [
        "import numpy as np\n",
        "import matplotlib.pyplot as plt\n",
        "\n",
        "data    = np.genfromtxt(\"/content/drive/My Drive/Colab Notebooks/data-nonlinear.txt\", delimiter=',')\n",
        "pointX  = data[:, 0]\n",
        "pointY  = data[:, 1]\n",
        "label   = data[:, 2]"
      ],
      "execution_count": 0,
      "outputs": []
    },
    {
      "cell_type": "markdown",
      "metadata": {
        "id": "qIETSRAlrlQV",
        "colab_type": "text"
      },
      "source": [
        "# **로지스틱 회귀분석 구현**"
      ]
    },
    {
      "cell_type": "code",
      "metadata": {
        "id": "7TIAj-Y942I8",
        "colab_type": "code",
        "colab": {}
      },
      "source": [
        "#Z 생성 함수\n",
        "def generate_z(theta,x,y):\n",
        "  fxy = np.array([1,x,x**2,x**3,x**4,y,y**2,y**3,y**4,x*y,x*(y**2),x*(y**3),(x**2)*y,(x**2)*(y**2),(x**3)*y])\n",
        "  return theta.dot(fxy.T)\n",
        "#로지스틱 함수\n",
        "def Logit(z):\n",
        "  return 1 / (1 + np.exp(-z))\n",
        "#energy 구할 때 log0일 때 오버플로가 나는 것을 방지\n",
        "def apply_Logit(logit):\n",
        "  li = []\n",
        "  for i in logit:\n",
        "    if i == 1 :\n",
        "      li.append(i - 1e-9)\n",
        "    elif i == 0 :\n",
        "      li.append(i + 1e-9)\n",
        "    else:\n",
        "      li.append(i)\n",
        "  return np.array(li)\n",
        "\n",
        "#loss function 구현      \n",
        "def energy(sigma):\n",
        "  length = len(sigma)\n",
        "  return sum(-label * np.log(sigma) - (1-label) * np.log(1-sigma)) / length"
      ],
      "execution_count": 0,
      "outputs": []
    },
    {
      "cell_type": "code",
      "metadata": {
        "id": "QeW8swenpJKM",
        "colab_type": "code",
        "colab": {}
      },
      "source": [
        "class LogisticClassifier:\n",
        "  theta = np.arange(-35,40,5).astype('float64')\n",
        "  def __init__(self, x, y):\n",
        "    self.length = len(x)\n",
        "    self.gxy = generate_z(self.theta, x, y)\n",
        "    self.sigmoid = apply_Logit(Logit(self.gxy))\n",
        "    self.temp_energy = energy(self.sigmoid)\n",
        "  def predict(self):\n",
        "    label_pred = []\n",
        "    for i in self.sigmoid:\n",
        "      if i < 0.5:\n",
        "        label_pred.append(0)\n",
        "      else:\n",
        "        label_pred.append(1)\n",
        "    return label_pred\n",
        "  def accuracy(self,li):\n",
        "    self.count = 0\n",
        "    for i in range(len(li)):\n",
        "      if(li[i] == label[i]):\n",
        "        self.count+=1\n",
        "    return self.count / len(li)\n",
        "  def fit(self, x, y, alpha):\n",
        "    fxy = np.array([1,x,x**2,x**3,x**4,y,y**2,y**3,y**4,x*y,x*(y**2),x*(y**3),(x**2)*y,(x**2)*(y**2),(x**3)*y])\n",
        "    energy_val = [self.temp_energy]\n",
        "    accuracy_val = [0]\n",
        "    while True:\n",
        "      self.gra_theta = []\n",
        "      for i in fxy:\n",
        "        self.gra_theta.append((self.sigmoid-label)*i)\n",
        "      self.gra_theta = np.sum(np.array(self.gra_theta),axis = 1) / self.length\n",
        "      self.theta -= alpha * self.gra_theta\n",
        "      self.gxy = generate_z(self.theta,x,y)\n",
        "      self.sigmoid = apply_Logit(Logit(self.gxy))\n",
        "      accuracy_val.append(self.accuracy(self.predict()))\n",
        "      self.next_energy = energy(self.sigmoid)\n",
        "      energy_val.append(self.next_energy)\n",
        "      if self.temp_energy - self.next_energy < 0.00000001:\n",
        "        break\n",
        "      self.temp_energy = self.next_energy\n",
        "    return accuracy_val,energy_val"
      ],
      "execution_count": 0,
      "outputs": []
    },
    {
      "cell_type": "code",
      "metadata": {
        "id": "VskPddN4pJHg",
        "colab_type": "code",
        "colab": {}
      },
      "source": [
        "model = LogisticClassifier(pointX,pointY)\n",
        "accuracy_val, energy_val = model.fit(pointX,pointY,0.05)"
      ],
      "execution_count": 0,
      "outputs": []
    },
    {
      "cell_type": "markdown",
      "metadata": {
        "id": "OV8T2csFAeD-",
        "colab_type": "text"
      },
      "source": [
        "# **Plot the training data**"
      ]
    },
    {
      "cell_type": "code",
      "metadata": {
        "id": "xoUuFlGhAdjr",
        "colab_type": "code",
        "colab": {
          "base_uri": "https://localhost:8080/",
          "height": 416
        },
        "outputId": "82fc8fd8-fca9-43a2-8d21-b8b960583d61"
      },
      "source": [
        "import numpy as np\n",
        "import matplotlib.pyplot as plt\n",
        "\n",
        "data    = np.genfromtxt(\"/content/drive/My Drive/Colab Notebooks/data-nonlinear.txt\", delimiter=',')\n",
        "\n",
        "pointX  = data[:, 0]\n",
        "pointY  = data[:, 1]\n",
        "label   = data[:, 2]\n",
        "\n",
        "pointX0 = pointX[label == 0]\n",
        "pointY0 = pointY[label == 0]\n",
        "\n",
        "pointX1 = pointX[label == 1]\n",
        "pointY1 = pointY[label == 1]\n",
        "\n",
        "plt.figure(figsize = (6,6))\n",
        "plt.scatter(pointX0, pointY0, c='b')\n",
        "plt.scatter(pointX1, pointY1, c='r')\n",
        "plt.tight_layout()\n",
        "plt.gca().set_aspect('equal', adjustable='box')\n",
        "plt.show()"
      ],
      "execution_count": 111,
      "outputs": [
        {
          "output_type": "display_data",
          "data": {
            "image/png": "[encoded data removed]",
            "text/plain": [
              "<Figure size 432x432 with 1 Axes>"
            ]
          },
          "metadata": {
            "tags": [],
            "needs_background": "light"
          }
        }
      ]
    },
    {
      "cell_type": "markdown",
      "metadata": {
        "id": "RRj58LM7A2_r",
        "colab_type": "text"
      },
      "source": [
        "# **Writh down the high dimensional function**\n",
        "\n",
        "$g(x,y,\\Theta) = \\Theta_{0} + \\Theta_{1}x + \\Theta_{2}x^{2} + \\Theta_{3}x^{3} + \\Theta_{4}x^{4} + \\Theta_{5}y + \\Theta_{6}y^{2} + \\Theta_{7}y^{3} + \\Theta_{8}y^{4} + \\Theta_{9}xy + \\Theta_{10}xy^{2} + \\Theta_{11}xy^{3} + \\Theta_{12}x^{2}y + \\Theta_{13}x^{2}y^{2} + \\Theta_{14}x^{3}y$"
      ]
    },
    {
      "cell_type": "markdown",
      "metadata": {
        "id": "lA0NI-yVG2nQ",
        "colab_type": "text"
      },
      "source": [
        "# **Plot the training error**"
      ]
    },
    {
      "cell_type": "code",
      "metadata": {
        "id": "76z9LHsTAdhL",
        "colab_type": "code",
        "colab": {
          "base_uri": "https://localhost:8080/",
          "height": 414
        },
        "outputId": "71f7f1df-03f9-4366-9c26-2df07820da83"
      },
      "source": [
        "plt.figure(figsize = (6,6))\n",
        "plt.title(\"training error\",fontsize = 20)\n",
        "plt.xlabel(\"# of iter\",fontsize = 15)\n",
        "plt.ylabel(\"values\", fontsize = 15)\n",
        "plt.plot(energy_val,c = \"b\",label = \"train_error\")\n",
        "plt.legend(loc = \"best\")\n",
        "plt.show()"
      ],
      "execution_count": 112,
      "outputs": [
        {
          "output_type": "display_data",
          "data": {
            "image/png": "[encoded data removed]",
            "text/plain": [
              "<Figure size 432x432 with 1 Axes>"
            ]
          },
          "metadata": {
            "tags": [],
            "needs_background": "light"
          }
        }
      ]
    },
    {
      "cell_type": "code",
      "metadata": {
        "id": "cKSia5mdAdep",
        "colab_type": "code",
        "colab": {
          "base_uri": "https://localhost:8080/",
          "height": 414
        },
        "outputId": "e03d700b-43a2-4ade-c40a-6d8ea07c284b"
      },
      "source": [
        "plt.figure(figsize = (6,6))\n",
        "plt.title(\"accuracy\",fontsize = 20)\n",
        "plt.xlabel(\"# of iter\",fontsize = 15)\n",
        "plt.ylabel(\"values\", fontsize = 15)\n",
        "plt.plot(accuracy_val,c = \"r\",label = \"accuracy\")\n",
        "plt.legend(loc = \"best\")\n",
        "plt.show()"
      ],
      "execution_count": 113,
      "outputs": [
        {
          "output_type": "display_data",
          "data": {
            "image/png": "[encoded data removed]",
            "text/plain": [
              "<Figure size 432x432 with 1 Axes>"
            ]
          },
          "metadata": {
            "tags": [],
            "needs_background": "light"
          }
        }
      ]
    },
    {
      "cell_type": "markdown",
      "metadata": {
        "id": "be-sW78LIg0u",
        "colab_type": "text"
      },
      "source": [
        "# **Write down the final training accuracy**"
      ]
    },
    {
      "cell_type": "code",
      "metadata": {
        "id": "jgBdmE_BAdb1",
        "colab_type": "code",
        "colab": {
          "base_uri": "https://localhost:8080/",
          "height": 34
        },
        "outputId": "5bf43e5e-bc74-4835-c4c2-f158741d7a83"
      },
      "source": [
        "print(\"final accuracy = {}%\".format(accuracy_val[-1]*100))"
      ],
      "execution_count": 118,
      "outputs": [
        {
          "output_type": "stream",
          "text": [
            "final accuracy = 82.20338983050848%\n"
          ],
          "name": "stdout"
        }
      ]
    },
    {
      "cell_type": "markdown",
      "metadata": {
        "id": "31Vmc-2PJgNm",
        "colab_type": "text"
      },
      "source": [
        "# **Plot the optimal classifier superimposed on the training data**"
      ]
    },
    {
      "cell_type": "code",
      "metadata": {
        "id": "ceY99dFRLQ7O",
        "colab_type": "code",
        "colab": {}
      },
      "source": [
        "x_min, x_max = pointX.min()-0.2 , pointX.max()+0.05 \n",
        "y_min, y_max = pointY.min()-0.2 , pointY.max()+0.2\n",
        "xx, yy = np.meshgrid(np.arange(x_min,x_max, 0.1),\n",
        "                     np.arange(y_min,y_max, 0.1))"
      ],
      "execution_count": 0,
      "outputs": []
    },
    {
      "cell_type": "code",
      "metadata": {
        "id": "VZqn3oCHAdYC",
        "colab_type": "code",
        "colab": {
          "base_uri": "https://localhost:8080/",
          "height": 441
        },
        "outputId": "7c9b4dea-20ac-401e-a503-d50e9fd49d3a"
      },
      "source": [
        "plt.figure(figsize = (6,6))\n",
        "plt.title(\"decision boundary\", fontsize = 20)\n",
        "plt.xlabel(\"X\",fontsize = 15)\n",
        "plt.ylabel(\"Y\",fontsize = 15)\n",
        "plt.contour(xx,yy,Z,levels = [0.5], colors = \"green\")\n",
        "plt.scatter(pointX0, pointY0, c='b')\n",
        "plt.scatter(pointX1, pointY1, c='r')\n",
        "plt.tight_layout()\n",
        "plt.gca().set_aspect('equal', adjustable='box')\n",
        "plt.show()"
      ],
      "execution_count": 179,
      "outputs": [
        {
          "output_type": "display_data",
          "data": {
            "image/png": "[encoded data removed]",
            "text/plain": [
              "<Figure size 432x432 with 1 Axes>"
            ]
          },
          "metadata": {
            "tags": [],
            "needs_background": "light"
          }
        }
      ]
    },
    {
      "cell_type": "code",
      "metadata": {
        "id": "SGl31sDlYDcL",
        "colab_type": "code",
        "colab": {}
      },
      "source": [
        ""
      ],
      "execution_count": 0,
      "outputs": []
    }
  ]
}