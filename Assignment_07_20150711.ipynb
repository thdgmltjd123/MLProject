{
  "nbformat": 4,
  "nbformat_minor": 0,
  "metadata": {
    "colab": {
      "name": "Assignment-07_20150711.ipynb",
      "provenance": [],
      "collapsed_sections": [],
      "authorship_tag": "ABX9TyOrinP0VSMj5smX7vfFkq49",
      "include_colab_link": true
    },
    "kernelspec": {
      "name": "python3",
      "display_name": "Python 3"
    }
  },
  "cells": [
    {
      "cell_type": "markdown",
      "metadata": {
        "id": "view-in-github",
        "colab_type": "text"
      },
      "source": [
        "<a href=\"https://colab.research.google.com/github/thdgmltjd123/Assignment01/blob/master/Assignment_07_20150711.ipynb\" target=\"_parent\"><img src=\"https://colab.research.google.com/assets/colab-badge.svg\" alt=\"Open In Colab\"/></a>"
      ]
    },
    {
      "cell_type": "code",
      "metadata": {
        "id": "ZM2lNbhaK4N9",
        "outputId": "a6f58234-09ba-42e1-9d2a-5fadc1a24cf5",
        "colab": {
          "base_uri": "https://localhost:8080/"
        }
      },
      "source": [
        "#구글 드라이브와 코랩 마운트하기\n",
        "from google.colab import drive\n",
        "drive.mount('/content/drive')"
      ],
      "execution_count": 10,
      "outputs": [
        {
          "output_type": "stream",
          "text": [
            "Drive already mounted at /content/drive; to attempt to forcibly remount, call drive.mount(\"/content/drive\", force_remount=True).\n"
          ],
          "name": "stdout"
        }
      ]
    },
    {
      "cell_type": "code",
      "metadata": {
        "id": "ETbe55BVLKN7"
      },
      "source": [
        "import numpy as np\n",
        "import matplotlib.pyplot as plt\n",
        "import pandas as pd\n",
        "\n",
        "dataset = pd.read_csv('/content/drive/My Drive/Colab Notebooks/data-kmeans.csv')\n",
        "data = dataset.values\n",
        "label = np.random.randint(5, size = (200,1))\n",
        "data = np.append(data, label, axis = 1)"
      ],
      "execution_count": 11,
      "outputs": []
    },
    {
      "cell_type": "code",
      "metadata": {
        "id": "pmgvy8WWWgXX",
        "outputId": "fb9ad9f9-30d0-4aaf-a4c4-3b9be4e85000",
        "colab": {
          "base_uri": "https://localhost:8080/"
        }
      },
      "source": [
        "Z = data[:,:2]\n",
        "c = data[:,-1]\n",
        "\n",
        "compute_distance(data[data[:,2] == 2][:,:2],[2,2])"
      ],
      "execution_count": 12,
      "outputs": [
        {
          "output_type": "execute_result",
          "data": {
            "text/plain": [
              "array([ 22.20360331,  21.09502311,  28.63564213,  84.11896338,\n",
              "        76.32168761,  33.24154028,  84.86459804,  80.95677859,\n",
              "        65.21502894,  71.02816343,  63.78087488,  66.48308055,\n",
              "        70.83784299,  61.7170965 ,  68.76772499,  72.83543094,\n",
              "        72.13875519,  75.69015788,  69.33974329,  75.2861209 ,\n",
              "        72.11102551,  77.62087348,  76.02631123,  75.16648189,\n",
              "        76.4852927 , 103.96634071,  78.58753082,  77.46612163,\n",
              "       106.07544485,  86.40023148,  88.60022573, 104.6231332 ,\n",
              "        85.70880935,  86.70063437,  86.97700846,  91.78779875,\n",
              "       126.58988901, 103.16006979, 142.2743828 ])"
            ]
          },
          "metadata": {
            "tags": []
          },
          "execution_count": 12
        }
      ]
    },
    {
      "cell_type": "code",
      "metadata": {
        "id": "0sgrmLPHLKLF"
      },
      "source": [
        "def compute_distance(a,b):\n",
        "  dist = np.sqrt(np.sum((a-b) ** 2, axis = 1))\n",
        "  return dist\n",
        "\n",
        "def compute_centroid(Z):\n",
        "  center = np.sum(Z,axis = 0) / len(Z)\n",
        "  return center\n",
        "\n",
        "#z individual point\n",
        "def compute_label(z,M):\n",
        "  label = np.argmin(compute_distance(z,M))\n",
        "  return label\n",
        "\n",
        "#Data is a data and M is set of centroids\n",
        "def compute_loss(Data,M):\n",
        "  loss = 0\n",
        "  length = len(Data)\n",
        "  for i in range(5):\n",
        "    loss += np.sum(compute_distance(Data[Data[:,2] == i][:,:2],M[i]) ** 2)\n",
        "  return loss / length"
      ],
      "execution_count": 13,
      "outputs": []
    },
    {
      "cell_type": "code",
      "metadata": {
        "id": "sFyGNRjXLKIS"
      },
      "source": [
        ""
      ],
      "execution_count": null,
      "outputs": []
    },
    {
      "cell_type": "code",
      "metadata": {
        "id": "tc39OwquLKF2"
      },
      "source": [
        ""
      ],
      "execution_count": null,
      "outputs": []
    },
    {
      "cell_type": "code",
      "metadata": {
        "id": "xSjoAyPBLKDQ",
        "outputId": "7537868c-4d59-4339-88ca-540de543e21c",
        "colab": {
          "base_uri": "https://localhost:8080/"
        }
      },
      "source": [
        ""
      ],
      "execution_count": null,
      "outputs": [
        {
          "output_type": "execute_result",
          "data": {
            "text/plain": [
              "array([[-2, -1],\n",
              "       [-1,  0],\n",
              "       [ 1,  2]])"
            ]
          },
          "metadata": {
            "tags": []
          },
          "execution_count": 59
        }
      ]
    },
    {
      "cell_type": "markdown",
      "metadata": {
        "id": "4gGW7Gq2G40A"
      },
      "source": [
        "# **[Output] Plot the data points**"
      ]
    },
    {
      "cell_type": "code",
      "metadata": {
        "id": "-Nr5PbQlLKAZ"
      },
      "source": [
        ""
      ],
      "execution_count": null,
      "outputs": []
    },
    {
      "cell_type": "code",
      "metadata": {
        "id": "EHrmeXrMLJ9W"
      },
      "source": [
        ""
      ],
      "execution_count": null,
      "outputs": []
    },
    {
      "cell_type": "code",
      "metadata": {
        "id": "cpR_5pc9LJ4i"
      },
      "source": [
        ""
      ],
      "execution_count": null,
      "outputs": []
    }
  ]
}