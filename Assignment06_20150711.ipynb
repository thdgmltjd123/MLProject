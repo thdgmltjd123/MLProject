{
  "nbformat": 4,
  "nbformat_minor": 0,
  "metadata": {
    "colab": {
      "name": "Assignment06_20150711.ipynb",
      "provenance": [],
      "authorship_tag": "ABX9TyMEQZvIdjTYFmVXOnHKBAfi",
      "include_colab_link": true
    },
    "kernelspec": {
      "name": "python3",
      "display_name": "Python 3"
    }
  },
  "cells": [
    {
      "cell_type": "markdown",
      "metadata": {
        "id": "view-in-github",
        "colab_type": "text"
      },
      "source": [
        "<a href=\"https://colab.research.google.com/github/thdgmltjd123/Assignment01/blob/master/Assignment06_20150711.ipynb\" target=\"_parent\"><img src=\"https://colab.research.google.com/assets/colab-badge.svg\" alt=\"Open In Colab\"/></a>"
      ]
    },
    {
      "cell_type": "code",
      "metadata": {
        "id": "-1RkvHzEG3cj",
        "outputId": "d2cdd201-2ffd-4feb-db0c-ea3a023e73c6",
        "colab": {
          "base_uri": "https://localhost:8080/",
          "height": 34
        }
      },
      "source": [
        "#구글 드라이브와 코랩 마운트하기\n",
        "from google.colab import drive\n",
        "drive.mount('/content/drive')"
      ],
      "execution_count": 1,
      "outputs": [
        {
          "output_type": "stream",
          "text": [
            "Mounted at /content/drive\n"
          ],
          "name": "stdout"
        }
      ]
    },
    {
      "cell_type": "code",
      "metadata": {
        "id": "bZ1JoFaVH7AT"
      },
      "source": [
        "import numpy as np\n",
        "import matplotlib.pyplot as plt\n",
        "\n",
        "# import data with numpy\n",
        "data_train  = np.loadtxt('/content/drive/My Drive/Colab Notebooks/training.txt', delimiter=',')\n",
        "data_test   = np.loadtxt('/content/drive/My Drive/Colab Notebooks/testing.txt', delimiter=',')\n",
        "\n",
        "# number of training data\n",
        "number_data_train   = data_train.shape[0] \n",
        "number_data_test    = data_test.shape[0]\n",
        "\n",
        "# training data\n",
        "x1_train            = data_train[:,0] # feature 1\n",
        "x2_train            = data_train[:,1] # feature 2\n",
        "y_train             = data_train[:,2].reshape(-1,1)\n",
        "idx_class0_train    = data_train[data_train[:,2]==0] # index of class0\n",
        "idx_class1_train    = data_train[data_train[:,2]==1] # index of class1\n",
        "\n",
        "# testing data\n",
        "x1_test             = data_test[:,0] # feature 1\n",
        "x2_test             = data_test[:,1] # feature 2\n",
        "y_test              = data_test[:,2].reshape(-1,1)\n",
        "idx_class0_test     = data_test[data_test[:,2]==0] # index of class0\n",
        "idx_class1_test     = data_test[data_test[:,2]==1] # index of class1\n"
      ],
      "execution_count": 69,
      "outputs": []
    },
    {
      "cell_type": "code",
      "metadata": {
        "id": "YeN69EubPI-V"
      },
      "source": [
        "# sigmoid fuction\n",
        "def sigmoid(z):\n",
        "  f = 1 / (1 + np.exp(-z))\n",
        "  return f\n",
        "\n",
        "# define Z\n",
        "def generated_X(x,y):\n",
        "  n = len(y)\n",
        "  Z = np.ones([n, 100])\n",
        "  cnt = 1\n",
        "  for i in range(10):\n",
        "    for j in range(10):\n",
        "      Z[:,cnt] = (x**i) * (y**j)\n",
        "      if cnt < 99:\n",
        "        cnt += 1\n",
        "  return Z\n",
        "\n",
        "def f_pred(X,w):\n",
        "  p = sigmoid(np.dot(X,w))\n",
        "  return p\n",
        "\n",
        "def loss_ce(y_pred,y,lamda,w):\n",
        "  n = len(y)\n",
        "  loss = np.mean(-y * np.log(y_pred + 1e-7) - (1 - y) * np.log(1 - y_pred + 1e-7)) + ((lamda * np.sum(w**2)) / 2)\n",
        "  return loss\n",
        "\n",
        "def grad_loss(y_pred,y,X,lamda,w):\n",
        "  n = len(y)\n",
        "  grad = ((2 * np.dot(X.T,y_pred - y)) / n) + lamda * w\n",
        "  return grad\n",
        "\n",
        "def grad_desc(X_train, X_test, y_train, y_test, w_init, tau, max_iter, lamda):\n",
        "\n",
        "  L_iters_train = np.zeros([max_iter])\n",
        "  L_iters_test = np.zeros([max_iter])\n",
        "\n",
        "  w = w_init\n",
        "  for i in range(max_iter):\n",
        "    y_pred_train = f_pred(X_train, w)\n",
        "    y_pred_test = f_pred(X_test, w)\n",
        "    grad_f = grad_loss(y_pred_train, y_train, X_train, lamda, w)\n",
        "    w = w - tau * grad_f\n",
        "    L_iters_train[i] = loss_ce(y_pred_train,y_train,lamda,w)\n",
        "    L_iters_test[i] = loss_ce(y_pred_test,y_test,lamda,w)\n",
        "    \n",
        "  return w, L_iters_train, L_iters_test"
      ],
      "execution_count": 97,
      "outputs": []
    },
    {
      "cell_type": "code",
      "metadata": {
        "id": "3HFO58JaPI6-"
      },
      "source": [
        "np.random.seed(777)\n",
        "w_init = np.random.normal(0,3,(100,1))\n",
        "X_train = generated_X(x1_train,x2_train)\n",
        "X_test = generated_X(x1_test,x2_test)\n",
        "tau = 1e-2\n",
        "lamda = 1e-5\n",
        "max_iter = 10000\n",
        "w, L_iters_train,L_iters_test = grad_desc(X_train, X_test, y_train, y_test, w_init, tau, max_iter, lamda)"
      ],
      "execution_count": 104,
      "outputs": []
    },
    {
      "cell_type": "code",
      "metadata": {
        "id": "lhbsQvruheQp",
        "outputId": "5eb38beb-7ce5-4d70-d23d-c7ef30824c69",
        "colab": {
          "base_uri": "https://localhost:8080/",
          "height": 388
        }
      },
      "source": [
        "plt.figure(3, figsize=(10,6))\n",
        "plt.plot(np.array(range(max_iter)), L_iters_test)\n",
        "plt.xlabel('Iterations')\n",
        "plt.ylabel('Loss value')\n",
        "plt.show()"
      ],
      "execution_count": 106,
      "outputs": [
        {
          "output_type": "display_data",
          "data": {
            "image/png": "[encoded data removed]",
            "text/plain": [
              "<Figure size 720x432 with 1 Axes>"
            ]
          },
          "metadata": {
            "tags": [],
            "needs_background": "light"
          }
        }
      ]
    },
    {
      "cell_type": "code",
      "metadata": {
        "id": "Kn0p-h5sPI0r",
        "outputId": "a4e76cae-d01e-4659-97c3-c8e81678a231",
        "colab": {
          "base_uri": "https://localhost:8080/",
          "height": 102
        }
      },
      "source": [
        "print(X_train.shape)\n",
        "print(X_test.shape)\n",
        "print(number_data_test)\n",
        "print(number_data_train)\n",
        "print(w.shape)"
      ],
      "execution_count": 62,
      "outputs": [
        {
          "output_type": "stream",
          "text": [
            "(200, 100)\n",
            "(200, 100)\n",
            "200\n",
            "200\n",
            "(100, 200)\n"
          ],
          "name": "stdout"
        }
      ]
    },
    {
      "cell_type": "markdown",
      "metadata": {
        "id": "0wLQMZr2elYn"
      },
      "source": [
        ""
      ]
    },
    {
      "cell_type": "markdown",
      "metadata": {
        "id": "bMwy8XqhNVOc"
      },
      "source": [
        "# **[Output] Plot the Training data**"
      ]
    },
    {
      "cell_type": "code",
      "metadata": {
        "id": "1oada1oqNc96",
        "outputId": "753decfe-2b35-4fc9-a09a-f88bab111f06",
        "colab": {
          "base_uri": "https://localhost:8080/",
          "height": 444
        }
      },
      "source": [
        "plt.figure(1,figsize=(5,7))\n",
        "plt.scatter(idx_class0_train[:,0], idx_class0_train[:,1], s=50, c='r', marker='.', label='class=0') \n",
        "plt.scatter(idx_class1_train[:,0], idx_class1_train[:,1], s=50, c='b', marker='.', label='class=1')\n",
        "plt.title('Training data')\n",
        "plt.legend(loc = 'best')\n",
        "plt.xlim([-2,3])\n",
        "plt.ylim([-1,1.2])\n",
        "plt.show()"
      ],
      "execution_count": 23,
      "outputs": [
        {
          "output_type": "display_data",
          "data": {
            "image/png": "[encoded data removed]",
            "text/plain": [
              "<Figure size 360x504 with 1 Axes>"
            ]
          },
          "metadata": {
            "tags": [],
            "needs_background": "light"
          }
        }
      ]
    },
    {
      "cell_type": "markdown",
      "metadata": {
        "id": "T9nlYsEFNdTO"
      },
      "source": [
        "# **[Output] Plot the Testing data**"
      ]
    },
    {
      "cell_type": "code",
      "metadata": {
        "id": "Gf5hbyXNNhgb",
        "outputId": "07e5c8cd-bb79-4a8f-858f-ab536001ebdf",
        "colab": {
          "base_uri": "https://localhost:8080/",
          "height": 444
        }
      },
      "source": [
        "plt.figure(1,figsize=(5,7))\n",
        "plt.scatter(idx_class0_test[:,0], idx_class0_test[:,1], s=50, c='r', marker='.', label='class=0') \n",
        "plt.scatter(idx_class1_test[:,0], idx_class1_test[:,1], s=50, c='b', marker='.', label='class=1')\n",
        "plt.title('Testing data')\n",
        "plt.legend(loc = 'best')\n",
        "plt.xlim([-2,3])\n",
        "plt.ylim([-1,1.2])\n",
        "plt.show()"
      ],
      "execution_count": 24,
      "outputs": [
        {
          "output_type": "display_data",
          "data": {
            "image/png": "[encoded data removed]",
            "text/plain": [
              "<Figure size 360x504 with 1 Axes>"
            ]
          },
          "metadata": {
            "tags": [],
            "needs_background": "light"
          }
        }
      ]
    },
    {
      "cell_type": "markdown",
      "metadata": {
        "id": "IaiJ-Rm2NiCZ"
      },
      "source": [
        "# **[Output] Plot the learning curve with $\\lambda$ = 0.00001**"
      ]
    },
    {
      "cell_type": "code",
      "metadata": {
        "id": "qwDiGhquOB21"
      },
      "source": [
        ""
      ],
      "execution_count": null,
      "outputs": []
    },
    {
      "cell_type": "markdown",
      "metadata": {
        "id": "IzGMahkjN-PT"
      },
      "source": [
        "# **[Output] Plot the learning curve with $\\lambda$ = 0.0001**"
      ]
    },
    {
      "cell_type": "code",
      "metadata": {
        "id": "YYdwcOqYOGdK"
      },
      "source": [
        ""
      ],
      "execution_count": null,
      "outputs": []
    },
    {
      "cell_type": "markdown",
      "metadata": {
        "id": "AoPnURQJOIKc"
      },
      "source": [
        "# **[Output] Plot the learning curve with $\\lambda$ = 0.001**"
      ]
    },
    {
      "cell_type": "code",
      "metadata": {
        "id": "a1sWbk6XN-C8"
      },
      "source": [
        ""
      ],
      "execution_count": null,
      "outputs": []
    },
    {
      "cell_type": "markdown",
      "metadata": {
        "id": "ScSyxGjdOKxA"
      },
      "source": [
        "# **[Output] Plot the learning curve with $\\lambda$ = 0.01**"
      ]
    },
    {
      "cell_type": "code",
      "metadata": {
        "id": "Ijdrqs33ON8C"
      },
      "source": [
        ""
      ],
      "execution_count": null,
      "outputs": []
    },
    {
      "cell_type": "markdown",
      "metadata": {
        "id": "zUPziojSOOVN"
      },
      "source": [
        "# **[Output] Plot the learning curve with $\\lambda$ = 0.1**"
      ]
    },
    {
      "cell_type": "code",
      "metadata": {
        "id": "w5vF5qv9OWt3"
      },
      "source": [
        ""
      ],
      "execution_count": null,
      "outputs": []
    },
    {
      "cell_type": "markdown",
      "metadata": {
        "id": "h4kIP3jtOdQT"
      },
      "source": [
        "# **[Output] Plot the probability map of the obtained classifier with $\\lambda$ = 0.00001**"
      ]
    },
    {
      "cell_type": "code",
      "metadata": {
        "id": "alAhAGDtOq_u"
      },
      "source": [
        ""
      ],
      "execution_count": null,
      "outputs": []
    },
    {
      "cell_type": "markdown",
      "metadata": {
        "id": "e-W44GgpOrXK"
      },
      "source": [
        "# **[Output] Plot the probability map of the obtained classifier with $\\lambda$ = 0.0001**"
      ]
    },
    {
      "cell_type": "code",
      "metadata": {
        "id": "vd7F8sXJOtTS"
      },
      "source": [
        ""
      ],
      "execution_count": null,
      "outputs": []
    },
    {
      "cell_type": "markdown",
      "metadata": {
        "id": "y_b8bYI7OtkY"
      },
      "source": [
        "# **[Output] Plot the probability map of the obtained classifier with $\\lambda$ = 0.001**"
      ]
    },
    {
      "cell_type": "code",
      "metadata": {
        "id": "oIRsfD0gOvpk"
      },
      "source": [
        ""
      ],
      "execution_count": null,
      "outputs": []
    },
    {
      "cell_type": "markdown",
      "metadata": {
        "id": "tcLeEiTqOv5i"
      },
      "source": [
        "# **[Output] Plot the probability map of the obtained classifier with $\\lambda$ = 0.01**"
      ]
    },
    {
      "cell_type": "code",
      "metadata": {
        "id": "7QG5Mm5yOx63"
      },
      "source": [
        ""
      ],
      "execution_count": null,
      "outputs": []
    },
    {
      "cell_type": "markdown",
      "metadata": {
        "id": "GPfeZzb8OyJe"
      },
      "source": [
        "# **[Output] Plot the probability map of the obtained classifier with $\\lambda$ = 0.1**"
      ]
    },
    {
      "cell_type": "code",
      "metadata": {
        "id": "1t9ulxatO3z9"
      },
      "source": [
        ""
      ],
      "execution_count": null,
      "outputs": []
    },
    {
      "cell_type": "markdown",
      "metadata": {
        "id": "wyOsjPpuO5JI"
      },
      "source": [
        "# **Print the final training accuracy with the given regularization parameters**"
      ]
    },
    {
      "cell_type": "code",
      "metadata": {
        "id": "g44tjjpBPB28"
      },
      "source": [
        ""
      ],
      "execution_count": null,
      "outputs": []
    },
    {
      "cell_type": "markdown",
      "metadata": {
        "id": "6Zf-_3j9PCGu"
      },
      "source": [
        "# **Print the final testing accuracy with the given regularization parameters**"
      ]
    },
    {
      "cell_type": "code",
      "metadata": {
        "id": "zojzz6_IMgIw"
      },
      "source": [
        ""
      ],
      "execution_count": null,
      "outputs": []
    }
  ]
}