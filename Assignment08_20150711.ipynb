{
  "nbformat": 4,
  "nbformat_minor": 0,
  "metadata": {
    "colab": {
      "name": "Assignment08_20150711.ipynb",
      "provenance": [],
      "authorship_tag": "ABX9TyMKgLpxQf2vH2EmOKroIhR2",
      "include_colab_link": true
    },
    "kernelspec": {
      "name": "python3",
      "display_name": "Python 3"
    }
  },
  "cells": [
    {
      "cell_type": "markdown",
      "metadata": {
        "id": "view-in-github",
        "colab_type": "text"
      },
      "source": [
        "<a href=\"https://colab.research.google.com/github/thdgmltjd123/Assignment01/blob/master/Assignment08_20150711.ipynb\" target=\"_parent\"><img src=\"https://colab.research.google.com/assets/colab-badge.svg\" alt=\"Open In Colab\"/></a>"
      ]
    },
    {
      "cell_type": "code",
      "metadata": {
        "id": "k7Q3RDUmaxL5",
        "outputId": "b109dca6-9724-45c9-94a8-6982820347ea",
        "colab": {
          "base_uri": "https://localhost:8080/"
        }
      },
      "source": [
        "#구글 드라이브와 코랩 마운트하기\n",
        "from google.colab import drive\n",
        "drive.mount('/content/drive')"
      ],
      "execution_count": 34,
      "outputs": [
        {
          "output_type": "stream",
          "text": [
            "Drive already mounted at /content/drive; to attempt to forcibly remount, call drive.mount(\"/content/drive\", force_remount=True).\n"
          ],
          "name": "stdout"
        }
      ]
    },
    {
      "cell_type": "code",
      "metadata": {
        "id": "tMZgPTXHbvvb"
      },
      "source": [
        "import numpy as np\n",
        "import pandas as pd\n",
        "import matplotlib.pyplot as plt\n",
        "import matplotlib.patches as mpatches\n",
        "data = np.loadtxt('/content/drive/My Drive/Colab Notebooks/data-pca.txt', delimiter=',')\n",
        "\n",
        "x = data[:,0]\n",
        "y = data[:,1]"
      ],
      "execution_count": 72,
      "outputs": []
    },
    {
      "cell_type": "code",
      "metadata": {
        "id": "vc1hIIGrjkWs"
      },
      "source": [
        "def normalize_data(x,y):\n",
        "  xn = (x - np.mean(x)) / np.std(x)\n",
        "  yn = (y - np.mean(y)) / np.std(y)\n",
        "  return xn, yn\n",
        "\n",
        "def compute_covariance(xn,yn):\n",
        "  n = len(xn)\n",
        "  Z = np.empty((n,2))\n",
        "  Z[:,0] = xn\n",
        "  Z[:,1] = yn\n",
        "  covar = np.dot(Z.T,Z) / n\n",
        "  return covar\n",
        "\n",
        "def compute_principal_direction(covariance):\n",
        "  eigen_val,eigen_vec = np.linalg.eig(covariance)\n",
        "  direction = eigen_vec\n",
        "  return direction\n"
      ],
      "execution_count": 73,
      "outputs": []
    },
    {
      "cell_type": "code",
      "metadata": {
        "id": "UhoETkqKjkTE",
        "outputId": "98c0973d-97e1-4b55-f438-98260a598761",
        "colab": {
          "base_uri": "https://localhost:8080/"
        }
      },
      "source": [
        "xn, yn = normalize_data(x,y)\n",
        "covar = compute_covariance(xn,yn)\n",
        "covar"
      ],
      "execution_count": 74,
      "outputs": [
        {
          "output_type": "execute_result",
          "data": {
            "text/plain": [
              "array([[1.     , 0.73553],\n",
              "       [0.73553, 1.     ]])"
            ]
          },
          "metadata": {
            "tags": []
          },
          "execution_count": 74
        }
      ]
    },
    {
      "cell_type": "code",
      "metadata": {
        "id": "SLdLo0DCjkQK",
        "outputId": "1cb42a17-7db2-43ed-d27e-46162c4cd417",
        "colab": {
          "base_uri": "https://localhost:8080/"
        }
      },
      "source": [
        "eigen_val, eigen_vec = np.linalg.eig(covar)\n",
        "print(eigen_val)\n",
        "print(eigen_vec)\n",
        "eigen_vec.T[0]"
      ],
      "execution_count": 75,
      "outputs": [
        {
          "output_type": "stream",
          "text": [
            "[1.73553 0.26447]\n",
            "[[ 0.70710678 -0.70710678]\n",
            " [ 0.70710678  0.70710678]]\n"
          ],
          "name": "stdout"
        },
        {
          "output_type": "execute_result",
          "data": {
            "text/plain": [
              "array([0.70710678, 0.70710678])"
            ]
          },
          "metadata": {
            "tags": []
          },
          "execution_count": 75
        }
      ]
    },
    {
      "cell_type": "markdown",
      "metadata": {
        "id": "KsGep6Kq1nBl"
      },
      "source": [
        "# **[output] plot the original data points**"
      ]
    },
    {
      "cell_type": "code",
      "metadata": {
        "id": "u4BPq4hYjkMV",
        "outputId": "b86e64e1-c190-45ab-92af-3090c3788fb4",
        "colab": {
          "base_uri": "https://localhost:8080/",
          "height": 499
        }
      },
      "source": [
        "plt.figure(figsize = (8,8))\n",
        "plt.scatter(x, y , color = \"red\", marker = '+', s = 80)\n",
        "plt.title(\"original data points\")\n",
        "plt.show()"
      ],
      "execution_count": 76,
      "outputs": [
        {
          "output_type": "display_data",
          "data": {
            "image/png": "[encoded data removed]",
            "text/plain": [
              "<Figure size 576x576 with 1 Axes>"
            ]
          },
          "metadata": {
            "tags": [],
            "needs_background": "light"
          }
        }
      ]
    },
    {
      "cell_type": "markdown",
      "metadata": {
        "id": "bhQ_FoM81vNb"
      },
      "source": [
        "# **[output] plot the normalized data points**"
      ]
    },
    {
      "cell_type": "code",
      "metadata": {
        "id": "VKJq5_l5jkHi",
        "outputId": "bf00650d-d02e-4ad6-bd5d-2429cf286f7a",
        "colab": {
          "base_uri": "https://localhost:8080/",
          "height": 499
        }
      },
      "source": [
        "plt.figure(figsize = (8,8))\n",
        "plt.scatter(xn, yn , color = \"red\", marker = '+', s = 80)\n",
        "plt.title(\"data normalized by z-scoring\")\n",
        "plt.xlim([-3,3])\n",
        "plt.ylim([-3,3])\n",
        "plt.show()"
      ],
      "execution_count": 77,
      "outputs": [
        {
          "output_type": "display_data",
          "data": {
            "image/png": "[encoded data removed]",
            "text/plain": [
              "<Figure size 576x576 with 1 Axes>"
            ]
          },
          "metadata": {
            "tags": [],
            "needs_background": "light"
          }
        }
      ]
    },
    {
      "cell_type": "markdown",
      "metadata": {
        "id": "yNAddzvZ2IMc"
      },
      "source": [
        "# **[output] Plot the principal axes**"
      ]
    },
    {
      "cell_type": "code",
      "metadata": {
        "id": "w0hUZWTJjj5W",
        "outputId": "808ed8f8-21b0-4aa0-acc7-7fe48001ce22",
        "colab": {
          "base_uri": "https://localhost:8080/",
          "height": 499
        }
      },
      "source": [
        "plt.figure(figsize = (8,8))\n",
        "plt.scatter(xn, yn , color = \"red\", marker = '+', s = 80)\n",
        "plt.annotate(\"\",xy = -eigen_val[0] * eigen_vec.T[0], xytext = (0,0), arrowprops = dict(fc = \"blue\",ec = \"white\"))\n",
        "plt.annotate(\"\",xy = eigen_val[1] * eigen_vec.T[1], xytext = (0,0), arrowprops = dict(fc = \"green\", ec = \"white\"))\n",
        "plt.title(\"data normalized by z-scoring\")\n",
        "plt.xlim([-3,3])\n",
        "plt.ylim([-3,3])\n",
        "plt.show()"
      ],
      "execution_count": 86,
      "outputs": [
        {
          "output_type": "display_data",
          "data": {
            "image/png": "[encoded data removed]",
            "text/plain": [
              "<Figure size 576x576 with 1 Axes>"
            ]
          },
          "metadata": {
            "tags": [],
            "needs_background": "light"
          }
        }
      ]
    },
    {
      "cell_type": "code",
      "metadata": {
        "id": "AK8p0msi8EHO"
      },
      "source": [
        ""
      ],
      "execution_count": null,
      "outputs": []
    }
  ]
}