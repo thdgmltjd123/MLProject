{
  "nbformat": 4,
  "nbformat_minor": 0,
  "metadata": {
    "colab": {
      "name": "Assignment08_20150711.ipynb",
      "provenance": [],
      "authorship_tag": "ABX9TyPuGuWSq6vLo8lWdp+rgXea",
      "include_colab_link": true
    },
    "kernelspec": {
      "name": "python3",
      "display_name": "Python 3"
    }
  },
  "cells": [
    {
      "cell_type": "markdown",
      "metadata": {
        "id": "view-in-github",
        "colab_type": "text"
      },
      "source": [
        "<a href=\"https://colab.research.google.com/github/thdgmltjd123/Assignment01/blob/master/Assignment08_20150711.ipynb\" target=\"_parent\"><img src=\"https://colab.research.google.com/assets/colab-badge.svg\" alt=\"Open In Colab\"/></a>"
      ]
    },
    {
      "cell_type": "code",
      "metadata": {
        "id": "k7Q3RDUmaxL5",
        "outputId": "b109dca6-9724-45c9-94a8-6982820347ea",
        "colab": {
          "base_uri": "https://localhost:8080/"
        }
      },
      "source": [
        "#구글 드라이브와 코랩 마운트하기\n",
        "from google.colab import drive\n",
        "drive.mount('/content/drive')"
      ],
      "execution_count": 34,
      "outputs": [
        {
          "output_type": "stream",
          "text": [
            "Drive already mounted at /content/drive; to attempt to forcibly remount, call drive.mount(\"/content/drive\", force_remount=True).\n"
          ],
          "name": "stdout"
        }
      ]
    },
    {
      "cell_type": "code",
      "metadata": {
        "id": "tMZgPTXHbvvb"
      },
      "source": [
        "import numpy as np\n",
        "import pandas as pd\n",
        "import matplotlib.pyplot as plt\n",
        "data = np.loadtxt('/content/drive/My Drive/Colab Notebooks/data-pca.txt', delimiter=',')\n",
        "\n",
        "x = data[:,0]\n",
        "y = data[:,1]"
      ],
      "execution_count": 35,
      "outputs": []
    },
    {
      "cell_type": "code",
      "metadata": {
        "id": "vc1hIIGrjkWs"
      },
      "source": [
        "def normalize_data(x,y):\n",
        "  xn = (x - np.mean(x)) / np.std(x)\n",
        "  yn = (y - np.mean(y)) / np.std(y)\n",
        "  return xn, yn\n",
        "\n",
        "def compute_covariance(xn,yn):\n",
        "  n = len(xn)\n",
        "  Z = np.empty((n,2))\n",
        "  Z[:,0] = xn\n",
        "  Z[:,1] = yn\n",
        "  covar = np.dot(Z.T,Z) / n\n",
        "  return covar\n",
        "\n",
        "def compute_principal_direction(covariance):\n",
        "  eigen_val,eigen_vec = np.linalg.eig(covariance)\n",
        "  direction = eigen_vec\n",
        "  return direction\n"
      ],
      "execution_count": 37,
      "outputs": []
    },
    {
      "cell_type": "code",
      "metadata": {
        "id": "UhoETkqKjkTE",
        "outputId": "23a1403d-ecb1-4d04-8068-34aad6c97361",
        "colab": {
          "base_uri": "https://localhost:8080/"
        }
      },
      "source": [
        "xn, yn = normalize_data(x,y)\n",
        "covar = compute_covariance(xn,yn)\n",
        "covar"
      ],
      "execution_count": 38,
      "outputs": [
        {
          "output_type": "execute_result",
          "data": {
            "text/plain": [
              "array([[1.     , 0.73553],\n",
              "       [0.73553, 1.     ]])"
            ]
          },
          "metadata": {
            "tags": []
          },
          "execution_count": 38
        }
      ]
    },
    {
      "cell_type": "code",
      "metadata": {
        "id": "SLdLo0DCjkQK",
        "outputId": "c809028f-454d-4153-d1b6-75b9a67aef76",
        "colab": {
          "base_uri": "https://localhost:8080/"
        }
      },
      "source": [
        "eigen_val, eigen_vec = np.linalg.eig(covar)\n",
        "print(eigen_val)\n",
        "print(eigen_vec)\n",
        "eigen_vec.T[0]"
      ],
      "execution_count": 45,
      "outputs": [
        {
          "output_type": "stream",
          "text": [
            "[1.73553 0.26447]\n",
            "[[ 0.70710678 -0.70710678]\n",
            " [ 0.70710678  0.70710678]]\n"
          ],
          "name": "stdout"
        },
        {
          "output_type": "execute_result",
          "data": {
            "text/plain": [
              "array([0.70710678, 0.70710678])"
            ]
          },
          "metadata": {
            "tags": []
          },
          "execution_count": 45
        }
      ]
    },
    {
      "cell_type": "markdown",
      "metadata": {
        "id": "KsGep6Kq1nBl"
      },
      "source": [
        "# **[output] plot the original data points**"
      ]
    },
    {
      "cell_type": "code",
      "metadata": {
        "id": "u4BPq4hYjkMV",
        "outputId": "426df6d1-ae6d-4ffc-888a-ec2cfde26987",
        "colab": {
          "base_uri": "https://localhost:8080/",
          "height": 499
        }
      },
      "source": [
        "plt.figure(figsize = (8,8))\n",
        "plt.scatter(x, y , color = \"red\", marker = '+', s = 80)\n",
        "plt.title(\"original data points\")\n",
        "plt.show()"
      ],
      "execution_count": 44,
      "outputs": [
        {
          "output_type": "display_data",
          "data": {
            "image/png": "[encoded data removed]",
            "text/plain": [
              "<Figure size 576x576 with 1 Axes>"
            ]
          },
          "metadata": {
            "tags": [],
            "needs_background": "light"
          }
        }
      ]
    },
    {
      "cell_type": "markdown",
      "metadata": {
        "id": "bhQ_FoM81vNb"
      },
      "source": [
        "# **[output] plot the normalized data points**"
      ]
    },
    {
      "cell_type": "code",
      "metadata": {
        "id": "VKJq5_l5jkHi",
        "outputId": "e22bafd7-50f2-45f6-f40f-242496d15e06",
        "colab": {
          "base_uri": "https://localhost:8080/",
          "height": 499
        }
      },
      "source": [
        "plt.figure(figsize = (8,8))\n",
        "plt.scatter(xn, yn , color = \"red\", marker = '+', s = 80)\n",
        "plt.title(\"data normalized by z-scoring\")\n",
        "plt.xlim([-3,3])\n",
        "plt.ylim([-3,3])\n",
        "plt.show()"
      ],
      "execution_count": 47,
      "outputs": [
        {
          "output_type": "display_data",
          "data": {
            "image/png": "[encoded data removed]",
            "text/plain": [
              "<Figure size 576x576 with 1 Axes>"
            ]
          },
          "metadata": {
            "tags": [],
            "needs_background": "light"
          }
        }
      ]
    },
    {
      "cell_type": "code",
      "metadata": {
        "id": "w0hUZWTJjj5W"
      },
      "source": [
        ""
      ],
      "execution_count": null,
      "outputs": []
    }
  ]
}