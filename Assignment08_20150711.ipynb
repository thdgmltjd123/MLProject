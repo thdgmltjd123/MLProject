{
  "nbformat": 4,
  "nbformat_minor": 0,
  "metadata": {
    "colab": {
      "name": "Assignment08_20150711.ipynb",
      "provenance": [],
      "authorship_tag": "ABX9TyNg5LkDas7acnHy7JrNi0Xx",
      "include_colab_link": true
    },
    "kernelspec": {
      "name": "python3",
      "display_name": "Python 3"
    }
  },
  "cells": [
    {
      "cell_type": "markdown",
      "metadata": {
        "id": "view-in-github",
        "colab_type": "text"
      },
      "source": [
        "<a href=\"https://colab.research.google.com/github/thdgmltjd123/Assignment01/blob/master/Assignment08_20150711.ipynb\" target=\"_parent\"><img src=\"https://colab.research.google.com/assets/colab-badge.svg\" alt=\"Open In Colab\"/></a>"
      ]
    },
    {
      "cell_type": "code",
      "metadata": {
        "id": "k7Q3RDUmaxL5",
        "outputId": "b109dca6-9724-45c9-94a8-6982820347ea",
        "colab": {
          "base_uri": "https://localhost:8080/"
        }
      },
      "source": [
        "#구글 드라이브와 코랩 마운트하기\n",
        "from google.colab import drive\n",
        "drive.mount('/content/drive')"
      ],
      "execution_count": 34,
      "outputs": [
        {
          "output_type": "stream",
          "text": [
            "Drive already mounted at /content/drive; to attempt to forcibly remount, call drive.mount(\"/content/drive\", force_remount=True).\n"
          ],
          "name": "stdout"
        }
      ]
    },
    {
      "cell_type": "code",
      "metadata": {
        "id": "tMZgPTXHbvvb"
      },
      "source": [
        "import numpy as np\n",
        "import pandas as pd\n",
        "import matplotlib.pyplot as plt\n",
        "import matplotlib.patches as mpatches\n",
        "data = np.loadtxt('/content/drive/My Drive/Colab Notebooks/data-pca.txt', delimiter=',')\n",
        "\n",
        "x = data[:,0]\n",
        "y = data[:,1]"
      ],
      "execution_count": 72,
      "outputs": []
    },
    {
      "cell_type": "code",
      "metadata": {
        "id": "vc1hIIGrjkWs"
      },
      "source": [
        "def normalize_data(x,y):\n",
        "  xn = (x - np.mean(x)) / np.std(x)\n",
        "  yn = (y - np.mean(y)) / np.std(y)\n",
        "  return xn, yn\n",
        "\n",
        "def compute_covariance(xn,yn):\n",
        "  n = len(xn)\n",
        "  Z = np.empty((n,2))\n",
        "  Z[:,0] = xn\n",
        "  Z[:,1] = yn\n",
        "  covar = np.cov(Z.T)\n",
        "  return covar\n",
        "\n",
        "def compute_principal_direction(covariance):\n",
        "  eigen_val,eigen_vec = np.linalg.eig(covariance)\n",
        "  direction = (eigen_vec * eigen_val).T\n",
        "  return direction\n",
        "\n",
        "def compute_projection(point, axis):\n",
        "  projection = np.dot(point,axis)\n",
        "  return projection"
      ],
      "execution_count": 160,
      "outputs": []
    },
    {
      "cell_type": "code",
      "metadata": {
        "id": "UhoETkqKjkTE",
        "outputId": "1fe8dba2-ceba-4288-d4b7-718e80a78c23",
        "colab": {
          "base_uri": "https://localhost:8080/"
        }
      },
      "source": [
        "xn, yn = normalize_data(x,y)\n",
        "covar = compute_covariance(xn,yn)\n",
        "print(covar)\n",
        "direction = compute_principal_direction(covar)"
      ],
      "execution_count": 146,
      "outputs": [
        {
          "output_type": "stream",
          "text": [
            "[[1.02040816 0.75054082]\n",
            " [0.75054082 1.02040816]]\n"
          ],
          "name": "stdout"
        }
      ]
    },
    {
      "cell_type": "code",
      "metadata": {
        "id": "SLdLo0DCjkQK",
        "outputId": "a638d947-1f52-464d-8c3d-93b9878354de",
        "colab": {
          "base_uri": "https://localhost:8080/"
        }
      },
      "source": [
        "eigen_val, eigen_vec = np.linalg.eig(covar)\n",
        "print(eigen_val)\n",
        "print(eigen_vec.T)\n",
        "eigen_vec.T[0]\n",
        "\n",
        "ndata = np.empty((50,2))\n",
        "ndata[:,0] = xn\n",
        "ndata[:,1] = yn\n",
        "proj_1 = compute_projection(ndata, eigen_vec.T[0])\n",
        "proj_2 = compute_projection(ndata, eigen_vec.T[1])"
      ],
      "execution_count": 161,
      "outputs": [
        {
          "output_type": "stream",
          "text": [
            "[1.77094898 0.26986734]\n",
            "[[ 0.70710678  0.70710678]\n",
            " [-0.70710678  0.70710678]]\n"
          ],
          "name": "stdout"
        }
      ]
    },
    {
      "cell_type": "code",
      "metadata": {
        "id": "iN6FCSdbIa-G",
        "outputId": "692adfcb-ac9d-4b4f-fea9-377b48e8caf1",
        "colab": {
          "base_uri": "https://localhost:8080/"
        }
      },
      "source": [
        "proj_1"
      ],
      "execution_count": 162,
      "outputs": [
        {
          "output_type": "execute_result",
          "data": {
            "text/plain": [
              "array([-1.49631573,  0.92218448, -1.22439641, -1.64386667, -1.27321784,\n",
              "        0.97681765, -1.2688078 ,  2.34148397,  0.0299913 ,  0.78172091,\n",
              "        0.63167593,  0.55280211,  0.08967664,  0.5258584 , -1.56415227,\n",
              "        1.91610013,  0.88679644, -0.95607294,  2.32996005,  0.47793672,\n",
              "        2.21747241, -0.38900956,  1.78482705, -0.05175329, -1.66512212,\n",
              "       -0.5081321 ,  1.23711116,  1.17198554, -0.84221394,  0.00693221,\n",
              "        0.2279369 ,  1.51309444, -1.33874162,  0.59252508, -0.67907294,\n",
              "        1.35297995, -1.68749214,  1.39236004, -2.55992269,  0.27850072,\n",
              "        0.97677403, -0.88819936, -1.29666362,  0.98966708, -1.81272102,\n",
              "        0.27196377, -3.19298107, -1.21299033, -0.36792473,  1.44263507])"
            ]
          },
          "metadata": {
            "tags": []
          },
          "execution_count": 162
        }
      ]
    },
    {
      "cell_type": "markdown",
      "metadata": {
        "id": "KsGep6Kq1nBl"
      },
      "source": [
        "# **[output] plot the original data points**"
      ]
    },
    {
      "cell_type": "code",
      "metadata": {
        "id": "u4BPq4hYjkMV",
        "outputId": "84105cd4-f3a2-4760-d493-1d10405e8cd0",
        "colab": {
          "base_uri": "https://localhost:8080/",
          "height": 499
        }
      },
      "source": [
        "plt.figure(figsize = (8,8))\n",
        "plt.scatter(x, y , color = \"red\", marker = '+', s = 80)\n",
        "plt.title(\"original data points\")\n",
        "plt.show()"
      ],
      "execution_count": 149,
      "outputs": [
        {
          "output_type": "display_data",
          "data": {
            "image/png": "[encoded data removed]",
            "text/plain": [
              "<Figure size 576x576 with 1 Axes>"
            ]
          },
          "metadata": {
            "tags": [],
            "needs_background": "light"
          }
        }
      ]
    },
    {
      "cell_type": "markdown",
      "metadata": {
        "id": "bhQ_FoM81vNb"
      },
      "source": [
        "# **[output] plot the normalized data points**"
      ]
    },
    {
      "cell_type": "code",
      "metadata": {
        "id": "VKJq5_l5jkHi",
        "outputId": "2bfc04e3-67d2-4ae4-cd09-cb9e47c363f0",
        "colab": {
          "base_uri": "https://localhost:8080/",
          "height": 499
        }
      },
      "source": [
        "plt.figure(figsize = (8,8))\n",
        "plt.scatter(xn, yn , color = \"red\", marker = '+', s = 80)\n",
        "plt.title(\"data normalized by z-scoring\")\n",
        "plt.xlim([-3,3])\n",
        "plt.ylim([-3,3])\n",
        "plt.show()"
      ],
      "execution_count": 150,
      "outputs": [
        {
          "output_type": "display_data",
          "data": {
            "image/png": "[encoded data removed]",
            "text/plain": [
              "<Figure size 576x576 with 1 Axes>"
            ]
          },
          "metadata": {
            "tags": [],
            "needs_background": "light"
          }
        }
      ]
    },
    {
      "cell_type": "markdown",
      "metadata": {
        "id": "yNAddzvZ2IMc"
      },
      "source": [
        "# **[output] Plot the principal axes**"
      ]
    },
    {
      "cell_type": "code",
      "metadata": {
        "id": "w0hUZWTJjj5W",
        "outputId": "d7710f7a-9c7e-4697-edd2-778da62c513e",
        "colab": {
          "base_uri": "https://localhost:8080/",
          "height": 499
        }
      },
      "source": [
        "plt.figure(figsize = (8,8))\n",
        "plt.scatter(xn, yn , color = \"red\", marker = '+', s = 80)\n",
        "plt.annotate(\"\",xy = -direction[0], xytext = (0,0), arrowprops = dict(fc = \"blue\",ec = \"white\"))\n",
        "plt.annotate(\"\",xy = direction[1], xytext = (0,0), arrowprops = dict(fc = \"green\", ec = \"white\"))\n",
        "plt.title(\"principal directions\")\n",
        "plt.xlim([-3,3])\n",
        "plt.ylim([-3,3])\n",
        "plt.show()"
      ],
      "execution_count": 151,
      "outputs": [
        {
          "output_type": "display_data",
          "data": {
            "image/png": "[encoded data removed]",
            "text/plain": [
              "<Figure size 576x576 with 1 Axes>"
            ]
          },
          "metadata": {
            "tags": [],
            "needs_background": "light"
          }
        }
      ]
    },
    {
      "cell_type": "markdown",
      "metadata": {
        "id": "nahXzgaw_1G4"
      },
      "source": [
        "# **[output] Plot the first principal axis**"
      ]
    },
    {
      "cell_type": "code",
      "metadata": {
        "id": "AK8p0msi8EHO",
        "outputId": "640080c4-e88a-458d-89a8-ec52e8df1eb2",
        "colab": {
          "base_uri": "https://localhost:8080/",
          "height": 499
        }
      },
      "source": [
        "xx = np.linspace(-2.5,2.5,100)\n",
        "plt.figure(figsize = (8,8))\n",
        "plt.scatter(xn, yn , color = \"red\", marker = '+', s = 80)\n",
        "plt.plot(xx, xx, linewidth = 2, c = \"blue\")\n",
        "plt.title(\"first principle axis\")\n",
        "plt.xlim([-3,3])\n",
        "plt.ylim([-3,3])\n",
        "plt.show()"
      ],
      "execution_count": 152,
      "outputs": [
        {
          "output_type": "display_data",
          "data": {
            "image/png": "[encoded data removed]",
            "text/plain": [
              "<Figure size 576x576 with 1 Axes>"
            ]
          },
          "metadata": {
            "tags": [],
            "needs_background": "light"
          }
        }
      ]
    },
    {
      "cell_type": "markdown",
      "metadata": {
        "id": "Nv-6iZOfCUtT"
      },
      "source": [
        "# **[output] Plot the project of the normalized data points onto the first principal axis**"
      ]
    },
    {
      "cell_type": "code",
      "metadata": {
        "id": "a2PDQJxUCeqZ",
        "outputId": "e8d7ac98-3feb-471f-8df6-0d2d9bd559dc",
        "colab": {
          "base_uri": "https://localhost:8080/",
          "height": 499
        }
      },
      "source": [
        "xx = np.linspace(-2.5,2.5,100)\n",
        "plt.figure(figsize = (8,8))\n",
        "plt.scatter(xn, yn , color = \"red\", marker = '+', s = 80)\n",
        "plt.plot(xx, xx, linewidth = 2, c = \"blue\")\n",
        "plt.scatter(proj_1*eigen_vec.T[0][0],proj_1*eigen_vec.T[0][1],c = \"green\")\n",
        "plt.title(\"first principle axis\")\n",
        "plt.xlim([-3,3])\n",
        "plt.ylim([-3,3])\n",
        "plt.show()"
      ],
      "execution_count": 164,
      "outputs": [
        {
          "output_type": "display_data",
          "data": {
            "image/png": "[encoded data removed]",
            "text/plain": [
              "<Figure size 576x576 with 1 Axes>"
            ]
          },
          "metadata": {
            "tags": [],
            "needs_background": "light"
          }
        }
      ]
    },
    {
      "cell_type": "code",
      "metadata": {
        "id": "Y-bjc8QZDQvU"
      },
      "source": [
        ""
      ],
      "execution_count": null,
      "outputs": []
    }
  ]
}