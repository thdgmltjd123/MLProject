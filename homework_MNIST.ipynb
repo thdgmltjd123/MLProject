{
  "cells": [
    {
      "cell_type": "markdown",
      "metadata": {
        "id": "view-in-github",
        "colab_type": "text"
      },
      "source": [
        "<a href=\"https://colab.research.google.com/github/thdgmltjd123/MLProject/blob/master/homework_MNIST.ipynb\" target=\"_parent\"><img src=\"https://colab.research.google.com/assets/colab-badge.svg\" alt=\"Open In Colab\"/></a>"
      ]
    },
    {
      "cell_type": "markdown",
      "metadata": {
        "id": "-DSSfeNMm2_W"
      },
      "source": [
        "# MNIST 데이터셋 학습 (to do)\n",
        "MNIST 데이터셋은0~9까지 총 10개의 label로 이루어진 이미지 분류를 위한 사이즈의 손글씨 데이터셋이다.  \n",
        "각각의 레이블마다 28×28 크기 이미지인 60,000개의 training 데이터셋, 10,000개의 test 데이터셋이 존재하고, 결과적으로 총 70,000개의 28×28 크기의 이미지로 데이터셋이 구성되어 있다."
      ]
    },
    {
      "cell_type": "code",
      "execution_count": 133,
      "metadata": {
        "id": "LH4sFyVtm2_g"
      },
      "outputs": [],
      "source": [
        "import tensorflow.keras.utils as utils\n",
        "from tensorflow.keras import datasets\n",
        "from tensorflow.keras.models import Sequential, Model\n",
        "from tensorflow.keras.layers import Input, Dense, Activation\n",
        "from tensorflow.keras.preprocessing.image import ImageDataGenerator, img_to_array\n",
        "from tensorflow.keras import backend\n",
        "\n",
        "from tensorflow.keras.layers import Flatten, BatchNormalization, Dropout, ReLU\n",
        "from tensorflow.keras.layers import Conv2D\n",
        "from tensorflow.keras.layers import MaxPooling2D\n",
        "\n",
        "import numpy as np\n",
        "import matplotlib.pyplot as plt\n",
        "%matplotlib inline"
      ]
    },
    {
      "cell_type": "markdown",
      "metadata": {
        "id": "sBcaBq6Sm2_i"
      },
      "source": [
        "## (1) 데이터셋"
      ]
    },
    {
      "cell_type": "code",
      "execution_count": 134,
      "metadata": {
        "colab": {
          "base_uri": "https://localhost:8080/"
        },
        "id": "tmDZX69um2_j",
        "outputId": "828042e4-5bd7-486e-f104-1733b596461b"
      },
      "outputs": [
        {
          "output_type": "stream",
          "name": "stdout",
          "text": [
            "(60000, 28, 28) (60000,)\n",
            "(10000, 28, 28) (10000,)\n"
          ]
        }
      ],
      "source": [
        "(X_train, Y_train),(X_test, Y_test) = datasets.mnist.load_data()\n",
        "print(X_train.shape, Y_train.shape)\n",
        "print(X_test.shape, Y_test.shape)"
      ]
    },
    {
      "cell_type": "code",
      "execution_count": 135,
      "metadata": {
        "colab": {
          "base_uri": "https://localhost:8080/"
        },
        "id": "xNLKzFDbm2_l",
        "outputId": "36913379-9771-4d78-d4f9-9742e4647883"
      },
      "outputs": [
        {
          "output_type": "stream",
          "name": "stdout",
          "text": [
            "(60000, 28, 28, 1) (60000, 10)\n"
          ]
        }
      ],
      "source": [
        "X_train = X_train.reshape(X_train.shape[0], X_train.shape[1], X_train.shape[2], 1)\n",
        "X_test = X_test.reshape(X_test.shape[0], X_test.shape[1], X_test.shape[2], 1)\n",
        "\n",
        "Y_train = utils.to_categorical(Y_train)\n",
        "Y_test = utils.to_categorical(Y_test)\n",
        "\n",
        "print(X_train.shape, Y_train.shape)\n",
        "\n",
        "n_in = X_train.shape[1:]\n",
        "n_out = Y_train.shape[-1]"
      ]
    },
    {
      "cell_type": "markdown",
      "metadata": {
        "id": "zgkH4xXRm2_m"
      },
      "source": [
        "## (2) 모델링"
      ]
    },
    {
      "cell_type": "code",
      "execution_count": 144,
      "metadata": {
        "id": "Ij_uCuIfm2_n"
      },
      "outputs": [],
      "source": [
        "# 99.5\n",
        "def CNN(n_in, n_out):\n",
        "  model = Sequential()\n",
        "  model.add(Conv2D(16, kernel_size = (3,3), padding = 'same', input_shape = n_in))\n",
        "  model.add(BatchNormalization())\n",
        "  model.add(ReLU())\n",
        "  model.add(Conv2D(32, kernel_size = (3,3), padding = 'same'))\n",
        "  model.add(BatchNormalization())\n",
        "  model.add(MaxPooling2D(pool_size = (2,2)))\n",
        "  model.add(ReLU())\n",
        "  model.add(Conv2D(64, kernel_size = (5,5), padding = 'same'))\n",
        "  model.add(BatchNormalization())\n",
        "  model.add(ReLU())\n",
        "  model.add(Conv2D(128, kernel_size = (5,5), padding = 'same'))\n",
        "  model.add(MaxPooling2D(pool_size = (2,2)))\n",
        "  model.add(BatchNormalization())\n",
        "  model.add(ReLU())\n",
        "  model.add(Conv2D(32, kernel_size = (3,3), padding = 'same'))\n",
        "  model.add(BatchNormalization())\n",
        "  model.add(ReLU())\n",
        "  model.add(Flatten())\n",
        "  model.add(Dense(n_out, activation = 'softmax'))\n",
        "\n",
        "  return model\n",
        "  "
      ]
    },
    {
      "cell_type": "code",
      "source": [
        "def CNN(n_in, n_out):\n",
        "  model = Sequential()\n",
        "  model.add(Conv2D(32, kernel_size = (3,3), padding = 'same', input_shape = n_in))\n",
        "  model.add(BatchNormalization())\n",
        "  model.add(ReLU())\n",
        "  model.add(Conv2D(32, kernel_size = (3,3), padding = 'same'))\n",
        "  model.add(BatchNormalization())\n",
        "  model.add(MaxPooling2D(pool_size = (2,2)))\n",
        "  model.add(ReLU())\n",
        "  model.add(Conv2D(64, kernel_size = (5,5), padding = 'same'))\n",
        "  model.add(BatchNormalization())\n",
        "  model.add(ReLU())\n",
        "  model.add(Conv2D(128, kernel_size = (5,5), padding = 'same'))\n",
        "  model.add(MaxPooling2D(pool_size = (2,2)))\n",
        "  model.add(BatchNormalization())\n",
        "  model.add(ReLU())\n",
        "  model.add(Conv2D(32, kernel_size = (3,3), padding = 'same'))\n",
        "  model.add(BatchNormalization())\n",
        "  model.add(ReLU())\n",
        "  model.add(Flatten())\n",
        "  model.add(Dense(256))\n",
        "  model.add(ReLU())\n",
        "  model.add(Dense(n_out, activation = 'softmax'))\n",
        "\n",
        "  return model\n",
        "  "
      ],
      "metadata": {
        "id": "H5L0C4MS9wQK"
      },
      "execution_count": 137,
      "outputs": []
    },
    {
      "cell_type": "code",
      "source": [
        "model = CNN(n_in, n_out)\n",
        "model.summary()"
      ],
      "metadata": {
        "colab": {
          "base_uri": "https://localhost:8080/"
        },
        "id": "Ly27sPBFrZpb",
        "outputId": "a28a5f33-1e37-4d02-9e61-9f81ce8d1e5c"
      },
      "execution_count": 138,
      "outputs": [
        {
          "output_type": "stream",
          "name": "stdout",
          "text": [
            "Model: \"sequential_16\"\n",
            "_________________________________________________________________\n",
            " Layer (type)                Output Shape              Param #   \n",
            "=================================================================\n",
            " conv2d_72 (Conv2D)          (None, 28, 28, 32)        320       \n",
            "                                                                 \n",
            " batch_normalization_76 (Bat  (None, 28, 28, 32)       128       \n",
            " chNormalization)                                                \n",
            "                                                                 \n",
            " re_lu_94 (ReLU)             (None, 28, 28, 32)        0         \n",
            "                                                                 \n",
            " conv2d_73 (Conv2D)          (None, 28, 28, 32)        9248      \n",
            "                                                                 \n",
            " batch_normalization_77 (Bat  (None, 28, 28, 32)       128       \n",
            " chNormalization)                                                \n",
            "                                                                 \n",
            " max_pooling2d_32 (MaxPoolin  (None, 14, 14, 32)       0         \n",
            " g2D)                                                            \n",
            "                                                                 \n",
            " re_lu_95 (ReLU)             (None, 14, 14, 32)        0         \n",
            "                                                                 \n",
            " conv2d_74 (Conv2D)          (None, 14, 14, 64)        51264     \n",
            "                                                                 \n",
            " batch_normalization_78 (Bat  (None, 14, 14, 64)       256       \n",
            " chNormalization)                                                \n",
            "                                                                 \n",
            " re_lu_96 (ReLU)             (None, 14, 14, 64)        0         \n",
            "                                                                 \n",
            " conv2d_75 (Conv2D)          (None, 14, 14, 128)       204928    \n",
            "                                                                 \n",
            " max_pooling2d_33 (MaxPoolin  (None, 7, 7, 128)        0         \n",
            " g2D)                                                            \n",
            "                                                                 \n",
            " batch_normalization_79 (Bat  (None, 7, 7, 128)        512       \n",
            " chNormalization)                                                \n",
            "                                                                 \n",
            " re_lu_97 (ReLU)             (None, 7, 7, 128)         0         \n",
            "                                                                 \n",
            " conv2d_76 (Conv2D)          (None, 7, 7, 32)          36896     \n",
            "                                                                 \n",
            " batch_normalization_80 (Bat  (None, 7, 7, 32)         128       \n",
            " chNormalization)                                                \n",
            "                                                                 \n",
            " re_lu_98 (ReLU)             (None, 7, 7, 32)          0         \n",
            "                                                                 \n",
            " flatten_16 (Flatten)        (None, 1568)              0         \n",
            "                                                                 \n",
            " dense_38 (Dense)            (None, 256)               401664    \n",
            "                                                                 \n",
            " re_lu_99 (ReLU)             (None, 256)               0         \n",
            "                                                                 \n",
            " dense_39 (Dense)            (None, 10)                2570      \n",
            "                                                                 \n",
            "=================================================================\n",
            "Total params: 708,042\n",
            "Trainable params: 707,466\n",
            "Non-trainable params: 576\n",
            "_________________________________________________________________\n"
          ]
        }
      ]
    },
    {
      "cell_type": "markdown",
      "metadata": {
        "id": "OMrlQEOhm2_n"
      },
      "source": [
        "## (3) 모델의 학습과정 설정"
      ]
    },
    {
      "cell_type": "code",
      "execution_count": 139,
      "metadata": {
        "id": "hYVEFn0-m2_o"
      },
      "outputs": [],
      "source": [
        "from tensorflow.keras.optimizers import Adam"
      ]
    },
    {
      "cell_type": "code",
      "source": [
        "model.compile(loss = \"categorical_crossentropy\", optimizer = \"adam\", metrics = [\"accuracy\"])"
      ],
      "metadata": {
        "id": "Mdv8_mDZr2TE"
      },
      "execution_count": 140,
      "outputs": []
    },
    {
      "cell_type": "markdown",
      "metadata": {
        "id": "2T716Z6Pm2_p"
      },
      "source": [
        "## (4) 모델 학습시키기"
      ]
    },
    {
      "cell_type": "code",
      "execution_count": 145,
      "metadata": {
        "colab": {
          "base_uri": "https://localhost:8080/"
        },
        "id": "obYXzyi9m2_q",
        "outputId": "0f14c874-e4ff-4459-cbbb-1c098c62a046"
      },
      "outputs": [
        {
          "output_type": "stream",
          "name": "stdout",
          "text": [
            "Epoch 1/40\n",
            "188/188 [==============================] - 12s 63ms/step - loss: 0.0013 - accuracy: 0.9995 - val_loss: 0.0506 - val_accuracy: 0.9917\n",
            "Epoch 2/40\n",
            "188/188 [==============================] - 12s 62ms/step - loss: 0.0051 - accuracy: 0.9987 - val_loss: 0.0512 - val_accuracy: 0.9903\n",
            "Epoch 3/40\n",
            "188/188 [==============================] - 12s 62ms/step - loss: 0.0073 - accuracy: 0.9975 - val_loss: 0.0412 - val_accuracy: 0.9920\n",
            "Epoch 4/40\n",
            "188/188 [==============================] - 12s 62ms/step - loss: 0.0024 - accuracy: 0.9991 - val_loss: 0.0360 - val_accuracy: 0.9933\n",
            "Epoch 5/40\n",
            "188/188 [==============================] - 12s 62ms/step - loss: 2.9568e-04 - accuracy: 0.9999 - val_loss: 0.0359 - val_accuracy: 0.9933\n",
            "Epoch 6/40\n",
            "188/188 [==============================] - 12s 62ms/step - loss: 0.0011 - accuracy: 0.9998 - val_loss: 0.0363 - val_accuracy: 0.9935\n",
            "Epoch 7/40\n",
            "188/188 [==============================] - 12s 64ms/step - loss: 3.7252e-05 - accuracy: 1.0000 - val_loss: 0.0327 - val_accuracy: 0.9942\n",
            "Epoch 8/40\n",
            "188/188 [==============================] - 12s 62ms/step - loss: 1.3543e-05 - accuracy: 1.0000 - val_loss: 0.0328 - val_accuracy: 0.9944\n",
            "Epoch 9/40\n",
            "188/188 [==============================] - 12s 61ms/step - loss: 9.4664e-06 - accuracy: 1.0000 - val_loss: 0.0326 - val_accuracy: 0.9944\n",
            "Epoch 10/40\n",
            "188/188 [==============================] - 12s 62ms/step - loss: 7.8086e-06 - accuracy: 1.0000 - val_loss: 0.0327 - val_accuracy: 0.9943\n",
            "Epoch 11/40\n",
            "188/188 [==============================] - 12s 61ms/step - loss: 6.4412e-06 - accuracy: 1.0000 - val_loss: 0.0327 - val_accuracy: 0.9945\n",
            "Epoch 12/40\n",
            "188/188 [==============================] - 12s 62ms/step - loss: 5.6353e-06 - accuracy: 1.0000 - val_loss: 0.0328 - val_accuracy: 0.9945\n",
            "Epoch 13/40\n",
            "188/188 [==============================] - 12s 62ms/step - loss: 5.1383e-06 - accuracy: 1.0000 - val_loss: 0.0329 - val_accuracy: 0.9947\n",
            "Epoch 14/40\n",
            "188/188 [==============================] - 12s 61ms/step - loss: 4.3918e-06 - accuracy: 1.0000 - val_loss: 0.0330 - val_accuracy: 0.9946\n",
            "Epoch 15/40\n",
            "188/188 [==============================] - 12s 62ms/step - loss: 4.2818e-06 - accuracy: 1.0000 - val_loss: 0.0330 - val_accuracy: 0.9946\n",
            "Epoch 16/40\n",
            "188/188 [==============================] - 12s 62ms/step - loss: 3.4900e-06 - accuracy: 1.0000 - val_loss: 0.0332 - val_accuracy: 0.9946\n",
            "Epoch 17/40\n",
            "188/188 [==============================] - 12s 62ms/step - loss: 3.2521e-06 - accuracy: 1.0000 - val_loss: 0.0333 - val_accuracy: 0.9946\n",
            "Epoch 18/40\n",
            "188/188 [==============================] - 12s 62ms/step - loss: 2.8014e-06 - accuracy: 1.0000 - val_loss: 0.0335 - val_accuracy: 0.9947\n",
            "Epoch 19/40\n",
            "188/188 [==============================] - 12s 64ms/step - loss: 2.5047e-06 - accuracy: 1.0000 - val_loss: 0.0336 - val_accuracy: 0.9947\n",
            "Epoch 20/40\n",
            "188/188 [==============================] - 12s 61ms/step - loss: 2.4946e-06 - accuracy: 1.0000 - val_loss: 0.0337 - val_accuracy: 0.9946\n",
            "Epoch 21/40\n",
            "188/188 [==============================] - 12s 61ms/step - loss: 2.0183e-06 - accuracy: 1.0000 - val_loss: 0.0338 - val_accuracy: 0.9946\n",
            "Epoch 22/40\n",
            "188/188 [==============================] - 12s 61ms/step - loss: 1.9873e-06 - accuracy: 1.0000 - val_loss: 0.0340 - val_accuracy: 0.9947\n",
            "Epoch 23/40\n",
            "188/188 [==============================] - 12s 62ms/step - loss: 1.6246e-06 - accuracy: 1.0000 - val_loss: 0.0342 - val_accuracy: 0.9948\n",
            "Epoch 24/40\n",
            "188/188 [==============================] - 12s 62ms/step - loss: 1.5641e-06 - accuracy: 1.0000 - val_loss: 0.0342 - val_accuracy: 0.9947\n",
            "Epoch 25/40\n",
            "188/188 [==============================] - 12s 62ms/step - loss: 1.3953e-06 - accuracy: 1.0000 - val_loss: 0.0342 - val_accuracy: 0.9948\n",
            "Epoch 26/40\n",
            "188/188 [==============================] - 12s 62ms/step - loss: 1.2312e-06 - accuracy: 1.0000 - val_loss: 0.0344 - val_accuracy: 0.9948\n",
            "Epoch 27/40\n",
            "188/188 [==============================] - 12s 62ms/step - loss: 1.1267e-06 - accuracy: 1.0000 - val_loss: 0.0345 - val_accuracy: 0.9949\n",
            "Epoch 28/40\n",
            "188/188 [==============================] - 12s 62ms/step - loss: 1.0110e-06 - accuracy: 1.0000 - val_loss: 0.0346 - val_accuracy: 0.9948\n",
            "Epoch 29/40\n",
            "188/188 [==============================] - 12s 62ms/step - loss: 9.4779e-07 - accuracy: 1.0000 - val_loss: 0.0348 - val_accuracy: 0.9948\n",
            "Epoch 30/40\n",
            "188/188 [==============================] - 12s 62ms/step - loss: 8.1714e-07 - accuracy: 1.0000 - val_loss: 0.0349 - val_accuracy: 0.9948\n",
            "Epoch 31/40\n",
            "188/188 [==============================] - 12s 62ms/step - loss: 7.3409e-07 - accuracy: 1.0000 - val_loss: 0.0351 - val_accuracy: 0.9949\n",
            "Epoch 32/40\n",
            "188/188 [==============================] - 12s 62ms/step - loss: 6.6967e-07 - accuracy: 1.0000 - val_loss: 0.0352 - val_accuracy: 0.9949\n",
            "Epoch 33/40\n",
            "188/188 [==============================] - 12s 62ms/step - loss: 5.9214e-07 - accuracy: 1.0000 - val_loss: 0.0353 - val_accuracy: 0.9949\n",
            "Epoch 34/40\n",
            "188/188 [==============================] - 12s 62ms/step - loss: 5.4206e-07 - accuracy: 1.0000 - val_loss: 0.0354 - val_accuracy: 0.9949\n",
            "Epoch 35/40\n",
            "188/188 [==============================] - 12s 62ms/step - loss: 5.2760e-07 - accuracy: 1.0000 - val_loss: 0.0356 - val_accuracy: 0.9950\n",
            "Epoch 36/40\n",
            "188/188 [==============================] - 12s 62ms/step - loss: 4.4635e-07 - accuracy: 1.0000 - val_loss: 0.0357 - val_accuracy: 0.9948\n",
            "Epoch 37/40\n",
            "188/188 [==============================] - 12s 62ms/step - loss: 4.3545e-07 - accuracy: 1.0000 - val_loss: 0.0359 - val_accuracy: 0.9948\n",
            "Epoch 38/40\n",
            "188/188 [==============================] - 12s 62ms/step - loss: 3.8618e-07 - accuracy: 1.0000 - val_loss: 0.0360 - val_accuracy: 0.9948\n",
            "Epoch 39/40\n",
            "188/188 [==============================] - 12s 62ms/step - loss: 3.5031e-07 - accuracy: 1.0000 - val_loss: 0.0361 - val_accuracy: 0.9948\n",
            "Epoch 40/40\n",
            "188/188 [==============================] - 12s 62ms/step - loss: 3.0962e-07 - accuracy: 1.0000 - val_loss: 0.0363 - val_accuracy: 0.9948\n"
          ]
        }
      ],
      "source": [
        "history = model.fit(X_train, Y_train, batch_size = 256, epochs = 40, validation_split = 0.2)"
      ]
    },
    {
      "cell_type": "markdown",
      "metadata": {
        "id": "fIUgAQPLm2_q"
      },
      "source": [
        "## (5) 모델 평가하기"
      ]
    },
    {
      "cell_type": "code",
      "execution_count": 146,
      "metadata": {
        "colab": {
          "base_uri": "https://localhost:8080/"
        },
        "id": "ioUV8Xltm2_r",
        "outputId": "d47da325-24e6-457f-9826-ca7797fa241f"
      },
      "outputs": [
        {
          "output_type": "stream",
          "name": "stdout",
          "text": [
            "40/40 [==============================] - 1s 22ms/step - loss: 0.0252 - accuracy: 0.9958\n",
            "loss : 0.0252, accruracy : 0.9958\n"
          ]
        }
      ],
      "source": [
        "loss_and_accuracy = model.evaluate(X_test, Y_test, batch_size=256)\n",
        "print('loss : %.4f, accruracy : %.4f'%(loss_and_accuracy[0],loss_and_accuracy[1]))"
      ]
    },
    {
      "cell_type": "markdown",
      "metadata": {
        "id": "40-Lzlm3m2_r"
      },
      "source": [
        "## (6) 모델 사용하기\n",
        "\n",
        "모델 평가 후, 분류 오류가 난 사례들을 확인해보고, 모델과 데이터셋에 대한 평가 및 분석해볼 것"
      ]
    },
    {
      "cell_type": "code",
      "execution_count": 147,
      "metadata": {
        "colab": {
          "base_uri": "https://localhost:8080/",
          "height": 302
        },
        "id": "lNtTLH3Im2_s",
        "outputId": "84e7e78e-c6b8-4ae4-c6a0-66fada61bbcf"
      },
      "outputs": [
        {
          "output_type": "stream",
          "name": "stdout",
          "text": [
            "predict label : 6, real label : 6\n"
          ]
        },
        {
          "output_type": "execute_result",
          "data": {
            "text/plain": [
              "<matplotlib.image.AxesImage at 0x7fcee1ab08d0>"
            ]
          },
          "metadata": {},
          "execution_count": 147
        },
        {
          "output_type": "display_data",
          "data": {
            "text/plain": [
              "<Figure size 432x288 with 1 Axes>"
            ],
            "image/png": "[encoded data removed]"
          },
          "metadata": {
            "needs_background": "light"
          }
        }
      ],
      "source": [
        "test_data = X_test[-1].reshape(1,28,28,1)\n",
        "pred_y = model.predict(test_data).argmax()\n",
        "real_y = Y_test[-1].argmax()\n",
        "print('predict label : {}, real label : {}'.format(pred_y, real_y))\n",
        "plt.imshow(X_test[-1].reshape(28,28), cmap='gray')"
      ]
    },
    {
      "cell_type": "code",
      "source": [
        "y_pred = model.predict(X_test)"
      ],
      "metadata": {
        "id": "AtD8IU2xI3dE"
      },
      "execution_count": 158,
      "outputs": []
    },
    {
      "cell_type": "code",
      "source": [
        "y_test = list(map(np.argmax, Y_test))"
      ],
      "metadata": {
        "id": "OuzR-hMSHrIb"
      },
      "execution_count": 176,
      "outputs": []
    },
    {
      "cell_type": "code",
      "source": [
        "def error_mnist(prediction_array, true_label):\n",
        "    error_index = []\n",
        "    for i in range(len(true_label)):\n",
        "        if np.argmax(prediction_array[i]) != true_label[i]:\n",
        "            error_index.append(i)\n",
        "    return error_index"
      ],
      "metadata": {
        "id": "nkHDfoGaLWuh"
      },
      "execution_count": 179,
      "outputs": []
    },
    {
      "cell_type": "code",
      "source": [
        "error = error_mnist(y_pred, y_test)"
      ],
      "metadata": {
        "id": "8z7YRB2ELa2v"
      },
      "execution_count": 180,
      "outputs": []
    },
    {
      "cell_type": "code",
      "source": [
        "error"
      ],
      "metadata": {
        "colab": {
          "base_uri": "https://localhost:8080/"
        },
        "id": "AZN966gWKbMl",
        "outputId": "6b027463-9b34-4c2c-b013-31683e45f238"
      },
      "execution_count": 181,
      "outputs": [
        {
          "output_type": "execute_result",
          "data": {
            "text/plain": [
              "[321,\n",
              " 445,\n",
              " 582,\n",
              " 659,\n",
              " 947,\n",
              " 1014,\n",
              " 1232,\n",
              " 1247,\n",
              " 1260,\n",
              " 1393,\n",
              " 1530,\n",
              " 1878,\n",
              " 1901,\n",
              " 2035,\n",
              " 2118,\n",
              " 2130,\n",
              " 2135,\n",
              " 2414,\n",
              " 2462,\n",
              " 2597,\n",
              " 2654,\n",
              " 2720,\n",
              " 2896,\n",
              " 2953,\n",
              " 3422,\n",
              " 3558,\n",
              " 3762,\n",
              " 3808,\n",
              " 4078,\n",
              " 4176,\n",
              " 4199,\n",
              " 4740,\n",
              " 4814,\n",
              " 4823,\n",
              " 5937,\n",
              " 5955,\n",
              " 6576,\n",
              " 6597,\n",
              " 6625,\n",
              " 9664,\n",
              " 9729,\n",
              " 9839]"
            ]
          },
          "metadata": {},
          "execution_count": 181
        }
      ]
    },
    {
      "cell_type": "code",
      "source": [
        "pred_y = y_pred[321].argmax()\n",
        "real_y = Y_test[321].argmax()\n",
        "print('predict label : {}, real label : {}'.format(pred_y, real_y))\n",
        "plt.imshow(X_test[321].reshape(28,28), cmap='gray')"
      ],
      "metadata": {
        "colab": {
          "base_uri": "https://localhost:8080/",
          "height": 302
        },
        "id": "7k8hLJ0-IeLX",
        "outputId": "3eb3ca90-e7b2-4fe2-9573-60ae20b6545d"
      },
      "execution_count": 174,
      "outputs": [
        {
          "output_type": "stream",
          "name": "stdout",
          "text": [
            "predict label : 7, real label : 2\n"
          ]
        },
        {
          "output_type": "execute_result",
          "data": {
            "text/plain": [
              "<matplotlib.image.AxesImage at 0x7fcee11ad090>"
            ]
          },
          "metadata": {},
          "execution_count": 174
        },
        {
          "output_type": "display_data",
          "data": {
            "text/plain": [
              "<Figure size 432x288 with 1 Axes>"
            ],
            "image/png": "[encoded data removed]"
          },
          "metadata": {
            "needs_background": "light"
          }
        }
      ]
    }
  ],
  "metadata": {
    "kernelspec": {
      "display_name": "Python 3",
      "name": "python3"
    },
    "language_info": {
      "name": "python"
    },
    "colab": {
      "name": "homework_MNIST.ipynb",
      "provenance": [],
      "include_colab_link": true
    },
    "accelerator": "GPU"
  },
  "nbformat": 4,
  "nbformat_minor": 0
}