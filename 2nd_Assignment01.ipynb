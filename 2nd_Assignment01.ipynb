{
  "nbformat": 4,
  "nbformat_minor": 0,
  "metadata": {
    "colab": {
      "name": "2nd_Assignment01.ipynb",
      "provenance": [],
      "authorship_tag": "ABX9TyMPk/JpG6zIsuFQ40M7dXRN",
      "include_colab_link": true
    },
    "kernelspec": {
      "name": "python3",
      "display_name": "Python 3"
    }
  },
  "cells": [
    {
      "cell_type": "markdown",
      "metadata": {
        "id": "view-in-github",
        "colab_type": "text"
      },
      "source": [
        "<a href=\"https://colab.research.google.com/github/thdgmltjd123/Assignment01/blob/master/2nd_Assignment01.ipynb\" target=\"_parent\"><img src=\"https://colab.research.google.com/assets/colab-badge.svg\" alt=\"Open In Colab\"/></a>"
      ]
    },
    {
      "cell_type": "code",
      "metadata": {
        "id": "m-m2kIikfR6o",
        "colab_type": "code",
        "colab": {
          "base_uri": "https://localhost:8080/",
          "height": 122
        },
        "outputId": "3f678fbe-b3bb-4ed9-92d2-1c151b9f49e0"
      },
      "source": [
        "#구글 드라이브와 코랩 마운트하기\n",
        "from google.colab import drive\n",
        "drive.mount('/content/drive')"
      ],
      "execution_count": 1,
      "outputs": [
        {
          "output_type": "stream",
          "text": [
            "Go to this URL in a browser: https://accounts.google.com/o/oauth2/auth?client_id=947318989803-6bn6qk8qdgf4n4g3pfee6491hc0brc4i.apps.googleusercontent.com&redirect_uri=urn%3aietf%3awg%3aoauth%3a2.0%3aoob&scope=email%20https%3a%2f%2fwww.googleapis.com%2fauth%2fdocs.test%20https%3a%2f%2fwww.googleapis.com%2fauth%2fdrive%20https%3a%2f%2fwww.googleapis.com%2fauth%2fdrive.photos.readonly%20https%3a%2f%2fwww.googleapis.com%2fauth%2fpeopleapi.readonly&response_type=code\n",
            "\n",
            "Enter your authorization code:\n",
            "··········\n",
            "Mounted at /content/drive\n"
          ],
          "name": "stdout"
        }
      ]
    },
    {
      "cell_type": "markdown",
      "metadata": {
        "id": "tF1oNNwWgpnV",
        "colab_type": "text"
      },
      "source": [
        "# **LaTeX**"
      ]
    },
    {
      "cell_type": "markdown",
      "metadata": {
        "id": "e1ds-6qlhOU2",
        "colab_type": "text"
      },
      "source": [
        "$f(x) = ax^2 + bx + c$ \\\\\n",
        "$f(x) = \\exp(x)$ \\\\\n",
        "$f(x) = \\frac{a}{b},\\quad a \\in \\mathbb{R}, b \\in \\mathbb{R}$ \\\\\n",
        "$f(x) = \\sum_{i=1}^n x_i,\\quad x = (x_1,x_2,\\cdots,x_n)$ \\\\\n",
        "$f(x) = \\int_{\\Omega} \\sigma(x,t)\\, dt$ \\\\\n",
        "$\\frac{\\partial \\mathbb{E}}{\\partial w}$"
      ]
    }
  ]
}