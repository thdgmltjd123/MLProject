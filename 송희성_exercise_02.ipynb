{
  "nbformat": 4,
  "nbformat_minor": 0,
  "metadata": {
    "colab": {
      "name": "송희성 - exercise-02.ipynb",
      "provenance": [],
      "collapsed_sections": [],
      "include_colab_link": true
    },
    "kernelspec": {
      "display_name": "Python 3",
      "language": "python",
      "name": "python3"
    },
    "language_info": {
      "codemirror_mode": {
        "name": "ipython",
        "version": 3
      },
      "file_extension": ".py",
      "mimetype": "text/x-python",
      "name": "python",
      "nbconvert_exporter": "python",
      "pygments_lexer": "ipython3",
      "version": "3.6.6"
    }
  },
  "cells": [
    {
      "cell_type": "markdown",
      "metadata": {
        "id": "view-in-github",
        "colab_type": "text"
      },
      "source": [
        "<a href=\"https://colab.research.google.com/github/thdgmltjd123/Assignment01/blob/master/%EC%86%A1%ED%9D%AC%EC%84%B1_exercise_02.ipynb\" target=\"_parent\"><img src=\"https://colab.research.google.com/assets/colab-badge.svg\" alt=\"Open In Colab\"/></a>"
      ]
    },
    {
      "cell_type": "code",
      "metadata": {
        "colab_type": "code",
        "id": "a4sV_dzhnhK4",
        "colab": {}
      },
      "source": [
        "%matplotlib inline"
      ],
      "execution_count": null,
      "outputs": []
    },
    {
      "cell_type": "markdown",
      "metadata": {
        "colab_type": "text",
        "id": "Jaa_P1-DnhK7"
      },
      "source": [
        "\n",
        "What is PyTorch?\n",
        "================\n",
        "\n",
        "It’s a Python-based scientific computing package targeted at two sets of\n",
        "audiences:\n",
        "\n",
        "-  A replacement for NumPy to use the power of GPUs\n",
        "-  a deep learning research platform that provides maximum flexibility\n",
        "   and speed\n",
        "\n",
        "Getting Started\n",
        "---------------\n",
        "\n",
        "Tensors are similar to NumPy’s ndarrays, with the addition being that\n",
        "Tensors can also be used on a GPU to accelerate computing.\n",
        "\n"
      ]
    },
    {
      "cell_type": "code",
      "metadata": {
        "colab_type": "code",
        "id": "uVAogZSCnhK7",
        "colab": {}
      },
      "source": [
        "from __future__ import print_function\n",
        "import torch"
      ],
      "execution_count": null,
      "outputs": []
    },
    {
      "cell_type": "markdown",
      "metadata": {
        "colab_type": "text",
        "id": "0pqj6bGCnhK-"
      },
      "source": [
        "<div class=\"alert alert-info\"><h4>Note</h4><p>An uninitialized matrix is declared,\n",
        "    but does not contain definite known\n",
        "    values before it is used. When an\n",
        "    uninitialized matrix is created,\n",
        "    whatever values were in the allocated\n",
        "    memory at the time will appear as the initial values.</p></div>\n",
        "\n"
      ]
    },
    {
      "cell_type": "markdown",
      "metadata": {
        "colab_type": "text",
        "id": "Tew8e7OpnhK-"
      },
      "source": [
        "Construct a 5x3 matrix, uninitialized:\n",
        "\n"
      ]
    },
    {
      "cell_type": "code",
      "metadata": {
        "colab_type": "code",
        "id": "KB_rxn6inhK_",
        "colab": {
          "base_uri": "https://localhost:8080/",
          "height": 102
        },
        "outputId": "37ff1fb2-5b3e-4f2b-cea7-811efacb3519"
      },
      "source": [
        "#텐서는 numpy의 ndarray와 비슷하지만 GPU를 지원함.\n",
        "#빈 행렬이 생성되는 순간 쓰레기 값으로 메모리를 차지함.\n",
        "x = torch.empty(5, 3)\n",
        "print(x)"
      ],
      "execution_count": null,
      "outputs": [
        {
          "output_type": "stream",
          "text": [
            "tensor([[2.8228e-37, 0.0000e+00, 2.1019e-44],\n",
            "        [0.0000e+00, 1.4013e-45, 0.0000e+00],\n",
            "        [1.3235e-14, 1.8369e+28, 1.9433e-19],\n",
            "        [3.3738e-12, 7.4086e+28, 6.9397e+22],\n",
            "        [1.7260e+25, 2.2856e+20, 5.0948e-14]])\n"
          ],
          "name": "stdout"
        }
      ]
    },
    {
      "cell_type": "markdown",
      "metadata": {
        "colab_type": "text",
        "id": "2j1mxmCvnhLB"
      },
      "source": [
        "Construct a randomly initialized matrix:\n",
        "\n"
      ]
    },
    {
      "cell_type": "code",
      "metadata": {
        "colab_type": "code",
        "id": "xQ6mYBuvnhLB",
        "colab": {
          "base_uri": "https://localhost:8080/",
          "height": 102
        },
        "outputId": "a5a990d5-b345-435b-b75c-e84689f891a7"
      },
      "source": [
        "#uniform[0,1]\n",
        "x = torch.rand(5, 3) # 5행 3열\n",
        "print(x)"
      ],
      "execution_count": null,
      "outputs": [
        {
          "output_type": "stream",
          "text": [
            "tensor([[0.4200, 0.7391, 0.5969],\n",
            "        [0.9462, 0.2496, 0.1931],\n",
            "        [0.0794, 0.9434, 0.1535],\n",
            "        [0.3588, 0.6935, 0.7525],\n",
            "        [0.9996, 0.1613, 0.6266]])\n"
          ],
          "name": "stdout"
        }
      ]
    },
    {
      "cell_type": "markdown",
      "metadata": {
        "colab_type": "text",
        "id": "FTF-C1BsnhLE"
      },
      "source": [
        "Construct a matrix filled zeros and of dtype long:\n",
        "\n"
      ]
    },
    {
      "cell_type": "code",
      "metadata": {
        "colab_type": "code",
        "id": "CpPPFSmEnhLE",
        "colab": {
          "base_uri": "https://localhost:8080/",
          "height": 102
        },
        "outputId": "6b1c28c8-5439-4a34-ebee-3f81f2929d4d"
      },
      "source": [
        "#0으로 채워진 5행 3열 type = long\n",
        "x = torch.zeros(5, 3, dtype=torch.long)\n",
        "print(x)"
      ],
      "execution_count": null,
      "outputs": [
        {
          "output_type": "stream",
          "text": [
            "tensor([[0, 0, 0],\n",
            "        [0, 0, 0],\n",
            "        [0, 0, 0],\n",
            "        [0, 0, 0],\n",
            "        [0, 0, 0]])\n"
          ],
          "name": "stdout"
        }
      ]
    },
    {
      "cell_type": "markdown",
      "metadata": {
        "colab_type": "text",
        "id": "cnlL4luEnhLG"
      },
      "source": [
        "Construct a tensor directly from data:\n",
        "\n"
      ]
    },
    {
      "cell_type": "code",
      "metadata": {
        "colab_type": "code",
        "id": "3-vmXuahnhLH",
        "colab": {
          "base_uri": "https://localhost:8080/",
          "height": 34
        },
        "outputId": "47b72138-e548-420f-a379-412445a6b372"
      },
      "source": [
        "#직접 리스트를 넣어서 tensor생성 가능\n",
        "x = torch.tensor([5.5, 3])\n",
        "print(x)"
      ],
      "execution_count": null,
      "outputs": [
        {
          "output_type": "stream",
          "text": [
            "tensor([5.5000, 3.0000])\n"
          ],
          "name": "stdout"
        }
      ]
    },
    {
      "cell_type": "markdown",
      "metadata": {
        "colab_type": "text",
        "id": "4HOv7T2JnhLK"
      },
      "source": [
        "or create a tensor based on an existing tensor. These methods\n",
        "will reuse properties of the input tensor, e.g. dtype, unless\n",
        "new values are provided by user\n",
        "\n"
      ]
    },
    {
      "cell_type": "code",
      "metadata": {
        "colab_type": "code",
        "id": "PtISgUOxnhLK",
        "colab": {
          "base_uri": "https://localhost:8080/",
          "height": 187
        },
        "outputId": "4da6fabf-47c8-4800-fa3f-6b3b871dc67b"
      },
      "source": [
        "#tensor.new_* --> 다른 텐서와 비슷한 타입 및 다른 사이즈를 갖고싶게 할 때\n",
        "x = x.new_ones(5, 3, dtype=torch.double)      # new_* methods take in sizes\n",
        "print(x)\n",
        "#tensor.*_like --> 다른 텐서와 같은 사이즈를 가지고 싶게 할 때.\n",
        "x = torch.randn_like(x, dtype=torch.float)    # override dtype!\n",
        "print(x)                                      # result has the same size"
      ],
      "execution_count": null,
      "outputs": [
        {
          "output_type": "stream",
          "text": [
            "tensor([[1., 1., 1.],\n",
            "        [1., 1., 1.],\n",
            "        [1., 1., 1.],\n",
            "        [1., 1., 1.],\n",
            "        [1., 1., 1.]], dtype=torch.float64)\n",
            "tensor([[-0.8823,  0.1557, -1.0671],\n",
            "        [-1.4211, -1.2090,  1.1252],\n",
            "        [-0.3064, -1.8779,  1.3333],\n",
            "        [-0.6927, -0.6481,  0.8716],\n",
            "        [-1.7270,  0.1516, -0.2913]])\n"
          ],
          "name": "stdout"
        }
      ]
    },
    {
      "cell_type": "markdown",
      "metadata": {
        "colab_type": "text",
        "id": "CHX3REfNnhLM"
      },
      "source": [
        "Get its size:\n",
        "\n"
      ]
    },
    {
      "cell_type": "code",
      "metadata": {
        "colab_type": "code",
        "id": "cFdA50h5nhLN",
        "colab": {
          "base_uri": "https://localhost:8080/",
          "height": 34
        },
        "outputId": "2fc6f105-9c94-4e71-bf77-dc68771a4935"
      },
      "source": [
        "print(x.size())"
      ],
      "execution_count": null,
      "outputs": [
        {
          "output_type": "stream",
          "text": [
            "torch.Size([5, 3])\n"
          ],
          "name": "stdout"
        }
      ]
    },
    {
      "cell_type": "markdown",
      "metadata": {
        "colab_type": "text",
        "id": "X1j6G_2EnhLP"
      },
      "source": [
        "<div class=\"alert alert-info\"><h4>Note</h4><p>``torch.Size`` is in fact a tuple, so it supports all tuple operations.</p></div>\n",
        "\n",
        "Operations\n",
        "\n",
        "There are multiple syntaxes for operations. In the following\n",
        "example, we will take a look at the addition operation.\n",
        "\n",
        "Addition: syntax 1\n",
        "\n"
      ]
    },
    {
      "cell_type": "code",
      "metadata": {
        "colab_type": "code",
        "id": "AHOL8RAtnhLP",
        "colab": {
          "base_uri": "https://localhost:8080/",
          "height": 102
        },
        "outputId": "847536f9-7bc0-4c79-c5f3-59bc6a06afd7"
      },
      "source": [
        "#요소별 합\n",
        "y = torch.rand(5, 3)\n",
        "print(x + y)"
      ],
      "execution_count": null,
      "outputs": [
        {
          "output_type": "stream",
          "text": [
            "tensor([[-0.3154,  0.2904, -0.3956],\n",
            "        [-1.0884, -0.6885,  1.4374],\n",
            "        [-0.1565, -1.8711,  1.6768],\n",
            "        [-0.0061, -0.5758,  1.3929],\n",
            "        [-1.5723,  1.1068,  0.0961]])\n"
          ],
          "name": "stdout"
        }
      ]
    },
    {
      "cell_type": "markdown",
      "metadata": {
        "colab_type": "text",
        "id": "m52aOkcYnhLR"
      },
      "source": [
        "Addition: syntax 2\n",
        "\n"
      ]
    },
    {
      "cell_type": "code",
      "metadata": {
        "colab_type": "code",
        "id": "5S_ycOQ7nhLS",
        "colab": {
          "base_uri": "https://localhost:8080/",
          "height": 102
        },
        "outputId": "87bb0111-3900-4109-e0e8-ea898d527d62"
      },
      "source": [
        "print(torch.add(x, y))"
      ],
      "execution_count": null,
      "outputs": [
        {
          "output_type": "stream",
          "text": [
            "tensor([[-0.3154,  0.2904, -0.3956],\n",
            "        [-1.0884, -0.6885,  1.4374],\n",
            "        [-0.1565, -1.8711,  1.6768],\n",
            "        [-0.0061, -0.5758,  1.3929],\n",
            "        [-1.5723,  1.1068,  0.0961]])\n"
          ],
          "name": "stdout"
        }
      ]
    },
    {
      "cell_type": "markdown",
      "metadata": {
        "colab_type": "text",
        "id": "Q0fGlrQmnhLV"
      },
      "source": [
        "Addition: providing an output tensor as argument\n",
        "\n"
      ]
    },
    {
      "cell_type": "code",
      "metadata": {
        "colab_type": "code",
        "id": "wZvevV5snhLW",
        "colab": {
          "base_uri": "https://localhost:8080/",
          "height": 102
        },
        "outputId": "4f4b3a5c-99a0-4cf0-ae17-91a5bed227b8"
      },
      "source": [
        "#빈 텐서를 반들고 텐서 x와 y를 더한 것을 빈 텐서에 저장\n",
        "result = torch.empty(5, 3)\n",
        "torch.add(x, y, out=result)\n",
        "print(result)"
      ],
      "execution_count": null,
      "outputs": [
        {
          "output_type": "stream",
          "text": [
            "tensor([[-0.3154,  0.2904, -0.3956],\n",
            "        [-1.0884, -0.6885,  1.4374],\n",
            "        [-0.1565, -1.8711,  1.6768],\n",
            "        [-0.0061, -0.5758,  1.3929],\n",
            "        [-1.5723,  1.1068,  0.0961]])\n"
          ],
          "name": "stdout"
        }
      ]
    },
    {
      "cell_type": "markdown",
      "metadata": {
        "colab_type": "text",
        "id": "DqtPKhwPnhLY"
      },
      "source": [
        "Addition: in-place\n",
        "\n"
      ]
    },
    {
      "cell_type": "code",
      "metadata": {
        "colab_type": "code",
        "id": "wcMVoc0fnhLZ",
        "colab": {
          "base_uri": "https://localhost:8080/",
          "height": 102
        },
        "outputId": "f108b733-dffe-40c3-9bce-bceec94016b5"
      },
      "source": [
        "#y.add_tensor --> y에 y+tensor를 저장\n",
        "# adds x to y\n",
        "y.add_(x)\n",
        "print(y)"
      ],
      "execution_count": null,
      "outputs": [
        {
          "output_type": "stream",
          "text": [
            "tensor([[-0.3154,  0.2904, -0.3956],\n",
            "        [-1.0884, -0.6885,  1.4374],\n",
            "        [-0.1565, -1.8711,  1.6768],\n",
            "        [-0.0061, -0.5758,  1.3929],\n",
            "        [-1.5723,  1.1068,  0.0961]])\n"
          ],
          "name": "stdout"
        }
      ]
    },
    {
      "cell_type": "markdown",
      "metadata": {
        "colab_type": "text",
        "id": "M9c4hc-1nhLb"
      },
      "source": [
        "<div class=\"alert alert-info\"><h4>Note</h4><p>Any operation that mutates a tensor in-place is post-fixed with an ``_``.\n",
        "    For example: ``x.copy_(y)``, ``x.t_()``, will change ``x``.</p></div>\n",
        "\n",
        "You can use standard NumPy-like indexing with all bells and whistles!\n",
        "\n"
      ]
    },
    {
      "cell_type": "code",
      "metadata": {
        "colab_type": "code",
        "id": "WaFocboqnhLb",
        "colab": {
          "base_uri": "https://localhost:8080/",
          "height": 119
        },
        "outputId": "e692e6bb-fba7-460b-e114-c4650612de0c"
      },
      "source": [
        "print(x)\n",
        "print(x[:, 1])"
      ],
      "execution_count": null,
      "outputs": [
        {
          "output_type": "stream",
          "text": [
            "tensor([[-0.8823,  0.1557, -1.0671],\n",
            "        [-1.4211, -1.2090,  1.1252],\n",
            "        [-0.3064, -1.8779,  1.3333],\n",
            "        [-0.6927, -0.6481,  0.8716],\n",
            "        [-1.7270,  0.1516, -0.2913]])\n",
            "tensor([ 0.1557, -1.2090, -1.8779, -0.6481,  0.1516])\n"
          ],
          "name": "stdout"
        }
      ]
    },
    {
      "cell_type": "markdown",
      "metadata": {
        "colab_type": "text",
        "id": "e53Fq7tOnhLd"
      },
      "source": [
        "Resizing: If you want to resize/reshape tensor, you can use ``torch.view``:\n",
        "\n"
      ]
    },
    {
      "cell_type": "code",
      "metadata": {
        "colab_type": "code",
        "id": "IafcYQH4nhLe",
        "colab": {
          "base_uri": "https://localhost:8080/",
          "height": 34
        },
        "outputId": "6189d9d4-a9e3-4117-94ca-6fb856288940"
      },
      "source": [
        "#numpy에서 reshape함수가 torch에서는 view함수이다.\n",
        "x = torch.randn(4, 4)\n",
        "y = x.view(16)\n",
        "z = x.view(-1, 8)  # the size -1 is inferred from other dimensions\n",
        "print(x.size(), y.size(), z.size())"
      ],
      "execution_count": null,
      "outputs": [
        {
          "output_type": "stream",
          "text": [
            "torch.Size([4, 4]) torch.Size([16]) torch.Size([2, 8])\n"
          ],
          "name": "stdout"
        }
      ]
    },
    {
      "cell_type": "markdown",
      "metadata": {
        "colab_type": "text",
        "id": "LmDwm0KFnhLf"
      },
      "source": [
        "If you have a one element tensor, use ``.item()`` to get the value as a\n",
        "Python number\n",
        "\n"
      ]
    },
    {
      "cell_type": "code",
      "metadata": {
        "colab_type": "code",
        "id": "WIhYzbjtnhLg",
        "colab": {
          "base_uri": "https://localhost:8080/",
          "height": 51
        },
        "outputId": "0cdba1a3-1e65-48d3-af40-1253d1a65329"
      },
      "source": [
        "x = torch.randn(1)\n",
        "print(x)\n",
        "print(x.item())"
      ],
      "execution_count": null,
      "outputs": [
        {
          "output_type": "stream",
          "text": [
            "tensor([-0.6133])\n",
            "-0.6132633686065674\n"
          ],
          "name": "stdout"
        }
      ]
    },
    {
      "cell_type": "markdown",
      "metadata": {
        "colab_type": "text",
        "id": "pRR7foXS1Jkd"
      },
      "source": [
        "**Slicing**"
      ]
    },
    {
      "cell_type": "code",
      "metadata": {
        "colab_type": "code",
        "id": "wDD0Ylk11Llt",
        "colab": {
          "base_uri": "https://localhost:8080/",
          "height": 136
        },
        "outputId": "fd898d23-9aef-4b55-8fec-440369531b66"
      },
      "source": [
        "x = torch.rand((4,5))\n",
        "\n",
        "print(\"x = {}\".format(x))\n",
        "print(\"x[1] = {}\".format(x[1]))\n",
        "print(\"x[2,3] = {}\".format(x[2,3]))\n",
        "print(\"x[0, 1:4] = {}\".format(x[0,1:4]))"
      ],
      "execution_count": null,
      "outputs": [
        {
          "output_type": "stream",
          "text": [
            "x = tensor([[0.8868, 0.7318, 0.1991, 0.5965, 0.5367],\n",
            "        [0.9230, 0.8502, 0.9421, 0.9882, 0.8131],\n",
            "        [0.2674, 0.3784, 0.0508, 0.6449, 0.3960],\n",
            "        [0.3251, 0.7350, 0.2559, 0.9271, 0.5113]])\n",
            "x[1] = tensor([0.9230, 0.8502, 0.9421, 0.9882, 0.8131])\n",
            "x[2,3] = 0.6448987126350403\n",
            "x[0, 1:4] = tensor([0.7318, 0.1991, 0.5965])\n"
          ],
          "name": "stdout"
        }
      ]
    },
    {
      "cell_type": "markdown",
      "metadata": {
        "colab_type": "text",
        "id": "5ezW3dc9ucBu"
      },
      "source": [
        "**Multiplication**"
      ]
    },
    {
      "cell_type": "markdown",
      "metadata": {
        "colab_type": "text",
        "id": "57vZlQYIultF"
      },
      "source": [
        "1) Elementwise multiplication"
      ]
    },
    {
      "cell_type": "code",
      "metadata": {
        "colab_type": "code",
        "id": "BTRxQKVmufJD",
        "colab": {
          "base_uri": "https://localhost:8080/",
          "height": 68
        },
        "outputId": "8874973f-240c-493f-e0e5-5b926648c453"
      },
      "source": [
        "#원소곱 torch.mul\n",
        "x = torch.tensor((1,2,3))\n",
        "y = torch.tensor((4,5,6))\n",
        "print(x)\n",
        "print(y)\n",
        "z = torch.mul(x,y) # same as x * y\n",
        "\n",
        "print(z)"
      ],
      "execution_count": null,
      "outputs": [
        {
          "output_type": "stream",
          "text": [
            "tensor([1, 2, 3])\n",
            "tensor([4, 5, 6])\n",
            "tensor([ 4, 10, 18])\n"
          ],
          "name": "stdout"
        }
      ]
    },
    {
      "cell_type": "markdown",
      "metadata": {
        "colab_type": "text",
        "id": "klzubPfuu4xz"
      },
      "source": [
        "2) Dot product"
      ]
    },
    {
      "cell_type": "code",
      "metadata": {
        "colab_type": "code",
        "id": "OwIhZizMu9JG",
        "colab": {
          "base_uri": "https://localhost:8080/",
          "height": 68
        },
        "outputId": "4e187675-55f3-44b7-d3b9-d6ceedbb1458"
      },
      "source": [
        "#점곱 inner product\n",
        "x = torch.tensor([1,2,3])\n",
        "y = torch.tensor([4,5,6])\n",
        "print(x)\n",
        "print(y)\n",
        "z = torch.dot(x,y)\n",
        "print(z)"
      ],
      "execution_count": null,
      "outputs": [
        {
          "output_type": "stream",
          "text": [
            "tensor([1, 2, 3])\n",
            "tensor([4, 5, 6])\n",
            "tensor(32)\n"
          ],
          "name": "stdout"
        }
      ]
    },
    {
      "cell_type": "markdown",
      "metadata": {
        "colab_type": "text",
        "id": "H2uDZw1evmH3"
      },
      "source": [
        "3) Matrix multiplication"
      ]
    },
    {
      "cell_type": "code",
      "metadata": {
        "colab_type": "code",
        "id": "FK2wCqnXvovH",
        "colab": {
          "base_uri": "https://localhost:8080/",
          "height": 119
        },
        "outputId": "d1f0961d-21f5-4ecb-b5e5-3d2d342f9496"
      },
      "source": [
        "#행렬 곱\n",
        "x = torch.tensor([[1,1],[2,2],[3,3]]) # 3 x 2\n",
        "y = torch.tensor([[6,5],[4,3]]) # 2 x 2\n",
        "\n",
        "z = torch.matmul(x,y)\n",
        "print(\"x.size() = {}\".format(x.shape))\n",
        "print(\"y.size() = {}\".format(y.shape))\n",
        "print(\"z.size() = {}\".format(z.shape))\n",
        "\n",
        "print(\"z = {}\" .format(z))"
      ],
      "execution_count": null,
      "outputs": [
        {
          "output_type": "stream",
          "text": [
            "x.size() = torch.Size([3, 2])\n",
            "y.size() = torch.Size([2, 2])\n",
            "z.size() = torch.Size([3, 2])\n",
            "z = tensor([[10,  8],\n",
            "        [20, 16],\n",
            "        [30, 24]])\n"
          ],
          "name": "stdout"
        }
      ]
    },
    {
      "cell_type": "markdown",
      "metadata": {
        "colab_type": "text",
        "id": "4lBRs8ivr0LW"
      },
      "source": [
        "**Transpose**\n",
        "\n",
        "'torch.transpose' returns a tensor that is a transposed version of input. \n",
        "\n",
        "The given dimension dim0 and dim1 are swapped."
      ]
    },
    {
      "cell_type": "code",
      "metadata": {
        "colab_type": "code",
        "id": "Dj96blAyrtWl",
        "colab": {
          "base_uri": "https://localhost:8080/",
          "height": 85
        },
        "outputId": "66abb852-3dcc-4c1d-e713-ba3c7905b12c"
      },
      "source": [
        "x = torch.rand((4,2))\n",
        "print(\"x.size() = {}\".format(x.shape))\n",
        "\n",
        "y = x.T\n",
        "print(\"y.size() = {}\".format(y.shape))\n",
        "\n",
        "a = torch.rand((1,2,3,4))\n",
        "print(\"a.size() = {}\".format(a.shape))\n",
        "\n",
        "b = torch.transpose(a, dim0=1, dim1=2)\n",
        "print(\"b.size() = {}\".format(b.shape))"
      ],
      "execution_count": null,
      "outputs": [
        {
          "output_type": "stream",
          "text": [
            "x.size() = torch.Size([4, 2])\n",
            "y.size() = torch.Size([2, 4])\n",
            "a.size() = torch.Size([1, 2, 3, 4])\n",
            "b.size() = torch.Size([1, 3, 2, 4])\n"
          ],
          "name": "stdout"
        }
      ]
    },
    {
      "cell_type": "markdown",
      "metadata": {
        "colab_type": "text",
        "id": "MaHomFh0sbIk"
      },
      "source": [
        "**Squeeze, Unsqueenze**\n",
        "\n",
        "'torch.squeeze' returns a tensor with all the dimensions of input of size 1 removed.\n",
        "\n",
        "'torch.unsqueeze' returns a tensor with a dimension of size one inserted at the specified position."
      ]
    },
    {
      "cell_type": "code",
      "metadata": {
        "colab_type": "code",
        "id": "L_H2Za8gsgOE",
        "colab": {
          "base_uri": "https://localhost:8080/",
          "height": 68
        },
        "outputId": "ee922ebf-23ba-425e-b60e-fe5a231ae720"
      },
      "source": [
        "#squeeze는 1인 차원을 없앤다. 위치정보를 입력해 특정 좌표의 1인 차원을 없앨 수 있다.\n",
        "#unsqueeze는 해당하는 위치에 차원을 1 추가할 수 있다.\n",
        "x = torch.rand(1,2,3,1,4)\n",
        "y = torch.unsqueeze(x, dim=1)\n",
        "print(\"x.size() = {}\".format(x.shape))\n",
        "print(\"y.size() = {}\".format(y.shape))\n",
        "\n",
        "z = torch.squeeze(x)\n",
        "print(\"z.size() = {}\".format(z.shape))\n"
      ],
      "execution_count": null,
      "outputs": [
        {
          "output_type": "stream",
          "text": [
            "x.size() = torch.Size([1, 2, 3, 1, 4])\n",
            "y.size() = torch.Size([1, 1, 2, 3, 1, 4])\n",
            "z.size() = torch.Size([2, 3, 4])\n"
          ],
          "name": "stdout"
        }
      ]
    },
    {
      "cell_type": "markdown",
      "metadata": {
        "colab_type": "text",
        "id": "alOsa09Rttsm"
      },
      "source": [
        "**Cat**\n",
        "\n",
        "Concatenates the given sequence of seq tensors in the given dimensions. "
      ]
    },
    {
      "cell_type": "code",
      "metadata": {
        "colab_type": "code",
        "id": "ZT7z2s_ut-Lp",
        "colab": {
          "base_uri": "https://localhost:8080/",
          "height": 204
        },
        "outputId": "4c85725f-a6c6-4223-8e50-587e7d60c9e5"
      },
      "source": [
        "x = torch.rand(2,3)\n",
        "print(x)\n",
        "print(\"x.size() = {}\".format(x.shape))\n",
        "\n",
        "y = torch.cat((x,x), dim=0) #차원의 행이 더해진다\n",
        "print(y)\n",
        "print(\"y.size() = {}\".format(y.shape))\n",
        "\n",
        "z = torch.cat((x,x), dim=1) #차원의 열이 더해진다.\n",
        "print(z)\n",
        "print(\"z.size() = {}\".format(z.shape))\n",
        "\n",
        "\n"
      ],
      "execution_count": null,
      "outputs": [
        {
          "output_type": "stream",
          "text": [
            "tensor([[0.1494, 0.4297, 0.1121],\n",
            "        [0.9947, 0.3101, 0.8516]])\n",
            "x.size() = torch.Size([2, 3])\n",
            "tensor([[0.1494, 0.4297, 0.1121],\n",
            "        [0.9947, 0.3101, 0.8516],\n",
            "        [0.1494, 0.4297, 0.1121],\n",
            "        [0.9947, 0.3101, 0.8516]])\n",
            "y.size() = torch.Size([4, 3])\n",
            "tensor([[0.1494, 0.4297, 0.1121, 0.1494, 0.4297, 0.1121],\n",
            "        [0.9947, 0.3101, 0.8516, 0.9947, 0.3101, 0.8516]])\n",
            "z.size() = torch.Size([2, 6])\n"
          ],
          "name": "stdout"
        }
      ]
    },
    {
      "cell_type": "markdown",
      "metadata": {
        "colab_type": "text",
        "id": "CfdAtkLLnhLi"
      },
      "source": [
        "**Read later:**\n",
        "\n",
        "\n",
        "  100+ Tensor operations, including transposing, indexing, slicing,\n",
        "  mathematical operations, linear algebra, random numbers, etc.,\n",
        "  are described\n",
        "  `here <https://pytorch.org/docs/torch>`_.\n",
        "\n",
        "NumPy Bridge\n",
        "------------\n",
        "\n",
        "Converting a Torch Tensor to a NumPy array and vice versa is a breeze.\n",
        "\n",
        "The Torch Tensor and NumPy array will share their underlying memory\n",
        "locations (if the Torch Tensor is on CPU), and changing one will change\n",
        "the other.\n",
        "\n",
        "Converting a Torch Tensor to a NumPy Array\n",
        "^^^^^^^^^^^^^^^^^^^^^^^^^^^^^^^^^^^^^^^^^^\n",
        "\n"
      ]
    },
    {
      "cell_type": "code",
      "metadata": {
        "colab_type": "code",
        "id": "Iw1ivWRtnhLj",
        "colab": {
          "base_uri": "https://localhost:8080/",
          "height": 34
        },
        "outputId": "81572abf-2db7-45a3-ce99-a3ee01fe8af4"
      },
      "source": [
        "#tensor는 numPy의 ndarray로 변환이 가능하고 그 반대도 가능하다.\n",
        "#tensor와 ndarray는 같은 메모리 공간을 가진다.\n",
        "a = torch.ones(5)\n",
        "print(a)"
      ],
      "execution_count": null,
      "outputs": [
        {
          "output_type": "stream",
          "text": [
            "tensor([1., 1., 1., 1., 1.])\n"
          ],
          "name": "stdout"
        }
      ]
    },
    {
      "cell_type": "code",
      "metadata": {
        "colab_type": "code",
        "id": "SbonVnDanhLk",
        "colab": {
          "base_uri": "https://localhost:8080/",
          "height": 34
        },
        "outputId": "47e249a3-5bbd-423d-bcd7-4ec7d2cff07e"
      },
      "source": [
        "b = a.numpy()\n",
        "print(b)"
      ],
      "execution_count": null,
      "outputs": [
        {
          "output_type": "stream",
          "text": [
            "[1. 1. 1. 1. 1.]\n"
          ],
          "name": "stdout"
        }
      ]
    },
    {
      "cell_type": "markdown",
      "metadata": {
        "colab_type": "text",
        "id": "WBIVf6qunhLm"
      },
      "source": [
        "See how the numpy array changed in value.\n",
        "\n"
      ]
    },
    {
      "cell_type": "code",
      "metadata": {
        "colab_type": "code",
        "id": "DKibCdbinhLo",
        "colab": {
          "base_uri": "https://localhost:8080/",
          "height": 51
        },
        "outputId": "35bdf6ca-a109-4bb8-ec20-433cd0be7bab"
      },
      "source": [
        "a.add_(1)\n",
        "print(a)\n",
        "print(b)"
      ],
      "execution_count": null,
      "outputs": [
        {
          "output_type": "stream",
          "text": [
            "tensor([2., 2., 2., 2., 2.])\n",
            "[2. 2. 2. 2. 2.]\n"
          ],
          "name": "stdout"
        }
      ]
    },
    {
      "cell_type": "markdown",
      "metadata": {
        "colab_type": "text",
        "id": "tc1ik0R8nhLq"
      },
      "source": [
        "Converting NumPy Array to Torch Tensor\n",
        "^^^^^^^^^^^^^^^^^^^^^^^^^^^^^^^^^^^^^^\n",
        "See how changing the np array changed the Torch Tensor automatically\n",
        "\n"
      ]
    },
    {
      "cell_type": "code",
      "metadata": {
        "colab_type": "code",
        "id": "nNqNRPLCnhLq",
        "colab": {
          "base_uri": "https://localhost:8080/",
          "height": 51
        },
        "outputId": "2ffb691a-8ad4-437d-b5be-401c06f3f976"
      },
      "source": [
        "#ndarray-->tensor\n",
        "import numpy as np\n",
        "a = np.ones(5)\n",
        "b = torch.from_numpy(a)\n",
        "np.add(a, 1, out=a)\n",
        "print(a)\n",
        "print(b)"
      ],
      "execution_count": null,
      "outputs": [
        {
          "output_type": "stream",
          "text": [
            "[2. 2. 2. 2. 2.]\n",
            "tensor([2., 2., 2., 2., 2.], dtype=torch.float64)\n"
          ],
          "name": "stdout"
        }
      ]
    },
    {
      "cell_type": "markdown",
      "metadata": {
        "colab_type": "text",
        "id": "bWMVV5i-nhLs"
      },
      "source": [
        "All the Tensors on the CPU except a CharTensor support converting to\n",
        "NumPy and back.\n",
        "\n",
        "CUDA Tensors\n",
        "------------\n",
        "\n",
        "Tensors can be moved onto any device using the ``.to`` method.\n",
        "\n"
      ]
    },
    {
      "cell_type": "code",
      "metadata": {
        "colab_type": "code",
        "id": "BRjsTO7knhLt",
        "colab": {}
      },
      "source": [
        "# let us run this cell only if CUDA is available\n",
        "# We will use ``torch.device`` objects to move tensors in and out of GPU\n",
        "if torch.cuda.is_available():\n",
        "    device = torch.device(\"cuda\")          # a CUDA device object\n",
        "    y = torch.ones_like(x, device=device)  # directly create a tensor on GPU\n",
        "    x = x.to(device)                       # or just use strings ``.to(\"cuda\")``\n",
        "    z = x + y\n",
        "    print(z)\n",
        "    print(z.to(\"cpu\", torch.double))       # ``.to`` can also change dtype together!"
      ],
      "execution_count": null,
      "outputs": []
    }
  ]
}