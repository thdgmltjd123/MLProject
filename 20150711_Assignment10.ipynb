{
  "nbformat": 4,
  "nbformat_minor": 0,
  "metadata": {
    "colab": {
      "name": "20150711_Assignment09.ipynb",
      "provenance": [],
      "collapsed_sections": [],
      "authorship_tag": "ABX9TyMuSoTcmEpGm+WvXwB/OL12",
      "include_colab_link": true
    },
    "kernelspec": {
      "name": "python3",
      "display_name": "Python 3"
    }
  },
  "cells": [
    {
      "cell_type": "markdown",
      "metadata": {
        "id": "view-in-github",
        "colab_type": "text"
      },
      "source": [
        "<a href=\"https://colab.research.google.com/github/thdgmltjd123/Assignment01/blob/master/20150711_Assignment10.ipynb\" target=\"_parent\"><img src=\"https://colab.research.google.com/assets/colab-badge.svg\" alt=\"Open In Colab\"/></a>"
      ]
    },
    {
      "cell_type": "code",
      "metadata": {
        "id": "3FpwMhN1hm0Z",
        "colab_type": "code",
        "outputId": "d0d2ecff-832d-4a2c-a1d0-16031fde8b3f",
        "colab": {
          "base_uri": "https://localhost:8080/",
          "height": 122
        }
      },
      "source": [
        "#구글 드라이브와 코랩 마운트하기\n",
        "from google.colab import drive\n",
        "drive.mount('/content/drive')"
      ],
      "execution_count": 0,
      "outputs": [
        {
          "output_type": "stream",
          "text": [
            "Go to this URL in a browser: https://accounts.google.com/o/oauth2/auth?client_id=947318989803-6bn6qk8qdgf4n4g3pfee6491hc0brc4i.apps.googleusercontent.com&redirect_uri=urn%3aietf%3awg%3aoauth%3a2.0%3aoob&response_type=code&scope=email%20https%3a%2f%2fwww.googleapis.com%2fauth%2fdocs.test%20https%3a%2f%2fwww.googleapis.com%2fauth%2fdrive%20https%3a%2f%2fwww.googleapis.com%2fauth%2fdrive.photos.readonly%20https%3a%2f%2fwww.googleapis.com%2fauth%2fpeopleapi.readonly\n",
            "\n",
            "Enter your authorization code:\n",
            "··········\n",
            "Mounted at /content/drive\n"
          ],
          "name": "stdout"
        }
      ]
    },
    {
      "cell_type": "code",
      "metadata": {
        "id": "PqcuRQtjiuVC",
        "colab_type": "code",
        "colab": {}
      },
      "source": [
        "import matplotlib.pyplot as plt\n",
        "import numpy as np\n",
        "\n",
        "file_data   = \"/content/drive/My Drive/Colab Notebooks/mnist.csv\"\n",
        "handle_file = open(file_data, \"r\")\n",
        "data        = handle_file.readlines()\n",
        "handle_file.close()\n",
        "\n",
        "size_row    = 28    # height of the image\n",
        "size_col    = 28    # width of the image\n",
        "\n",
        "num_image   = len(data)\n",
        "count       = 0     # count for the number of images\n",
        "\n",
        "#\n",
        "# normalize the values of the input data to be [0, 1]\n",
        "#\n",
        "def normalize(data):\n",
        "\n",
        "    data_normalized = (data - min(data)) / (max(data) - min(data))\n",
        "\n",
        "    return(data_normalized)\n",
        "\n",
        "#\n",
        "# example of distance function between two vectors x and y\n",
        "#\n",
        "def distance(x, y):\n",
        "\n",
        "    d = (x - y) ** 2\n",
        "    s = np.sum(d)\n",
        "    # r = np.sqrt(s)\n",
        "\n",
        "    return(s)\n",
        "\n",
        "#\n",
        "# make a matrix each column of which represents an images in a vector form\n",
        "#\n",
        "list_image  = np.empty((size_row * size_col, num_image), dtype=float)\n",
        "list_label  = np.empty(num_image, dtype=int)\n",
        "\n",
        "for line in data:\n",
        "\n",
        "    line_data   = line.split(',')\n",
        "    label       = line_data[0]\n",
        "    im_vector   = np.asfarray(line_data[1:])\n",
        "    im_vector   = normalize(im_vector)\n",
        "\n",
        "    list_label[count]       = label\n",
        "    list_image[:, count]    = im_vector\n",
        "\n",
        "    count += 1\n",
        "\n",
        "X_train = list_image[:,:1000]\n",
        "Y_train = list_label[:1000]\n",
        "X_test = list_image[:,1000:]\n",
        "Y_test = list_label[1000:] "
      ],
      "execution_count": 0,
      "outputs": []
    },
    {
      "cell_type": "code",
      "metadata": {
        "id": "yzKTFO_diuPw",
        "colab_type": "code",
        "outputId": "0076e467-b2b8-4291-acef-8ffabf5d2269",
        "colab": {
          "base_uri": "https://localhost:8080/",
          "height": 34
        }
      },
      "source": [
        "print(X_train.shape,Y_train.shape)"
      ],
      "execution_count": 0,
      "outputs": [
        {
          "output_type": "stream",
          "text": [
            "(784, 1000) (1000,)\n"
          ],
          "name": "stdout"
        }
      ]
    },
    {
      "cell_type": "code",
      "metadata": {
        "id": "eYcnK_hIiuM7",
        "colab_type": "code",
        "colab": {}
      },
      "source": [
        "#초기 값 세타들 만들기\n",
        "def make_parameter(dim1, dim2):\n",
        "  matrix = np.empty((dim1,dim2),dtype = float)\n",
        "  for i in range(dim1):\n",
        "    sd = np.random.randint(1,4)\n",
        "    for j in range(dim2):\n",
        "      matrix[i][j] = np.random.normal(0,sd)\n",
        "  return matrix\n",
        "\n",
        "# 시그모이드\n",
        "def sigmoid(z):\n",
        "  return 1 / (1 + np.exp(-z))\n",
        "\n",
        "# 미분한 시그모이드\n",
        "def diff_sigmoid(sigmoid):\n",
        "  return sigmoid * (1 - sigmoid)\n",
        "\n",
        "#이미지 값에 편향 더해주는 함수\n",
        "def add_bias(data):\n",
        "  col_len = data.shape[1]\n",
        "  bias = np.ones((1,col_len),dtype = float)\n",
        "  data = np.append(bias,data,axis = 0)\n",
        "  return data\n",
        "\n",
        "#라벨을 원핫 인코딩 하기\n",
        "def one_hot(label):\n",
        "  label_length = len(label)\n",
        "  num_label = len(np.unique(label))\n",
        "  matrix = np.empty((num_label,label_length), dtype = int)\n",
        "  \n",
        "  for i in range(label_length):\n",
        "    for j in range(num_label):\n",
        "      if(j == label[i]):\n",
        "        matrix[j][i] = 1\n",
        "      else:\n",
        "        matrix[j][i] = 0\n",
        "  return matrix\n",
        "\n",
        "#에너지 함수\n",
        "def energy(last_layer_sigmoid, onehot_label,theta_li, param_regul):\n",
        "  hap = 0\n",
        "  length = 0\n",
        "  for i in theta_li:\n",
        "    length += i.shape[0]*i.shape[1]\n",
        "    hap += np.sum(i**2)\n",
        "  return np.mean(np.sum(-onehot_label*np.log(last_layer_sigmoid+1e-9)-(1-onehot_label)*np.log(1-last_layer_sigmoid+1e-9),axis = 0)) + (param_regul * hap) / (2*length)\n",
        "\n",
        "#예측함수  \n",
        "def predict(X,theta_li):\n",
        "  pred = np.empty(X.shape[1],dtype = int)\n",
        "  for i in theta_li:\n",
        "    bias_X = add_bias(X)\n",
        "    X = np.dot(i,bias_X)\n",
        "    X = sigmoid(X)\n",
        "  \n",
        "  pred = np.argmax(X,axis = 0)\n",
        "  return pred\n",
        "\n",
        "#정확도 함수\n",
        "def accuracy(Y_pred, label):\n",
        "  return np.mean(Y_pred == label)\n",
        "\n",
        "#학습 함수\n",
        "def fit(X, X_test, Y, Y_test, theta_li, alpha,param_regul):\n",
        "  #return 시 필요한 array 생성\n",
        "  train_energy_val = []\n",
        "  test_energy_val = []\n",
        "  train_accu_val = [0]\n",
        "  test_accu_val = [0]\n",
        "  length = X.shape[1]\n",
        "  #반복 수 1만회\n",
        "  epoch = 10000\n",
        "  #진행상황을 알려주는 변수\n",
        "  count = 1\n",
        "  for k in range(epoch):\n",
        "    if(k!=0 and k%250 == 0):\n",
        "      print(\"{}% 완료\".format(2.5*count))\n",
        "      count+=1\n",
        "    #원본 보존하기\n",
        "    temp_X = X.copy()\n",
        "    test_X = X_test.copy()\n",
        "    #gradient descent를 위한 각 층별 결과물을 저장하는 리스트\n",
        "    xyz_li = []\n",
        "    #forward propagation(train, test)\n",
        "    for i in theta_li:\n",
        "      bias_X = add_bias(temp_X)\n",
        "      test_bias_X = add_bias(test_X)\n",
        "      temp_X = np.dot(i,bias_X)\n",
        "      test_X = np.dot(i,test_bias_X)\n",
        "      temp_X = sigmoid(temp_X)\n",
        "      test_X = sigmoid(test_X)\n",
        "      xyz_li.append(temp_X)\n",
        "    \n",
        "    #energy 계산을 위해 label을 onehot-encoding 실시\n",
        "    onehot_label = one_hot(Y)\n",
        "    tonehot_label = one_hot(Y_test)\n",
        "    temp_energy = energy(temp_X, onehot_label,theta_li, param_regul)\n",
        "    test_energy = energy(test_X, tonehot_label,theta_li, param_regul)\n",
        "    train_energy_val.append(temp_energy)\n",
        "    test_energy_val.append(test_energy)\n",
        "\n",
        "    #backward propagation\n",
        "    n = 0\n",
        "    for i in theta_li:\n",
        "      n += i.shape[0]*i.shape[1]\n",
        "    a = (temp_X-onehot_label)\n",
        "    b = np.dot(theta_li[2][:,1:].T,a) * diff_sigmoid(xyz_li[1])\n",
        "    c = np.dot(theta_li[1][:,1:].T,b) * diff_sigmoid(xyz_li[0])\n",
        "    theta_li[2]-=alpha*((np.dot(a,add_bias(xyz_li[1]).T)) / length + (param_regul * theta_li[2] / n))\n",
        "    theta_li[1]-=alpha*((np.dot(b,add_bias(xyz_li[0]).T)) / length + (param_regul * theta_li[1] / n))\n",
        "    theta_li[0]-=alpha*((np.dot(c,add_bias(X_train).T)) / length + (param_regul * theta_li[0] / n))\n",
        "\n",
        "    pred = predict(X,theta_li)\n",
        "    test_pred = predict(X_test,theta_li)\n",
        "    train_accu_val.append(accuracy(pred,Y))\n",
        "    test_accu_val.append(accuracy(test_pred,Y_test))\n",
        "  return train_energy_val,train_accu_val,test_energy_val,test_accu_val, test_pred"
      ],
      "execution_count": 0,
      "outputs": []
    },
    {
      "cell_type": "code",
      "metadata": {
        "id": "Wp2ifgi4--3U",
        "colab_type": "code",
        "colab": {}
      },
      "source": [
        "theta_li = []\n",
        "# 층별 파라미터 차원에 맞게 정의하기\n",
        "theta_li.append(make_parameter(30,785))\n",
        "theta_li.append(make_parameter(15,31))\n",
        "theta_li.append(make_parameter(10,16))\n",
        "\n",
        "#학습률\n",
        "alpha = 7\n",
        "#학습\n",
        "train_energy_val, train_accu_val, test_energy_val, test_accu_val, test_pred = fit(X_train,X_test,Y_train,Y_test,theta_li,alpha,2)"
      ],
      "execution_count": 0,
      "outputs": []
    },
    {
      "cell_type": "code",
      "metadata": {
        "id": "EWma5xbE1E4N",
        "colab_type": "code",
        "outputId": "98a7aace-3ec9-4e63-b836-99a06376a2e2",
        "colab": {
          "base_uri": "https://localhost:8080/",
          "height": 34
        }
      },
      "source": [
        "train_accu_val[-10:]"
      ],
      "execution_count": 0,
      "outputs": [
        {
          "output_type": "execute_result",
          "data": {
            "text/plain": [
              "[1.0, 1.0, 1.0, 1.0, 1.0, 1.0, 1.0, 1.0, 1.0, 1.0]"
            ]
          },
          "metadata": {
            "tags": []
          },
          "execution_count": 62
        }
      ]
    },
    {
      "cell_type": "code",
      "metadata": {
        "id": "lnZ5S58wMEcS",
        "colab_type": "code",
        "outputId": "5e700970-c1dc-4a1d-eaf5-a1c1fe9b688c",
        "colab": {
          "base_uri": "https://localhost:8080/",
          "height": 187
        }
      },
      "source": [
        "test_accu_val[-10:]"
      ],
      "execution_count": 0,
      "outputs": [
        {
          "output_type": "execute_result",
          "data": {
            "text/plain": [
              "[0.8917777777777778,\n",
              " 0.8916666666666667,\n",
              " 0.8916666666666667,\n",
              " 0.8916666666666667,\n",
              " 0.8916666666666667,\n",
              " 0.8916666666666667,\n",
              " 0.8917777777777778,\n",
              " 0.8917777777777778,\n",
              " 0.8917777777777778,\n",
              " 0.8917777777777778]"
            ]
          },
          "metadata": {
            "tags": []
          },
          "execution_count": 63
        }
      ]
    },
    {
      "cell_type": "markdown",
      "metadata": {
        "id": "7LOh4PGHu8OK",
        "colab_type": "text"
      },
      "source": [
        "# **Computation area all done!**"
      ]
    },
    {
      "cell_type": "markdown",
      "metadata": {
        "id": "OCksffZ-8MKN",
        "colab_type": "text"
      },
      "source": [
        "# **Plot the loss curve**"
      ]
    },
    {
      "cell_type": "code",
      "metadata": {
        "id": "qKvmK7WSit8I",
        "colab_type": "code",
        "outputId": "5cd1ca30-2b0f-45fa-aba3-9f72c4d6d2fb",
        "colab": {
          "base_uri": "https://localhost:8080/",
          "height": 414
        }
      },
      "source": [
        "plt.figure(figsize = (6,6))\n",
        "plt.title(\"error graph\",fontsize = 20)\n",
        "plt.xlabel(\"# of iter\",fontsize = 15)\n",
        "plt.ylabel(\"values\", fontsize = 15)\n",
        "plt.plot(train_energy_val,c = \"b\",label = \"train error\")\n",
        "plt.plot(test_energy_val,c = \"r\",label = \"test error\")\n",
        "plt.legend(loc = \"best\")\n",
        "plt.show()"
      ],
      "execution_count": 0,
      "outputs": [
        {
          "output_type": "display_data",
          "data": {
            "image/png": "[encoded data removed]",
            "text/plain": [
              "<Figure size 432x432 with 1 Axes>"
            ]
          },
          "metadata": {
            "tags": [],
            "needs_background": "light"
          }
        }
      ]
    },
    {
      "cell_type": "markdown",
      "metadata": {
        "id": "Ls928ql58Thz",
        "colab_type": "text"
      },
      "source": [
        "# **Plot the accuracy curve**"
      ]
    },
    {
      "cell_type": "code",
      "metadata": {
        "id": "lBrWFgANit46",
        "colab_type": "code",
        "outputId": "6192e091-f5aa-440b-f0c3-ce686baf99ac",
        "colab": {
          "base_uri": "https://localhost:8080/",
          "height": 414
        }
      },
      "source": [
        "plt.figure(figsize = (6,6))\n",
        "plt.title(\"accuracy graph\",fontsize = 20)\n",
        "plt.xlabel(\"# of iter\",fontsize = 15)\n",
        "plt.ylabel(\"values\", fontsize = 15)\n",
        "plt.plot(train_accu_val,c = \"b\",label = \"train_accuracy\")\n",
        "plt.plot(test_accu_val,c = \"r\",label = \"test_accuracy\")\n",
        "plt.legend(loc = \"best\")\n",
        "plt.show()"
      ],
      "execution_count": 0,
      "outputs": [
        {
          "output_type": "display_data",
          "data": {
            "image/png": "[encoded data removed]",
            "text/plain": [
              "<Figure size 432x432 with 1 Axes>"
            ]
          },
          "metadata": {
            "tags": [],
            "needs_background": "light"
          }
        }
      ]
    },
    {
      "cell_type": "markdown",
      "metadata": {
        "id": "qAgGScgb8as8",
        "colab_type": "text"
      },
      "source": [
        "# **Print the accuracy value**"
      ]
    },
    {
      "cell_type": "code",
      "metadata": {
        "id": "vnuf1ItR73cn",
        "colab_type": "code",
        "outputId": "d5d293df-a3af-4ce2-f484-c114b94e67b7",
        "colab": {
          "base_uri": "https://localhost:8080/",
          "height": 51
        }
      },
      "source": [
        "print(\"final training accuracy : {}%\".format(train_accu_val[-1]*100))\n",
        "print(\"final test accuracy : {}%\".format(test_accu_val[-1]*100))"
      ],
      "execution_count": 0,
      "outputs": [
        {
          "output_type": "stream",
          "text": [
            "final training accuracy : 100.0%\n",
            "final test accuracy : 89.17777777777778%\n"
          ],
          "name": "stdout"
        }
      ]
    },
    {
      "cell_type": "markdown",
      "metadata": {
        "id": "0CsTw8aq8fWL",
        "colab_type": "text"
      },
      "source": [
        "# **Plot the classification example : Correct**"
      ]
    },
    {
      "cell_type": "code",
      "metadata": {
        "id": "Vez7qDX18jS_",
        "colab_type": "code",
        "outputId": "feabd6ba-dc95-46ff-8336-49c21f01fcc3",
        "colab": {
          "base_uri": "https://localhost:8080/",
          "height": 295
        }
      },
      "source": [
        "plt.figure(figsize = (10,5))\n",
        "idx = np.where(test_pred == Y_test)[0][:10]\n",
        "size_row = 28\n",
        "size_col = 28\n",
        "count = 1\n",
        "for i in idx:\n",
        "    label       = Y_test[i]\n",
        "    im_vector   = X_test[:, i]\n",
        "    im_matrix   = im_vector.reshape((size_row, size_col))\n",
        "\n",
        "    plt.subplot(2, 5, count)\n",
        "    plt.title(label)\n",
        "    plt.imshow(im_matrix, cmap='Greys', interpolation='None')\n",
        "\n",
        "    frame   = plt.gca()\n",
        "    frame.axes.get_xaxis().set_visible(False)\n",
        "    frame.axes.get_yaxis().set_visible(False)\n",
        "    count+=1\n",
        "plt.show()"
      ],
      "execution_count": 0,
      "outputs": [
        {
          "output_type": "display_data",
          "data": {
            "image/png": "[encoded data removed]",
            "text/plain": [
              "<Figure size 720x360 with 10 Axes>"
            ]
          },
          "metadata": {
            "tags": [],
            "needs_background": "light"
          }
        }
      ]
    },
    {
      "cell_type": "markdown",
      "metadata": {
        "id": "bCBLw0MOvKkf",
        "colab_type": "text"
      },
      "source": [
        "# **Plot the classification example : misclassified**"
      ]
    },
    {
      "cell_type": "code",
      "metadata": {
        "id": "V79hNpBTid9F",
        "colab_type": "code",
        "outputId": "c5f0557c-3222-4699-d852-50edfa1f23c7",
        "colab": {
          "base_uri": "https://localhost:8080/",
          "height": 295
        }
      },
      "source": [
        "plt.figure(figsize = (10,5))\n",
        "idx = np.where(test_pred != Y_test)[0][:10]\n",
        "size_row = 28\n",
        "size_col = 28\n",
        "count = 1\n",
        "for i in idx:\n",
        "    pred      = test_pred[i]\n",
        "    actual    = Y_test[i]\n",
        "    im_vector   = X_test[:, i]\n",
        "    im_matrix   = im_vector.reshape((size_row, size_col))\n",
        "\n",
        "    plt.subplot(2, 5, count)\n",
        "    plt.title(\"pred : {} true : {}\".format(pred,actual))\n",
        "    plt.imshow(im_matrix, cmap='Greys', interpolation='None')\n",
        "\n",
        "    frame   = plt.gca()\n",
        "    frame.axes.get_xaxis().set_visible(False)\n",
        "    frame.axes.get_yaxis().set_visible(False)\n",
        "    count+=1\n",
        "plt.show()"
      ],
      "execution_count": 0,
      "outputs": [
        {
          "output_type": "display_data",
          "data": {
            "image/png": "[encoded data removed]",
            "text/plain": [
              "<Figure size 720x360 with 10 Axes>"
            ]
          },
          "metadata": {
            "tags": [],
            "needs_background": "light"
          }
        }
      ]
    },
    {
      "cell_type": "code",
      "metadata": {
        "id": "e7ps_eUxWioR",
        "colab_type": "code",
        "colab": {}
      },
      "source": [
        ""
      ],
      "execution_count": 0,
      "outputs": []
    }
  ]
}