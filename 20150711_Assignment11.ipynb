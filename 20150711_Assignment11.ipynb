{
  "nbformat": 4,
  "nbformat_minor": 0,
  "metadata": {
    "colab": {
      "name": "20150711_Assignment11.ipynb",
      "provenance": [],
      "collapsed_sections": [],
      "authorship_tag": "ABX9TyMPgUCd6xRhaXavMMJGw/qt",
      "include_colab_link": true
    },
    "kernelspec": {
      "name": "python3",
      "display_name": "Python 3"
    }
  },
  "cells": [
    {
      "cell_type": "markdown",
      "metadata": {
        "id": "view-in-github",
        "colab_type": "text"
      },
      "source": [
        "<a href=\"https://colab.research.google.com/github/thdgmltjd123/Assignment01/blob/master/20150711_Assignment11.ipynb\" target=\"_parent\"><img src=\"https://colab.research.google.com/assets/colab-badge.svg\" alt=\"Open In Colab\"/></a>"
      ]
    },
    {
      "cell_type": "code",
      "metadata": {
        "id": "SkmeZZ5zJuPL",
        "colab_type": "code",
        "outputId": "d2ceb5ee-2252-4fbf-cbb6-4a8c03d779e4",
        "colab": {
          "base_uri": "https://localhost:8080/",
          "height": 122
        }
      },
      "source": [
        "from google.colab import drive\n",
        "drive.mount('/content/drive')"
      ],
      "execution_count": 1,
      "outputs": [
        {
          "output_type": "stream",
          "text": [
            "Go to this URL in a browser: https://accounts.google.com/o/oauth2/auth?client_id=947318989803-6bn6qk8qdgf4n4g3pfee6491hc0brc4i.apps.googleusercontent.com&redirect_uri=urn%3aietf%3awg%3aoauth%3a2.0%3aoob&response_type=code&scope=email%20https%3a%2f%2fwww.googleapis.com%2fauth%2fdocs.test%20https%3a%2f%2fwww.googleapis.com%2fauth%2fdrive%20https%3a%2f%2fwww.googleapis.com%2fauth%2fdrive.photos.readonly%20https%3a%2f%2fwww.googleapis.com%2fauth%2fpeopleapi.readonly\n",
            "\n",
            "Enter your authorization code:\n",
            "··········\n",
            "Mounted at /content/drive\n"
          ],
          "name": "stdout"
        }
      ]
    },
    {
      "cell_type": "code",
      "metadata": {
        "id": "EpIUviIeqv1K",
        "colab_type": "code",
        "colab": {
          "base_uri": "https://localhost:8080/",
          "height": 85
        },
        "outputId": "075149a2-aea8-43af-f722-6ee3174a747a"
      },
      "source": [
        "import numpy as np\n",
        "import re\n",
        "import nltk\n",
        "from sklearn.datasets import load_files\n",
        "nltk.download('stopwords')\n",
        "nltk.download('wordnet')\n",
        "import pickle\n",
        "from nltk.corpus import stopwords\n",
        "from nltk.stem import WordNetLemmatizer\n",
        "from sklearn.feature_extraction.text import CountVectorizer\n",
        "from sklearn.feature_extraction.text import TfidfTransformer\n",
        "from sklearn.model_selection import train_test_split\n",
        "import matplotlib.pyplot as plt\n",
        "\n",
        "\n",
        "review_data = load_files(r\"/content/drive/My Drive/Colab Notebooks/movie_review\",categories = ['pos','neg'])\n",
        "X, y = review_data.data, review_data.target"
      ],
      "execution_count": 128,
      "outputs": [
        {
          "output_type": "stream",
          "text": [
            "[nltk_data] Downloading package stopwords to /root/nltk_data...\n",
            "[nltk_data]   Package stopwords is already up-to-date!\n",
            "[nltk_data] Downloading package wordnet to /root/nltk_data...\n",
            "[nltk_data]   Package wordnet is already up-to-date!\n"
          ],
          "name": "stdout"
        }
      ]
    },
    {
      "cell_type": "code",
      "metadata": {
        "id": "fitW-_szKBJ5",
        "colab_type": "code",
        "colab": {}
      },
      "source": [
        "documents = []\n",
        "\n",
        "stemmer = WordNetLemmatizer()\n",
        "\n",
        "for sen in range(0, len(X)):\n",
        "    #바이트 형을 문자형으로 바꾸면 '같은 것에 \\ 이 붙기때문에 그걸 없애주는 변환 \n",
        "    document = X[sen].decode('utf-8')\n",
        "    #개행 문자 제거\n",
        "    document = re.sub(r\"\\s+\",\" \",document)\n",
        "    #문자,숫자가 아닌 것들 모조리 제거(특수문자)\n",
        "    document = re.sub(r\"\\W\", ' ',document)\n",
        "    #띄어쓰기 문자 띄어쓰기 형태 모조리 제거\n",
        "    document = re.sub(r'\\s+[a-zA-Z]\\s+', ' ', document)\n",
        "    #처음에 문자로 시작하고 띄어쓰는 형태 제거\n",
        "    document = re.sub(r'^[a-zA-Z]\\s+', ' ', document)\n",
        "    #띄어쓰기 문자 띄어쓰기 형태 모조리 제거 한번더 \n",
        "    document = re.sub(r'\\s+[a-zA-Z]\\s+', ' ', document)\n",
        "    #공백이 여러개 있는 것을 한개로 줄이기\n",
        "    document = re.sub(r\"\\s+\",\" \",document)\n",
        "    \n",
        "    # Converting to Lowercase\n",
        "    document = document.lower()\n",
        "    \n",
        "    # Lemmatization\n",
        "    document = document.split()\n",
        "    document = [stemmer.lemmatize(word) for word in document]\n",
        "    document = ' '.join(document)\n",
        "    \n",
        "    documents.append(document)\n"
      ],
      "execution_count": 0,
      "outputs": []
    },
    {
      "cell_type": "code",
      "metadata": {
        "id": "8itfE2uKpSgo",
        "colab_type": "code",
        "colab": {
          "base_uri": "https://localhost:8080/",
          "height": 136
        },
        "outputId": "721cd0df-d7e0-44ba-a026-52e038f0efd2"
      },
      "source": [
        "vectorizer = CountVectorizer(max_features = 3000,min_df =30, stop_words=stopwords.words('english'),max_df = 0.7)\n",
        "X = vectorizer.fit_transform(documents).toarray()\n",
        "print(X.shape)\n",
        "unique_elements, counts_elements = np.unique(X[0], return_counts=True)\n",
        "print(\"Frequency of unique values of the said array:\")\n",
        "print(np.asarray((unique_elements, counts_elements)))\n",
        "tfidfconverter = TfidfTransformer()\n",
        "X = tfidfconverter.fit_transform(X).toarray()\n",
        "print(X.shape)\n",
        "\n",
        "X_train, X_test, y_train, y_test = train_test_split(X, y, test_size=0.3, shuffle=False)\n",
        "X_train, X_test = X_train.T, X_test.T\n",
        "print(X_train.shape)\n",
        "print(X_test.shape)"
      ],
      "execution_count": 271,
      "outputs": [
        {
          "output_type": "stream",
          "text": [
            "(2002, 3000)\n",
            "Frequency of unique values of the said array:\n",
            "[[   0    1    2    3    4    5    6    8]\n",
            " [2739  179   53   20    4    1    3    1]]\n",
            "(2002, 3000)\n",
            "(3000, 1401)\n",
            "(3000, 601)\n"
          ],
          "name": "stdout"
        }
      ]
    },
    {
      "cell_type": "code",
      "metadata": {
        "id": "tNKWYT55KBIX",
        "colab_type": "code",
        "colab": {}
      },
      "source": [
        "# 초기 값 세타들 만들기\n",
        "def make_parameter(dim1, dim2):\n",
        "  return np.random.normal(0,5,size = (dim1, dim2))\n",
        "\n",
        "# 시그모이드\n",
        "def sigmoid(z):\n",
        "  return 1 / (1 + np.exp(-z))\n",
        "\n",
        "# 미분한 시그모이드\n",
        "def diff_sigmoid(sigmoid):\n",
        "  return sigmoid * (1 - sigmoid)\n",
        "\n",
        "# 이미지 값에 편향 더해주는 함수\n",
        "def add_bias(data):\n",
        "  col_len = data.shape[1]\n",
        "  bias = np.ones((1,col_len),dtype = float)\n",
        "  data = np.append(bias, data, axis = 0)\n",
        "  return data\n",
        "\n",
        "#에너지 함수\n",
        "def energy(last_layer_sigmoid, onehot_label,theta_li, param_regul):\n",
        "  hap = 0\n",
        "  length = 0\n",
        "  for i in theta_li:\n",
        "    length += i.shape[0]*i.shape[1]\n",
        "    hap += np.sum(i**2)\n",
        "  return np.mean(np.sum(-onehot_label*np.log(last_layer_sigmoid+1e-9)-(1-onehot_label)*np.log(1-last_layer_sigmoid+1e-9),axis = 0)) + (param_regul * hap) / (2*length)\n",
        "\n",
        "#예측함수  \n",
        "def predict(X,theta_li):\n",
        "  pred = np.empty(X.shape[1],dtype = int)\n",
        "  for i in theta_li:\n",
        "    bias_X = add_bias(X)\n",
        "    X = np.dot(i,bias_X)\n",
        "    X = sigmoid(X)\n",
        "  \n",
        "  pred = np.where(X >= 0.5, 1, 0)\n",
        "  return pred\n",
        "\n",
        "#정확도 함수\n",
        "def accuracy(Y_pred, label):\n",
        "  return np.mean(Y_pred == label)\n",
        "\n",
        "def gradient(last_layer_sigmoid, theta_li, xyz_li, onehotlabel, param_regul):\n",
        "  length = len(onehotlabel)\n",
        "  n = 0\n",
        "  back_li = []\n",
        "  ba = back_li.append\n",
        "  gradient_li = []\n",
        "  ga = gradient_li.append\n",
        "  for i in theta_li:\n",
        "    n += i.shape[0]*i.shape[1] \n",
        "  theta_li = theta_li[::-1]\n",
        "  xyz_li = xyz_li[::-1]\n",
        "  #back_li 만들기\n",
        "  for i in range(len(theta_li)):\n",
        "    if i == 0:\n",
        "      ba((last_layer_sigmoid - onehotlabel))\n",
        "    else:\n",
        "      ba(np.dot(theta_li[i-1][:,1:].T,back_li[i-1]) * diff_sigmoid(xyz_li[i-1]))\n",
        "  #gradient_li 만들기\n",
        "  for i in range(len(theta_li)):\n",
        "    gradient = (np.dot(back_li[i],add_bias(xyz_li[i]).T) / length) + ((param_regul * theta_li[i]) / n)\n",
        "    ga(gradient)\n",
        "  gradient_li = gradient_li[::-1]\n",
        "  return gradient_li\n",
        "\n",
        "#학습 함수\n",
        "def fit(X, X_test, Y, Y_test, theta_li, alpha,param_regul):\n",
        "  #return 시 필요한 array 생성\n",
        "  train_energy_val = []\n",
        "  test_energy_val = []\n",
        "  train_accu_val = [0]\n",
        "  test_accu_val = [0]\n",
        "  length = X.shape[1]\n",
        "  lr = alpha\n",
        "  #반복 수 15000회\n",
        "  epoch = 15000\n",
        "  #진행상황을 알려주는 변수\n",
        "  count = 1\n",
        "  for k in range(epoch):\n",
        "    if(k!=0 and k%1500 == 0):\n",
        "      print(\"{}% 완료\".format(10*count))\n",
        "      count+=1\n",
        "    #원본 보존하기\n",
        "    temp_X = X.copy()\n",
        "    test_X = X_test.copy()\n",
        "    #gradient descent를 위한 각 층별 결과물을 저장하는 리스트\n",
        "    xyz_li = [X_train]\n",
        "    #forward propagation(train, test)\n",
        "    for i in theta_li:\n",
        "      bias_X = add_bias(temp_X)\n",
        "      test_bias_X = add_bias(test_X)\n",
        "      temp_X = np.dot(i,bias_X)\n",
        "      test_X = np.dot(i,test_bias_X)\n",
        "      temp_X = sigmoid(temp_X)\n",
        "      test_X = sigmoid(test_X)\n",
        "      if not np.array_equal(i,theta_li[-1]):\n",
        "        xyz_li.append(temp_X)\n",
        "    \n",
        "    #energy 계산\n",
        "    temp_energy = energy(temp_X, Y,theta_li, param_regul)\n",
        "    test_energy = energy(test_X, Y_test,theta_li, param_regul)\n",
        "    train_energy_val.append(temp_energy)\n",
        "    test_energy_val.append(test_energy)\n",
        "\n",
        "    #backward propagation\n",
        "    gradient_li = gradient(temp_X,theta_li, xyz_li, Y, param_regul)\n",
        "    for i in range(len(theta_li)):\n",
        "      theta_li[i] -= lr * gradient_li[i]\n",
        "\n",
        "    pred = predict(X,theta_li)\n",
        "    test_pred = predict(X_test,theta_li)\n",
        "    train_accu_val.append(accuracy(pred,Y))\n",
        "    test_accu_val.append(accuracy(test_pred,Y_test))\n",
        "    \n",
        "  return train_energy_val,train_accu_val,test_energy_val,test_accu_val, pred, test_pred"
      ],
      "execution_count": 0,
      "outputs": []
    },
    {
      "cell_type": "code",
      "metadata": {
        "id": "URBEtQ_aKBDL",
        "colab_type": "code",
        "outputId": "e520022f-4d2e-4e17-fded-b3d3ec50978b",
        "colab": {
          "base_uri": "https://localhost:8080/",
          "height": 170
        },
        "cellView": "both"
      },
      "source": [
        "theta_li = []\n",
        "# 층별 파라미터 차원에 맞게 정의하기\n",
        "# single 2layer 2n+d applied\n",
        "theta_li.append(make_parameter(2,3001))\n",
        "theta_li.append(make_parameter(1,3))\n",
        "\n",
        "#학습률\n",
        "alpha = 2.5\n",
        "#학습\n",
        "train_energy_val, train_accu_val, test_energy_val, test_accu_val, y_pred_train, y_pred_test = fit(X_train,X_test,y_train,y_test,theta_li,alpha,1)"
      ],
      "execution_count": 345,
      "outputs": [
        {
          "output_type": "stream",
          "text": [
            "10% 완료\n",
            "20% 완료\n",
            "30% 완료\n",
            "40% 완료\n",
            "50% 완료\n",
            "60% 완료\n",
            "70% 완료\n",
            "80% 완료\n",
            "90% 완료\n"
          ],
          "name": "stdout"
        }
      ]
    },
    {
      "cell_type": "markdown",
      "metadata": {
        "id": "HRuMTIkD4qfS",
        "colab_type": "text"
      },
      "source": [
        "# **Computation Area is all Done!**"
      ]
    },
    {
      "cell_type": "markdown",
      "metadata": {
        "id": "2SXZmNmC4xvQ",
        "colab_type": "text"
      },
      "source": [
        "# **Plot the loss curve**"
      ]
    },
    {
      "cell_type": "code",
      "metadata": {
        "id": "duZ9eU5fKA7N",
        "colab_type": "code",
        "colab": {
          "base_uri": "https://localhost:8080/",
          "height": 414
        },
        "outputId": "9786d874-fff5-484d-bf0e-dbccd5c3afe3"
      },
      "source": [
        "plt.figure(figsize = (6,6))\n",
        "plt.title(\"error graph\",fontsize = 20)\n",
        "plt.xlabel(\"# of iter\",fontsize = 15)\n",
        "plt.ylabel(\"values\", fontsize = 15)\n",
        "plt.plot(train_energy_val,c = \"b\",label = \"train error\")\n",
        "plt.plot(test_energy_val,c = \"r\",label = \"test error\")\n",
        "plt.legend(loc = \"best\")\n",
        "plt.show()"
      ],
      "execution_count": 346,
      "outputs": [
        {
          "output_type": "display_data",
          "data": {
            "image/png": "[encoded data removed]",
            "text/plain": [
              "<Figure size 432x432 with 1 Axes>"
            ]
          },
          "metadata": {
            "tags": [],
            "needs_background": "light"
          }
        }
      ]
    },
    {
      "cell_type": "markdown",
      "metadata": {
        "id": "5202xlmh47BF",
        "colab_type": "text"
      },
      "source": [
        "# **Plot the accuracy curve**"
      ]
    },
    {
      "cell_type": "code",
      "metadata": {
        "id": "Pp_mRUGYKA3v",
        "colab_type": "code",
        "colab": {}
      },
      "source": [
        "plt.figure(figsize = (6,6))\n",
        "plt.title(\"accuracy graph\",fontsize = 20)\n",
        "plt.xlabel(\"# of iter\",fontsize = 15)\n",
        "plt.ylabel(\"values\", fontsize = 15)\n",
        "plt.plot(train_accu_val,c = \"b\",label = \"train_accuracy\")\n",
        "plt.plot(test_accu_val,c = \"r\",label = \"test_accuracy\")\n",
        "plt.legend(loc = \"best\")\n",
        "plt.show()"
      ],
      "execution_count": 0,
      "outputs": []
    },
    {
      "cell_type": "code",
      "metadata": {
        "id": "QPpcaj8MKAWU",
        "colab_type": "code",
        "colab": {
          "base_uri": "https://localhost:8080/",
          "height": 34
        },
        "outputId": "6aaed3cf-84b9-48d8-b990-8893a285f175"
      },
      "source": [
        "max(test_accu_val)"
      ],
      "execution_count": 350,
      "outputs": [
        {
          "output_type": "execute_result",
          "data": {
            "text/plain": [
              "0.8336106489184693"
            ]
          },
          "metadata": {
            "tags": []
          },
          "execution_count": 350
        }
      ]
    },
    {
      "cell_type": "markdown",
      "metadata": {
        "id": "Cz69QpIB4_4F",
        "colab_type": "text"
      },
      "source": [
        "# **Plot the quantitative result**"
      ]
    },
    {
      "cell_type": "code",
      "metadata": {
        "id": "m760PFQj4jmB",
        "colab_type": "code",
        "colab": {}
      },
      "source": [
        "from sklearn.metrics import classification_report, confusion_matrix, accuracy_score\n",
        "\n",
        "print(confusion_matrix(y_train,y_pred_train))\n",
        "print(classification_report(y_train,y_pred_train))\n",
        "print(accuracy_score(y_train, y_pred_train))\n",
        "\n",
        "print(confusion_matrix(y_test,y_pred_test))\n",
        "print(classification_report(y_test,y_pred_test))\n",
        "print(accuracy_score(y_test, y_pred_test)"
      ],
      "execution_count": 0,
      "outputs": []
    },
    {
      "cell_type": "markdown",
      "metadata": {
        "id": "RkzHuBVs5IPw",
        "colab_type": "text"
      },
      "source": [
        "# **Final Test Accuracy**"
      ]
    },
    {
      "cell_type": "code",
      "metadata": {
        "id": "-iExWLSS5JEg",
        "colab_type": "code",
        "colab": {}
      },
      "source": [
        "print(\"Final Test Accuracy : {}%\".format(test_accu_val[-1]*100))"
      ],
      "execution_count": 0,
      "outputs": []
    }
  ]
}